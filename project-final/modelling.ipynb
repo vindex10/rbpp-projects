{
 "cells": [
  {
   "cell_type": "markdown",
   "metadata": {},
   "source": [
    "## Modelling\n",
    "\n",
    "In this chapter we are going to train few simple classifiers, discover issues specific to the dataset, present several ways to target them in future model developments."
   ]
  },
  {
   "cell_type": "code",
   "execution_count": 1,
   "metadata": {
    "tags": [
     "hide"
    ]
   },
   "outputs": [],
   "source": [
    "import os\n",
    "from itertools import chain\n",
    "from functools import partial\n",
    "\n",
    "import numpy as np\n",
    "import scipy as sp\n",
    "from scipy import sparse\n",
    "import pandas as pd\n",
    "import matplotlib.pyplot as plt\n",
    "plt.rcParams[\"figure.figsize\"] = (12, 8)\n",
    "plt.rcParams[\"font.size\"] = 14\n",
    "\n",
    "from sklearn.pipeline import Pipeline\n",
    "from sklearn.base import TransformerMixin\n",
    "\n",
    "from sklearn.model_selection import train_test_split\n",
    "from sklearn.preprocessing import LabelEncoder\n",
    "\n",
    "from sklearn.ensemble import GradientBoostingClassifier\n",
    "from sklearn.ensemble import AdaBoostClassifier\n",
    "from sklearn.ensemble import RandomForestClassifier\n",
    "from xgboost import XGBClassifier\n",
    "\n",
    "from sklearn.model_selection import GridSearchCV\n",
    "\n",
    "from sklearn.metrics import confusion_matrix\n",
    "from sklearn.metrics import ConfusionMatrixDisplay\n",
    "from sklearn.metrics import auc\n",
    "\n",
    "from imblearn.ensemble import EasyEnsembleClassifier"
   ]
  },
  {
   "cell_type": "code",
   "execution_count": 2,
   "metadata": {
    "tags": [
     "hide"
    ]
   },
   "outputs": [],
   "source": [
    "data_path = \"/afs/cern.ch/user/a/ananiev/cernbox/output/\""
   ]
  },
  {
   "cell_type": "code",
   "execution_count": 3,
   "metadata": {
    "tags": [
     "hide"
    ]
   },
   "outputs": [],
   "source": [
    "data = pd.read_csv(os.path.join(data_path, \"hgg_features.tsv\"), sep=\"\\t\")"
   ]
  },
  {
   "cell_type": "code",
   "execution_count": 4,
   "metadata": {},
   "outputs": [],
   "source": [
    "RANDOM_STATE = 23"
   ]
  },
  {
   "cell_type": "markdown",
   "metadata": {},
   "source": [
    "## Descriptive statistics"
   ]
  },
  {
   "cell_type": "markdown",
   "metadata": {},
   "source": [
    "First of all let's look at the event counts, and how the weights are distributed among these events:\n",
    "\n",
    "* **event_num** — number of events per process\n",
    "* **weight_sums** — sum of weights per process\n",
    "* **weight_frac** — fraction of weights per process normalized to the total weight of all events\n",
    "* **weight_per_event** — average weight of event within the process"
   ]
  },
  {
   "cell_type": "code",
   "execution_count": 5,
   "metadata": {
    "tags": [
     "hide_input"
    ]
   },
   "outputs": [
    {
     "data": {
      "text/html": [
       "<div>\n",
       "<style scoped>\n",
       "    .dataframe tbody tr th:only-of-type {\n",
       "        vertical-align: middle;\n",
       "    }\n",
       "\n",
       "    .dataframe tbody tr th {\n",
       "        vertical-align: top;\n",
       "    }\n",
       "\n",
       "    .dataframe thead th {\n",
       "        text-align: right;\n",
       "    }\n",
       "</style>\n",
       "<table border=\"1\" class=\"dataframe\">\n",
       "  <thead>\n",
       "    <tr style=\"text-align: right;\">\n",
       "      <th></th>\n",
       "      <th>event_num</th>\n",
       "      <th>weight_sums</th>\n",
       "      <th>weight_frac</th>\n",
       "      <th>weight_per_event</th>\n",
       "    </tr>\n",
       "  </thead>\n",
       "  <tbody>\n",
       "    <tr>\n",
       "      <th>VBF</th>\n",
       "      <td>61021</td>\n",
       "      <td>5.649031e-04</td>\n",
       "      <td>0.080207</td>\n",
       "      <td>9.257520e-09</td>\n",
       "    </tr>\n",
       "    <tr>\n",
       "      <th>Wp</th>\n",
       "      <td>12905</td>\n",
       "      <td>1.033396e-04</td>\n",
       "      <td>0.014673</td>\n",
       "      <td>8.007720e-09</td>\n",
       "    </tr>\n",
       "    <tr>\n",
       "      <th>Z</th>\n",
       "      <td>26377</td>\n",
       "      <td>9.719725e-05</td>\n",
       "      <td>0.013800</td>\n",
       "      <td>3.684924e-09</td>\n",
       "    </tr>\n",
       "    <tr>\n",
       "      <th>gg</th>\n",
       "      <td>121078</td>\n",
       "      <td>6.277415e-03</td>\n",
       "      <td>0.891295</td>\n",
       "      <td>5.184604e-08</td>\n",
       "    </tr>\n",
       "    <tr>\n",
       "      <th>tt</th>\n",
       "      <td>59236</td>\n",
       "      <td>1.730808e-07</td>\n",
       "      <td>0.000025</td>\n",
       "      <td>2.921885e-12</td>\n",
       "    </tr>\n",
       "  </tbody>\n",
       "</table>\n",
       "</div>"
      ],
      "text/plain": [
       "     event_num   weight_sums  weight_frac  weight_per_event\n",
       "VBF      61021  5.649031e-04     0.080207      9.257520e-09\n",
       "Wp       12905  1.033396e-04     0.014673      8.007720e-09\n",
       "Z        26377  9.719725e-05     0.013800      3.684924e-09\n",
       "gg      121078  6.277415e-03     0.891295      5.184604e-08\n",
       "tt       59236  1.730808e-07     0.000025      2.921885e-12"
      ]
     },
     "execution_count": 5,
     "metadata": {},
     "output_type": "execute_result"
    }
   ],
   "source": [
    "def weight_descriptive(data):\n",
    "    res = {}\n",
    "    \n",
    "    event_counts = data[\"label\"].value_counts().sort_values(ascending=False)\n",
    "    res[\"event_num\"] = event_counts\n",
    "    \n",
    "    weight_sums = data.groupby(\"label\")[\"weight\"].sum().sort_values(ascending=False)\n",
    "    res[\"weight_sums\"] = weight_sums\n",
    "    \n",
    "    weight_frac = weight_sums/data[\"weight\"].sum()\n",
    "    res[\"weight_frac\"] = weight_frac\n",
    "    \n",
    "    weight_per_event = weight_sums/event_counts\n",
    "    res[\"weight_per_event\"] = weight_per_event\n",
    "    \n",
    "    return pd.DataFrame(res)\n",
    "weight_descriptive(data)"
   ]
  },
  {
   "cell_type": "markdown",
   "metadata": {},
   "source": [
    "To summarize:\n",
    "\n",
    "* **tt** events are not a lot, and they have relatively small weight\n",
    "* **Wp**, **Z** are quite few, but the weight is significant\n",
    "* **VBF** are quite a lot and the weight is mediocre\n",
    "* **gg** are the decent majority, while their weight is quite small"
   ]
  },
  {
   "cell_type": "markdown",
   "metadata": {},
   "source": [
    "Also we list features we can use during training:"
   ]
  },
  {
   "cell_type": "code",
   "execution_count": 6,
   "metadata": {
    "tags": [
     "hide_input"
    ]
   },
   "outputs": [
    {
     "data": {
      "text/plain": [
       "Index(['photon_n', 'photon_1lead_pt', 'photon_1lead_eta', 'photon_1lead_phi',\n",
       "       'photon_1lead_E', 'photon_1lead_etcone20', 'photon_2lead_pt',\n",
       "       'photon_2lead_eta', 'photon_2lead_phi', 'photon_2lead_E',\n",
       "       'photon_2lead_etcone20', 'h_mass', 'lep_n', 'lep_pt_min', 'lep_pt_max',\n",
       "       'lep_pt_mean', 'lep_pt_sum', 'lep_pt_std', 'lep_phi_min', 'lep_phi_max',\n",
       "       'lep_phi_mean', 'lep_phi_sum', 'lep_phi_std', 'lep_E_min', 'lep_E_max',\n",
       "       'lep_E_mean', 'lep_E_sum', 'lep_E_std', 'lep_theta_min',\n",
       "       'lep_theta_max', 'lep_theta_mean', 'lep_theta_sum', 'lep_theta_std',\n",
       "       'lep_charge_min', 'lep_charge_max', 'lep_charge_mean', 'lep_charge_sum',\n",
       "       'lep_charge_std', 'lep_z0_min', 'lep_z0_max', 'lep_z0_mean',\n",
       "       'lep_z0_sum', 'lep_z0_std', 'lep_ptcone30_min', 'lep_ptcone30_max',\n",
       "       'lep_ptcone30_mean', 'lep_ptcone30_sum', 'lep_ptcone30_std',\n",
       "       'lep_etcone20_min', 'lep_etcone20_max', 'lep_etcone20_mean',\n",
       "       'lep_etcone20_sum', 'lep_etcone20_std', 'weight', 'met_et', 'met_phi',\n",
       "       'label'],\n",
       "      dtype='object')"
      ]
     },
     "execution_count": 6,
     "metadata": {},
     "output_type": "execute_result"
    }
   ],
   "source": [
    "data.columns"
   ]
  },
  {
   "cell_type": "markdown",
   "metadata": {},
   "source": [
    "Let's train baseline model with ensemble of trees in order to identify at least somewhat relevant features to the analysis"
   ]
  },
  {
   "cell_type": "code",
   "execution_count": 7,
   "metadata": {
    "tags": [
     "hide"
    ]
   },
   "outputs": [],
   "source": [
    "def train_test_val_split(dataset, target, test_size, val_size, *args, **kwargs):\n",
    "    shuffle = kwargs.get(\"shuffle\", True)\n",
    "    del kwargs[\"shuffle\"]\n",
    "    X_train_val, X_test, y_train_val, y_test = train_test_split(data.drop(columns=[target]), data[target], *args, test_size=test_size, shuffle=shuffle, **kwargs)\n",
    "    X_train, X_val, y_train, y_val = train_test_split(X_train_val, y_train_val, test_size=val_size, shuffle=False, **kwargs)\n",
    "    return (pd.concat([X_train, y_train], axis=\"columns\"),\n",
    "            pd.concat([X_val, y_val], axis=\"columns\"),\n",
    "            pd.concat([X_test, y_test], axis=\"columns\"))"
   ]
  },
  {
   "cell_type": "markdown",
   "metadata": {},
   "source": [
    "We split dataset into training, validation and test samples. Test sample constitute 20% of the data, while validation sample is 8%. Rest 72% are training samples."
   ]
  },
  {
   "cell_type": "code",
   "execution_count": 8,
   "metadata": {},
   "outputs": [],
   "source": [
    "d_train, d_val, d_test = train_test_val_split(data, \"label\", 0.2, 0.1, shuffle=True, random_state=RANDOM_STATE)"
   ]
  },
  {
   "cell_type": "code",
   "execution_count": 9,
   "metadata": {
    "tags": [
     "hide"
    ]
   },
   "outputs": [],
   "source": [
    "class KeepFeatures(TransformerMixin):\n",
    "    def __init__(self, features):\n",
    "        self.features = features\n",
    "        \n",
    "    def fit(self, X, y=None, **fit_params):\n",
    "        return self\n",
    "    \n",
    "    def transform(self, X, y=None, **fit_params):\n",
    "        return X[self.features].copy()"
   ]
  },
  {
   "cell_type": "code",
   "execution_count": 10,
   "metadata": {
    "tags": [
     "hide"
    ]
   },
   "outputs": [],
   "source": [
    "class FillNa(TransformerMixin):\n",
    "    def __init__(self, mapping):\n",
    "        if isinstance(mapping, dict):\n",
    "            self.mapping = mapping\n",
    "            self.value = None\n",
    "        else:\n",
    "            self.value = mapping\n",
    "            self.mapping = None\n",
    "    \n",
    "    def fit(self, X, y=None, **fit_params):\n",
    "        return self\n",
    "    \n",
    "    def transform(self, X, y=None, **fit_params):\n",
    "        res = X.copy()\n",
    "        if self.mapping is not None:\n",
    "            for col, val in self.mapping.items():\n",
    "                res[col].fillna(val, inplace=True)\n",
    "        if self.value is not None:\n",
    "            res.fillna(self.value, inplace=True)\n",
    "        return res"
   ]
  },
  {
   "cell_type": "code",
   "execution_count": 11,
   "metadata": {
    "tags": [
     "hide"
    ]
   },
   "outputs": [],
   "source": [
    "def pipeline_maker(pipeline, *args,  **kwargs):\n",
    "    def instantiate():\n",
    "        return pipeline(*args, **kwargs)\n",
    "    return instantiate"
   ]
  },
  {
   "cell_type": "markdown",
   "metadata": {},
   "source": [
    "Initially we choose features describing the event in general (e.g. photon number, lepton number, missing energy), then, since two photons are important features of the event we pick two the most energetic photons and include all the features describing them in detail (e.g. eta, phi, pt, E). Then we include aggregated features for leptons, like sum of phi, sum of energies, sum of theta. Finally, we include `h_mass`.\n",
    "\n",
    "Sometimes there are no leptons in the event, then we impose zero values for all the features describing them.\n",
    "\n",
    "Find the full feature list below."
   ]
  },
  {
   "cell_type": "code",
   "execution_count": 12,
   "metadata": {},
   "outputs": [
    {
     "data": {
      "text/html": [
       "<div>\n",
       "<style scoped>\n",
       "    .dataframe tbody tr th:only-of-type {\n",
       "        vertical-align: middle;\n",
       "    }\n",
       "\n",
       "    .dataframe tbody tr th {\n",
       "        vertical-align: top;\n",
       "    }\n",
       "\n",
       "    .dataframe thead th {\n",
       "        text-align: right;\n",
       "    }\n",
       "</style>\n",
       "<table border=\"1\" class=\"dataframe\">\n",
       "  <thead>\n",
       "    <tr style=\"text-align: right;\">\n",
       "      <th></th>\n",
       "      <th>photon_n</th>\n",
       "      <th>photon_1lead_pt</th>\n",
       "      <th>photon_1lead_eta</th>\n",
       "      <th>photon_1lead_phi</th>\n",
       "      <th>photon_1lead_E</th>\n",
       "      <th>photon_1lead_etcone20</th>\n",
       "      <th>photon_2lead_pt</th>\n",
       "      <th>photon_2lead_eta</th>\n",
       "      <th>photon_2lead_phi</th>\n",
       "      <th>photon_2lead_E</th>\n",
       "      <th>...</th>\n",
       "      <th>lep_phi_mean</th>\n",
       "      <th>lep_phi_std</th>\n",
       "      <th>lep_E_sum</th>\n",
       "      <th>lep_theta_mean</th>\n",
       "      <th>lep_theta_std</th>\n",
       "      <th>lep_charge_sum</th>\n",
       "      <th>lep_ptcone30_sum</th>\n",
       "      <th>lep_etcone20_sum</th>\n",
       "      <th>label</th>\n",
       "      <th>weight</th>\n",
       "    </tr>\n",
       "  </thead>\n",
       "  <tbody>\n",
       "    <tr>\n",
       "      <th>268590</th>\n",
       "      <td>2</td>\n",
       "      <td>58372.110</td>\n",
       "      <td>0.481853</td>\n",
       "      <td>1.889242</td>\n",
       "      <td>65280.734</td>\n",
       "      <td>-956.71640</td>\n",
       "      <td>48145.110</td>\n",
       "      <td>1.724146</td>\n",
       "      <td>-1.356490</td>\n",
       "      <td>139285.110</td>\n",
       "      <td>...</td>\n",
       "      <td>0.000000</td>\n",
       "      <td>0.00000</td>\n",
       "      <td>0.00</td>\n",
       "      <td>0.000000</td>\n",
       "      <td>0.000000</td>\n",
       "      <td>0</td>\n",
       "      <td>0.0</td>\n",
       "      <td>0.00000</td>\n",
       "      <td>gg</td>\n",
       "      <td>3.958069e-08</td>\n",
       "    </tr>\n",
       "    <tr>\n",
       "      <th>43080</th>\n",
       "      <td>2</td>\n",
       "      <td>229317.270</td>\n",
       "      <td>0.762101</td>\n",
       "      <td>1.533991</td>\n",
       "      <td>299196.900</td>\n",
       "      <td>-1804.33690</td>\n",
       "      <td>85816.920</td>\n",
       "      <td>0.511017</td>\n",
       "      <td>0.655814</td>\n",
       "      <td>97267.940</td>\n",
       "      <td>...</td>\n",
       "      <td>0.000000</td>\n",
       "      <td>0.00000</td>\n",
       "      <td>0.00</td>\n",
       "      <td>0.000000</td>\n",
       "      <td>0.000000</td>\n",
       "      <td>0</td>\n",
       "      <td>0.0</td>\n",
       "      <td>0.00000</td>\n",
       "      <td>tt</td>\n",
       "      <td>-4.200527e-12</td>\n",
       "    </tr>\n",
       "    <tr>\n",
       "      <th>249823</th>\n",
       "      <td>2</td>\n",
       "      <td>76091.230</td>\n",
       "      <td>-0.271051</td>\n",
       "      <td>2.498819</td>\n",
       "      <td>78903.540</td>\n",
       "      <td>-240.93822</td>\n",
       "      <td>51134.625</td>\n",
       "      <td>-0.885657</td>\n",
       "      <td>-0.948343</td>\n",
       "      <td>72535.000</td>\n",
       "      <td>...</td>\n",
       "      <td>0.000000</td>\n",
       "      <td>0.00000</td>\n",
       "      <td>0.00</td>\n",
       "      <td>0.000000</td>\n",
       "      <td>0.000000</td>\n",
       "      <td>0</td>\n",
       "      <td>0.0</td>\n",
       "      <td>0.00000</td>\n",
       "      <td>gg</td>\n",
       "      <td>6.397519e-08</td>\n",
       "    </tr>\n",
       "    <tr>\n",
       "      <th>207150</th>\n",
       "      <td>2</td>\n",
       "      <td>104560.340</td>\n",
       "      <td>-0.122680</td>\n",
       "      <td>-0.021189</td>\n",
       "      <td>105348.164</td>\n",
       "      <td>-262.15533</td>\n",
       "      <td>49661.210</td>\n",
       "      <td>0.171808</td>\n",
       "      <td>1.953999</td>\n",
       "      <td>50395.965</td>\n",
       "      <td>...</td>\n",
       "      <td>0.000000</td>\n",
       "      <td>0.00000</td>\n",
       "      <td>0.00</td>\n",
       "      <td>0.000000</td>\n",
       "      <td>0.000000</td>\n",
       "      <td>0</td>\n",
       "      <td>0.0</td>\n",
       "      <td>0.00000</td>\n",
       "      <td>tt</td>\n",
       "      <td>6.542525e-12</td>\n",
       "    </tr>\n",
       "    <tr>\n",
       "      <th>208366</th>\n",
       "      <td>2</td>\n",
       "      <td>60886.160</td>\n",
       "      <td>-0.230575</td>\n",
       "      <td>1.790319</td>\n",
       "      <td>62511.840</td>\n",
       "      <td>-417.62520</td>\n",
       "      <td>44209.543</td>\n",
       "      <td>-2.280501</td>\n",
       "      <td>1.775367</td>\n",
       "      <td>218479.450</td>\n",
       "      <td>...</td>\n",
       "      <td>0.000000</td>\n",
       "      <td>0.00000</td>\n",
       "      <td>0.00</td>\n",
       "      <td>0.000000</td>\n",
       "      <td>0.000000</td>\n",
       "      <td>0</td>\n",
       "      <td>0.0</td>\n",
       "      <td>0.00000</td>\n",
       "      <td>tt</td>\n",
       "      <td>7.398494e-12</td>\n",
       "    </tr>\n",
       "    <tr>\n",
       "      <th>...</th>\n",
       "      <td>...</td>\n",
       "      <td>...</td>\n",
       "      <td>...</td>\n",
       "      <td>...</td>\n",
       "      <td>...</td>\n",
       "      <td>...</td>\n",
       "      <td>...</td>\n",
       "      <td>...</td>\n",
       "      <td>...</td>\n",
       "      <td>...</td>\n",
       "      <td>...</td>\n",
       "      <td>...</td>\n",
       "      <td>...</td>\n",
       "      <td>...</td>\n",
       "      <td>...</td>\n",
       "      <td>...</td>\n",
       "      <td>...</td>\n",
       "      <td>...</td>\n",
       "      <td>...</td>\n",
       "      <td>...</td>\n",
       "      <td>...</td>\n",
       "    </tr>\n",
       "    <tr>\n",
       "      <th>54183</th>\n",
       "      <td>2</td>\n",
       "      <td>79976.550</td>\n",
       "      <td>-0.453348</td>\n",
       "      <td>0.882136</td>\n",
       "      <td>88336.860</td>\n",
       "      <td>-520.47560</td>\n",
       "      <td>56892.867</td>\n",
       "      <td>-0.492723</td>\n",
       "      <td>-3.073204</td>\n",
       "      <td>63939.830</td>\n",
       "      <td>...</td>\n",
       "      <td>0.000000</td>\n",
       "      <td>0.00000</td>\n",
       "      <td>0.00</td>\n",
       "      <td>0.000000</td>\n",
       "      <td>0.000000</td>\n",
       "      <td>0</td>\n",
       "      <td>0.0</td>\n",
       "      <td>0.00000</td>\n",
       "      <td>VBF</td>\n",
       "      <td>1.164016e-08</td>\n",
       "    </tr>\n",
       "    <tr>\n",
       "      <th>11277</th>\n",
       "      <td>2</td>\n",
       "      <td>66324.640</td>\n",
       "      <td>1.054671</td>\n",
       "      <td>-2.999878</td>\n",
       "      <td>106760.660</td>\n",
       "      <td>-914.89844</td>\n",
       "      <td>51873.164</td>\n",
       "      <td>0.489214</td>\n",
       "      <td>-0.062816</td>\n",
       "      <td>58205.375</td>\n",
       "      <td>...</td>\n",
       "      <td>0.000000</td>\n",
       "      <td>0.00000</td>\n",
       "      <td>0.00</td>\n",
       "      <td>0.000000</td>\n",
       "      <td>0.000000</td>\n",
       "      <td>0</td>\n",
       "      <td>0.0</td>\n",
       "      <td>0.00000</td>\n",
       "      <td>Wp</td>\n",
       "      <td>5.586333e-09</td>\n",
       "    </tr>\n",
       "    <tr>\n",
       "      <th>266476</th>\n",
       "      <td>2</td>\n",
       "      <td>98814.510</td>\n",
       "      <td>-0.318616</td>\n",
       "      <td>0.287074</td>\n",
       "      <td>103872.700</td>\n",
       "      <td>-550.41810</td>\n",
       "      <td>58320.203</td>\n",
       "      <td>-0.143005</td>\n",
       "      <td>-1.677720</td>\n",
       "      <td>58917.555</td>\n",
       "      <td>...</td>\n",
       "      <td>0.000000</td>\n",
       "      <td>0.00000</td>\n",
       "      <td>0.00</td>\n",
       "      <td>0.000000</td>\n",
       "      <td>0.000000</td>\n",
       "      <td>0</td>\n",
       "      <td>0.0</td>\n",
       "      <td>0.00000</td>\n",
       "      <td>gg</td>\n",
       "      <td>6.580980e-08</td>\n",
       "    </tr>\n",
       "    <tr>\n",
       "      <th>124031</th>\n",
       "      <td>2</td>\n",
       "      <td>114924.820</td>\n",
       "      <td>-1.277359</td>\n",
       "      <td>-1.705627</td>\n",
       "      <td>222145.450</td>\n",
       "      <td>-465.48880</td>\n",
       "      <td>32608.330</td>\n",
       "      <td>-2.213135</td>\n",
       "      <td>0.601934</td>\n",
       "      <td>150873.860</td>\n",
       "      <td>...</td>\n",
       "      <td>-0.540576</td>\n",
       "      <td>1.94015</td>\n",
       "      <td>254815.25</td>\n",
       "      <td>-0.985533</td>\n",
       "      <td>0.155805</td>\n",
       "      <td>0</td>\n",
       "      <td>0.0</td>\n",
       "      <td>-651.01685</td>\n",
       "      <td>tt</td>\n",
       "      <td>6.348159e-12</td>\n",
       "    </tr>\n",
       "    <tr>\n",
       "      <th>185056</th>\n",
       "      <td>2</td>\n",
       "      <td>55735.242</td>\n",
       "      <td>1.552978</td>\n",
       "      <td>-1.803264</td>\n",
       "      <td>137586.330</td>\n",
       "      <td>-224.20319</td>\n",
       "      <td>53927.145</td>\n",
       "      <td>0.644007</td>\n",
       "      <td>1.511915</td>\n",
       "      <td>65502.027</td>\n",
       "      <td>...</td>\n",
       "      <td>0.000000</td>\n",
       "      <td>0.00000</td>\n",
       "      <td>0.00</td>\n",
       "      <td>0.000000</td>\n",
       "      <td>0.000000</td>\n",
       "      <td>0</td>\n",
       "      <td>0.0</td>\n",
       "      <td>0.00000</td>\n",
       "      <td>gg</td>\n",
       "      <td>6.623756e-08</td>\n",
       "    </tr>\n",
       "  </tbody>\n",
       "</table>\n",
       "<p>202043 rows × 25 columns</p>\n",
       "</div>"
      ],
      "text/plain": [
       "        photon_n  photon_1lead_pt  photon_1lead_eta  photon_1lead_phi  \\\n",
       "268590         2        58372.110          0.481853          1.889242   \n",
       "43080          2       229317.270          0.762101          1.533991   \n",
       "249823         2        76091.230         -0.271051          2.498819   \n",
       "207150         2       104560.340         -0.122680         -0.021189   \n",
       "208366         2        60886.160         -0.230575          1.790319   \n",
       "...          ...              ...               ...               ...   \n",
       "54183          2        79976.550         -0.453348          0.882136   \n",
       "11277          2        66324.640          1.054671         -2.999878   \n",
       "266476         2        98814.510         -0.318616          0.287074   \n",
       "124031         2       114924.820         -1.277359         -1.705627   \n",
       "185056         2        55735.242          1.552978         -1.803264   \n",
       "\n",
       "        photon_1lead_E  photon_1lead_etcone20  photon_2lead_pt  \\\n",
       "268590       65280.734             -956.71640        48145.110   \n",
       "43080       299196.900            -1804.33690        85816.920   \n",
       "249823       78903.540             -240.93822        51134.625   \n",
       "207150      105348.164             -262.15533        49661.210   \n",
       "208366       62511.840             -417.62520        44209.543   \n",
       "...                ...                    ...              ...   \n",
       "54183        88336.860             -520.47560        56892.867   \n",
       "11277       106760.660             -914.89844        51873.164   \n",
       "266476      103872.700             -550.41810        58320.203   \n",
       "124031      222145.450             -465.48880        32608.330   \n",
       "185056      137586.330             -224.20319        53927.145   \n",
       "\n",
       "        photon_2lead_eta  photon_2lead_phi  photon_2lead_E  ...  lep_phi_mean  \\\n",
       "268590          1.724146         -1.356490      139285.110  ...      0.000000   \n",
       "43080           0.511017          0.655814       97267.940  ...      0.000000   \n",
       "249823         -0.885657         -0.948343       72535.000  ...      0.000000   \n",
       "207150          0.171808          1.953999       50395.965  ...      0.000000   \n",
       "208366         -2.280501          1.775367      218479.450  ...      0.000000   \n",
       "...                  ...               ...             ...  ...           ...   \n",
       "54183          -0.492723         -3.073204       63939.830  ...      0.000000   \n",
       "11277           0.489214         -0.062816       58205.375  ...      0.000000   \n",
       "266476         -0.143005         -1.677720       58917.555  ...      0.000000   \n",
       "124031         -2.213135          0.601934      150873.860  ...     -0.540576   \n",
       "185056          0.644007          1.511915       65502.027  ...      0.000000   \n",
       "\n",
       "        lep_phi_std  lep_E_sum  lep_theta_mean  lep_theta_std  lep_charge_sum  \\\n",
       "268590      0.00000       0.00        0.000000       0.000000               0   \n",
       "43080       0.00000       0.00        0.000000       0.000000               0   \n",
       "249823      0.00000       0.00        0.000000       0.000000               0   \n",
       "207150      0.00000       0.00        0.000000       0.000000               0   \n",
       "208366      0.00000       0.00        0.000000       0.000000               0   \n",
       "...             ...        ...             ...            ...             ...   \n",
       "54183       0.00000       0.00        0.000000       0.000000               0   \n",
       "11277       0.00000       0.00        0.000000       0.000000               0   \n",
       "266476      0.00000       0.00        0.000000       0.000000               0   \n",
       "124031      1.94015  254815.25       -0.985533       0.155805               0   \n",
       "185056      0.00000       0.00        0.000000       0.000000               0   \n",
       "\n",
       "        lep_ptcone30_sum  lep_etcone20_sum  label        weight  \n",
       "268590               0.0           0.00000     gg  3.958069e-08  \n",
       "43080                0.0           0.00000     tt -4.200527e-12  \n",
       "249823               0.0           0.00000     gg  6.397519e-08  \n",
       "207150               0.0           0.00000     tt  6.542525e-12  \n",
       "208366               0.0           0.00000     tt  7.398494e-12  \n",
       "...                  ...               ...    ...           ...  \n",
       "54183                0.0           0.00000    VBF  1.164016e-08  \n",
       "11277                0.0           0.00000     Wp  5.586333e-09  \n",
       "266476               0.0           0.00000     gg  6.580980e-08  \n",
       "124031               0.0        -651.01685     tt  6.348159e-12  \n",
       "185056               0.0           0.00000     gg  6.623756e-08  \n",
       "\n",
       "[202043 rows x 25 columns]"
      ]
     },
     "execution_count": 12,
     "metadata": {},
     "output_type": "execute_result"
    }
   ],
   "source": [
    "BaselineFeaturePipeline = \\\n",
    "    pipeline_maker(Pipeline, steps=[\n",
    "        ('keep_features', KeepFeatures(['photon_n', 'photon_1lead_pt',\n",
    "                                        'photon_1lead_eta', 'photon_1lead_phi',\n",
    "                                        'photon_1lead_E', 'photon_1lead_etcone20',\n",
    "                                        'photon_2lead_pt', 'photon_2lead_eta',\n",
    "                                        'photon_2lead_phi', 'photon_2lead_E',\n",
    "                                        'photon_2lead_etcone20', 'h_mass',\n",
    "                                        'met_et', 'met_phi', 'lep_pt_sum',\n",
    "                                        'lep_phi_mean', 'lep_phi_std', 'lep_E_sum',\n",
    "                                        'lep_theta_mean', 'lep_theta_std',\n",
    "                                        'lep_charge_sum', 'lep_ptcone30_sum',\n",
    "                                        'lep_etcone20_sum', 'label', 'weight'])),\n",
    "        ('filna', FillNa(0.))\n",
    "    ])\n",
    "baseline_feature_pipeline = BaselineFeaturePipeline().fit(d_train)\n",
    "baseline_features = baseline_feature_pipeline.transform(d_train)\n",
    "baseline_features"
   ]
  },
  {
   "cell_type": "code",
   "execution_count": 13,
   "metadata": {
    "tags": [
     "hide"
    ]
   },
   "outputs": [],
   "source": [
    "def split_targets(data, targets, drop=None):\n",
    "    flat_target = False\n",
    "    if not isinstance(targets, list):\n",
    "        flat_target = True\n",
    "    to_drop = drop if drop is not None else []\n",
    "    to_drop += targets if not flat_target else [targets]\n",
    "    \n",
    "    Xs = data.drop(columns=to_drop)\n",
    "    ys = data[targets]\n",
    "    \n",
    "    return Xs, ys"
   ]
  },
  {
   "cell_type": "markdown",
   "metadata": {},
   "source": [
    "As a baseline model we pick RandomForestClassifier. RandomForest is useful to pick relevant features when the dataset possibly includes correlated features. Correlations are weakend because RandomForest picks a subset of features to train each tree."
   ]
  },
  {
   "cell_type": "code",
   "execution_count": 14,
   "metadata": {},
   "outputs": [],
   "source": [
    "baseline_model = RandomForestClassifier(random_state=RANDOM_STATE).fit(*split_targets(baseline_features, \"label\", drop=[\"weight\"]), sample_weight=baseline_features[\"weight\"])"
   ]
  },
  {
   "cell_type": "code",
   "execution_count": 15,
   "metadata": {
    "tags": [
     "hide"
    ]
   },
   "outputs": [],
   "source": [
    "def extract_importances(feature_importances, feature_names):\n",
    "    return pd.DataFrame(zip(feature_names, feature_importances),\n",
    "                                      columns=[\"feature\", \"score\"]) \\\n",
    "             .set_index(\"feature\") \\\n",
    "             .sort_values(\"score\", axis=\"index\", ascending=False)"
   ]
  },
  {
   "cell_type": "code",
   "execution_count": 16,
   "metadata": {
    "tags": [
     "hide"
    ]
   },
   "outputs": [],
   "source": [
    "def get_ensemble_feature_importances(ensemble_model):\n",
    "    importances = []\n",
    "    for est in ensemble_model.estimators_:\n",
    "        importances.append(est.steps[-1][1].feature_importances_)\n",
    "    importances = np.vstack(importances)\n",
    "    return np.median(importances, axis=0)"
   ]
  },
  {
   "cell_type": "code",
   "execution_count": 17,
   "metadata": {
    "tags": [
     "hide"
    ]
   },
   "outputs": [],
   "source": [
    "def report_importances(model, X_test):\n",
    "    if hasattr(model, \"feature_importances_\"):\n",
    "        feature_importances = model.feature_importances_\n",
    "    elif hasattr(model, \"estimators_\") and hasattr(model.estimators_[0].steps[-1][1], \"feature_importances_\"):\n",
    "        feature_importances = get_ensemble_feature_importances(model)\n",
    "    else:\n",
    "        print(\"Model doesn't seem to provide feature importances. Skip feature importances report\")\n",
    "        return\n",
    "    nice_importances = extract_importances(feature_importances, X_test.columns)\n",
    "    fig, ax = plt.subplots()\n",
    "    ax.set_title(\"Feature importances\")\n",
    "    nice_importances.plot(kind=\"barh\", ax=ax)\n",
    "    fig.tight_layout()\n",
    "    return {\"importances\": fig}"
   ]
  },
  {
   "cell_type": "code",
   "execution_count": 18,
   "metadata": {
    "tags": [
     "hide"
    ]
   },
   "outputs": [],
   "source": [
    "def report_class_summary(model, feature_pipeline, X_test, y_test, weights=None):\n",
    "    if not hasattr(model, \"classes_\"):\n",
    "        print(\"Model doesn't seem to be a classificator. Skip classification summary report\")\n",
    "        return\n",
    "    classes = model.classes_\n",
    "    labeler = feature_pipeline.named_steps.get(\"labels\")\n",
    "    if labeler is not None:\n",
    "        classes = labeler.transformer.inverse_transform(classes)\n",
    "        \n",
    "    pred = model.predict(X_test)\n",
    "    conf = confusion_matrix(y_test, pred)\n",
    "    conf_fig, ax = plt.subplots()\n",
    "    ax.set_title(\"Confusion matrix\")\n",
    "    disp = ConfusionMatrixDisplay(conf, classes)\n",
    "    disp.plot(ax=ax)\n",
    "    conf_fig.tight_layout()\n",
    "    \n",
    "    conf = confusion_matrix(y_test, pred, sample_weight=weights)\n",
    "    conf_weight_fig, ax = plt.subplots()\n",
    "    ax.set_title(\"-Log10 confusion matrix of weights\")\n",
    "    disp = ConfusionMatrixDisplay(-np.log10(conf), classes)\n",
    "    disp.plot(ax=ax)\n",
    "    conf_weight_fig.tight_layout()\n",
    "    \n",
    "    return {\"confusion\": conf_fig,\n",
    "            \"confusion_weights\": conf_weight_fig}"
   ]
  },
  {
   "cell_type": "code",
   "execution_count": 19,
   "metadata": {
    "tags": [
     "hide"
    ]
   },
   "outputs": [],
   "source": [
    "def report_descriptive(X_test, y_test, weights=None):\n",
    "    data = pd.concat([X_test, y_test], axis=\"columns\")\n",
    "    if weights is not None:\n",
    "        data = data.assign(weight=weights)\n",
    "        \n",
    "    if \"weight\" in X_test.columns:\n",
    "        weight_sums = data.groupby([\"label\"])[[\"weight\"]].sum()\n",
    "        print(\"Sum of weights\")\n",
    "        display(weight_sums)"
   ]
  },
  {
   "cell_type": "code",
   "execution_count": 20,
   "metadata": {
    "tags": [
     "hide"
    ]
   },
   "outputs": [],
   "source": [
    "def report(model, feature_pipeline, d_test, drop=None):\n",
    "    X_test, y_test = split_targets(d_test, \"label\", drop=drop)\n",
    "    weights = d_test[\"weight\"]\n",
    "    \n",
    "    figures = {}\n",
    "    report_descriptive(X_test, y_test, weights=weights)\n",
    "    figures.update(\n",
    "        report_class_summary(model, feature_pipeline, X_test, y_test, weights=weights)\n",
    "    )\n",
    "    figures.update(\n",
    "        report_importances(model, X_test)\n",
    "    )\n",
    "    return figures"
   ]
  },
  {
   "cell_type": "code",
   "execution_count": 21,
   "metadata": {},
   "outputs": [],
   "source": [
    "def save_figures(name, figures):\n",
    "    for label, fig in figures.items():\n",
    "        fig.savefig(os.path.join(\"output/\", f\"{name}_{label}.png\"))"
   ]
  },
  {
   "cell_type": "markdown",
   "metadata": {},
   "source": [
    "After the model has been trained, let's see the report describing the baseline.\n",
    "\n",
    "We have 5 classes and a confusion matrix for them.\n",
    "\n",
    "We also provide confusion matrix for weights in somewhat sophisticated format. Due to weights can differ by orders of magnitude, it is easier to compare logarithms. Since all weights are < 1, it is convenient to remove minus sign close to numbers in the matrix. As a result, the smaller number on the diagonal of the matrix the better.\n",
    "\n",
    "Finally we show feature importances coming from decision tree classifier."
   ]
  },
  {
   "cell_type": "code",
   "execution_count": 22,
   "metadata": {
    "scrolled": false
   },
   "outputs": [
    {
     "data": {
      "image/png": "[encoded data removed]",
      "text/plain": [
       "<Figure size 864x576 with 2 Axes>"
      ]
     },
     "metadata": {
      "needs_background": "light"
     },
     "output_type": "display_data"
    },
    {
     "data": {
      "image/png": "[encoded data removed]",
      "text/plain": [
       "<Figure size 864x576 with 2 Axes>"
      ]
     },
     "metadata": {
      "needs_background": "light"
     },
     "output_type": "display_data"
    },
    {
     "data": {
      "image/png": "[encoded data removed]",
      "text/plain": [
       "<Figure size 864x576 with 1 Axes>"
      ]
     },
     "metadata": {
      "needs_background": "light"
     },
     "output_type": "display_data"
    }
   ],
   "source": [
    "save_figures(\n",
    "    \"random-forest\",\n",
    "    report(baseline_model, baseline_feature_pipeline, baseline_feature_pipeline.transform(d_test), drop=[\"weight\"])\n",
    ")"
   ]
  },
  {
   "cell_type": "markdown",
   "metadata": {},
   "source": [
    "Apparently `gg` events are so many, that other events become classified as `gg` just statistically. This means that the dataset is imbalanced, and we should find some approach to target this issue.\n",
    "\n",
    "We also choose subset of features to work with. We pick only significantly relevant features. See the list of them below."
   ]
  },
  {
   "cell_type": "code",
   "execution_count": 23,
   "metadata": {
    "tags": [
     "hide"
    ]
   },
   "outputs": [],
   "source": [
    "def mask_by_levels(data, threshold=None, limit=None):\n",
    "    thr_mask = np.array(True)\n",
    "    if threshold is not None:\n",
    "        if isinstance(threshold, dict):\n",
    "            thr_mask = np.all([data[k] > v for k,v in threshold.items()])\n",
    "        else:\n",
    "            thr_mask = np.all(data > threshold, axis=1)\n",
    "    \n",
    "    lim_mask = np.array(True)\n",
    "    if limit is not None:\n",
    "        if isinstance(limit, dict):\n",
    "            lim_mask = np.all([data[k] < v for k,v in limit.items()])\n",
    "        else:\n",
    "            lim_mask = np.all(data < limit, axis=1)\n",
    "            \n",
    "    mask = thr_mask & lim_mask\n",
    "    return mask"
   ]
  },
  {
   "cell_type": "code",
   "execution_count": 24,
   "metadata": {
    "tags": [
     "hide"
    ]
   },
   "outputs": [],
   "source": [
    "def filter_by_levels(data, threshold=None, limit=None):\n",
    "    mask = mask_by_levels(data, threshold=threshold, limit=limit)\n",
    "    \n",
    "    if np.all(mask):\n",
    "        return data.copy()\n",
    "    else:\n",
    "        return data[mask].copy()"
   ]
  },
  {
   "cell_type": "code",
   "execution_count": 25,
   "metadata": {
    "tags": [
     "hide_input"
    ]
   },
   "outputs": [
    {
     "data": {
      "text/plain": [
       "['photon_1lead_pt',\n",
       " 'met_phi',\n",
       " 'photon_2lead_pt',\n",
       " 'met_et',\n",
       " 'h_mass',\n",
       " 'photon_1lead_E',\n",
       " 'photon_2lead_phi',\n",
       " 'photon_1lead_phi',\n",
       " 'photon_2lead_eta',\n",
       " 'photon_1lead_eta',\n",
       " 'photon_2lead_etcone20',\n",
       " 'photon_2lead_E',\n",
       " 'photon_1lead_etcone20']"
      ]
     },
     "execution_count": 25,
     "metadata": {},
     "output_type": "execute_result"
    }
   ],
   "source": [
    "subcolumns = list(filter_by_levels(\n",
    "                extract_importances(\n",
    "                    baseline_model.feature_importances_,\n",
    "                    split_targets(baseline_features, \"label\", drop=[\"weight\"])[0].columns\n",
    "                ),\n",
    "                threshold=0.05\n",
    "             ).index)\n",
    "subcolumns"
   ]
  },
  {
   "cell_type": "code",
   "execution_count": 26,
   "metadata": {
    "tags": [
     "hide"
    ]
   },
   "outputs": [],
   "source": [
    "class WithColumns(TransformerMixin):\n",
    "    def __init__(self, transformer, columns=None):\n",
    "        self.columns = columns\n",
    "        self.transformer = transformer\n",
    "        \n",
    "    def fit(self, X, y=None, **fit_params):\n",
    "        self.transformer.fit(X[self.columns])\n",
    "        return self\n",
    "    \n",
    "    def transform(self, X, y=None, **fit_params):\n",
    "        res = X.copy()\n",
    "        res[self.columns] = self.transformer.transform(res[self.columns])\n",
    "        return res"
   ]
  },
  {
   "cell_type": "code",
   "execution_count": 27,
   "metadata": {
    "tags": [
     "hide"
    ]
   },
   "outputs": [],
   "source": [
    "class ReplaceValues(TransformerMixin):\n",
    "    def __init__(self, mapping):\n",
    "        self.mapping = mapping\n",
    "        \n",
    "    def fit(self, X, y=None, **fit_params):\n",
    "        return self\n",
    "    \n",
    "    def transform(self, X, y=None, **fit_params):\n",
    "        res = X.replace(self.mapping)\n",
    "        return res\n",
    "# WithColumns(ReplaceValues({\n",
    "#                                 \"VBF\": \"other\",\n",
    "#                                 \"Wp\": \"other\",\n",
    "#                                 \"Z\": \"other\",\n",
    "#                                 \"gg\": \"other\"\n",
    "#                                }), columns=\"label\").fit_transform(d_test)"
   ]
  },
  {
   "cell_type": "code",
   "execution_count": 28,
   "metadata": {
    "tags": [
     "hide"
    ]
   },
   "outputs": [],
   "source": [
    "class DropByLevel(TransformerMixin):\n",
    "    def __init__(self, column, threshold=None, limit=None):\n",
    "        self.column = column\n",
    "        self.threshold = threshold\n",
    "        self.limit = limit\n",
    "        \n",
    "    def fit(self, X, y=None, **fit_params):\n",
    "        return self\n",
    "    \n",
    "    def transform(self, X, y=None, **fit_params):\n",
    "        mask = mask_by_levels(X[self.column], threshold=self.threshold, limit=self.limit)\n",
    "        \n",
    "        if np.all(mask):\n",
    "            return X.copy()\n",
    "        \n",
    "        return X[mask].copy()"
   ]
  },
  {
   "cell_type": "code",
   "execution_count": 29,
   "metadata": {
    "tags": [
     "hide"
    ]
   },
   "outputs": [],
   "source": [
    "class DropByValues(TransformerMixin):\n",
    "    def __init__(self, column, values):\n",
    "        self.column = column\n",
    "        self.values = values\n",
    "        \n",
    "    def fit(self, X, y=None, **fit_params):\n",
    "        return self\n",
    "    \n",
    "    def transform(self, X, y=None, **fit_params):\n",
    "        mask = ~np.any([X[self.column] == v for v in self.values], axis=0)\n",
    "        \n",
    "        if np.all(mask):\n",
    "            return X.copy()\n",
    "        \n",
    "        return X[mask].copy()\n",
    "# DropByValues(\"label\", [\"tt\"]).fit_transform(d_train)"
   ]
  },
  {
   "cell_type": "markdown",
   "metadata": {},
   "source": [
    "Feature processing for next to baseline model, we name it `significant imbalanced model` is a bit more complex. As before, we fill empty values for chosen features with zeros.\n",
    "\n",
    "We also drop `tt`, `Wp` and `Z` events for this step. We try to focus on events that have similar weight per event. `Wp` and `Z` are few but they are very heavy, while `tt` are quite a lot but weight is tiny. It is quite hard to handle such a mixture together.\n",
    "\n",
    "Now we end up with `gg` and `VBF` events. The dataset is still imbalanced from the number of events perspective, but at the same time we can bother less about their weights.\n",
    "\n",
    "As a part of feature processing, we also drop negative weights. That's just a technical issue, because the algorithm we are going to apply can't handle negative weights."
   ]
  },
  {
   "cell_type": "code",
   "execution_count": 30,
   "metadata": {},
   "outputs": [
    {
     "data": {
      "text/html": [
       "<div>\n",
       "<style scoped>\n",
       "    .dataframe tbody tr th:only-of-type {\n",
       "        vertical-align: middle;\n",
       "    }\n",
       "\n",
       "    .dataframe tbody tr th {\n",
       "        vertical-align: top;\n",
       "    }\n",
       "\n",
       "    .dataframe thead th {\n",
       "        text-align: right;\n",
       "    }\n",
       "</style>\n",
       "<table border=\"1\" class=\"dataframe\">\n",
       "  <thead>\n",
       "    <tr style=\"text-align: right;\">\n",
       "      <th></th>\n",
       "      <th>photon_1lead_pt</th>\n",
       "      <th>met_phi</th>\n",
       "      <th>photon_2lead_pt</th>\n",
       "      <th>met_et</th>\n",
       "      <th>h_mass</th>\n",
       "      <th>photon_1lead_E</th>\n",
       "      <th>photon_2lead_phi</th>\n",
       "      <th>photon_1lead_phi</th>\n",
       "      <th>photon_2lead_eta</th>\n",
       "      <th>photon_1lead_eta</th>\n",
       "      <th>photon_2lead_etcone20</th>\n",
       "      <th>photon_2lead_E</th>\n",
       "      <th>photon_1lead_etcone20</th>\n",
       "      <th>label</th>\n",
       "      <th>weight</th>\n",
       "    </tr>\n",
       "  </thead>\n",
       "  <tbody>\n",
       "    <tr>\n",
       "      <th>268590</th>\n",
       "      <td>58372.110</td>\n",
       "      <td>0.600789</td>\n",
       "      <td>48145.110</td>\n",
       "      <td>30176.668</td>\n",
       "      <td>127024.91</td>\n",
       "      <td>65280.734</td>\n",
       "      <td>-1.356490</td>\n",
       "      <td>1.889242</td>\n",
       "      <td>1.724146</td>\n",
       "      <td>0.481853</td>\n",
       "      <td>-467.942500</td>\n",
       "      <td>139285.110</td>\n",
       "      <td>-956.716400</td>\n",
       "      <td>1</td>\n",
       "      <td>3.958069e-08</td>\n",
       "    </tr>\n",
       "    <tr>\n",
       "      <th>249823</th>\n",
       "      <td>76091.230</td>\n",
       "      <td>-0.327938</td>\n",
       "      <td>51134.625</td>\n",
       "      <td>28954.781</td>\n",
       "      <td>129304.70</td>\n",
       "      <td>78903.540</td>\n",
       "      <td>-0.948343</td>\n",
       "      <td>2.498819</td>\n",
       "      <td>-0.885657</td>\n",
       "      <td>-0.271051</td>\n",
       "      <td>-916.186650</td>\n",
       "      <td>72535.000</td>\n",
       "      <td>-240.938220</td>\n",
       "      <td>1</td>\n",
       "      <td>6.397519e-08</td>\n",
       "    </tr>\n",
       "    <tr>\n",
       "      <th>117105</th>\n",
       "      <td>98038.700</td>\n",
       "      <td>1.261602</td>\n",
       "      <td>41276.086</td>\n",
       "      <td>20532.875</td>\n",
       "      <td>130812.99</td>\n",
       "      <td>270122.900</td>\n",
       "      <td>-3.044603</td>\n",
       "      <td>-3.093076</td>\n",
       "      <td>0.129961</td>\n",
       "      <td>-1.671973</td>\n",
       "      <td>-325.605040</td>\n",
       "      <td>41625.150</td>\n",
       "      <td>-61.689865</td>\n",
       "      <td>1</td>\n",
       "      <td>1.902657e-08</td>\n",
       "    </tr>\n",
       "    <tr>\n",
       "      <th>260493</th>\n",
       "      <td>36145.746</td>\n",
       "      <td>1.109834</td>\n",
       "      <td>31157.201</td>\n",
       "      <td>20445.281</td>\n",
       "      <td>125915.72</td>\n",
       "      <td>67071.990</td>\n",
       "      <td>-2.424861</td>\n",
       "      <td>0.340449</td>\n",
       "      <td>-1.266889</td>\n",
       "      <td>1.229256</td>\n",
       "      <td>-433.397430</td>\n",
       "      <td>59689.400</td>\n",
       "      <td>-46.066826</td>\n",
       "      <td>1</td>\n",
       "      <td>6.466785e-08</td>\n",
       "    </tr>\n",
       "    <tr>\n",
       "      <th>100602</th>\n",
       "      <td>69329.410</td>\n",
       "      <td>-0.884942</td>\n",
       "      <td>66717.430</td>\n",
       "      <td>10639.224</td>\n",
       "      <td>122480.49</td>\n",
       "      <td>171774.700</td>\n",
       "      <td>1.492158</td>\n",
       "      <td>-2.875040</td>\n",
       "      <td>-2.292921</td>\n",
       "      <td>-1.556997</td>\n",
       "      <td>-31.067635</td>\n",
       "      <td>333747.000</td>\n",
       "      <td>-381.454530</td>\n",
       "      <td>0</td>\n",
       "      <td>6.241101e-09</td>\n",
       "    </tr>\n",
       "    <tr>\n",
       "      <th>...</th>\n",
       "      <td>...</td>\n",
       "      <td>...</td>\n",
       "      <td>...</td>\n",
       "      <td>...</td>\n",
       "      <td>...</td>\n",
       "      <td>...</td>\n",
       "      <td>...</td>\n",
       "      <td>...</td>\n",
       "      <td>...</td>\n",
       "      <td>...</td>\n",
       "      <td>...</td>\n",
       "      <td>...</td>\n",
       "      <td>...</td>\n",
       "      <td>...</td>\n",
       "      <td>...</td>\n",
       "    </tr>\n",
       "    <tr>\n",
       "      <th>245030</th>\n",
       "      <td>114924.770</td>\n",
       "      <td>1.792097</td>\n",
       "      <td>38737.754</td>\n",
       "      <td>131497.720</td>\n",
       "      <td>126005.20</td>\n",
       "      <td>115701.280</td>\n",
       "      <td>1.301682</td>\n",
       "      <td>-0.950417</td>\n",
       "      <td>-0.663213</td>\n",
       "      <td>-0.116181</td>\n",
       "      <td>-1386.085100</td>\n",
       "      <td>47574.062</td>\n",
       "      <td>-273.951720</td>\n",
       "      <td>1</td>\n",
       "      <td>6.292844e-08</td>\n",
       "    </tr>\n",
       "    <tr>\n",
       "      <th>58024</th>\n",
       "      <td>142275.270</td>\n",
       "      <td>2.380657</td>\n",
       "      <td>82808.560</td>\n",
       "      <td>38783.910</td>\n",
       "      <td>125895.39</td>\n",
       "      <td>152268.330</td>\n",
       "      <td>-1.474372</td>\n",
       "      <td>-0.448284</td>\n",
       "      <td>-0.980974</td>\n",
       "      <td>-0.372640</td>\n",
       "      <td>-1615.108500</td>\n",
       "      <td>125951.720</td>\n",
       "      <td>-200.366040</td>\n",
       "      <td>0</td>\n",
       "      <td>1.106634e-08</td>\n",
       "    </tr>\n",
       "    <tr>\n",
       "      <th>54183</th>\n",
       "      <td>79976.550</td>\n",
       "      <td>2.483016</td>\n",
       "      <td>56892.867</td>\n",
       "      <td>8442.810</td>\n",
       "      <td>123923.63</td>\n",
       "      <td>88336.860</td>\n",
       "      <td>-3.073204</td>\n",
       "      <td>0.882136</td>\n",
       "      <td>-0.492723</td>\n",
       "      <td>-0.453348</td>\n",
       "      <td>-91.334460</td>\n",
       "      <td>63939.830</td>\n",
       "      <td>-520.475600</td>\n",
       "      <td>0</td>\n",
       "      <td>1.164016e-08</td>\n",
       "    </tr>\n",
       "    <tr>\n",
       "      <th>266476</th>\n",
       "      <td>98814.510</td>\n",
       "      <td>2.241106</td>\n",
       "      <td>58320.203</td>\n",
       "      <td>70002.210</td>\n",
       "      <td>126997.98</td>\n",
       "      <td>103872.700</td>\n",
       "      <td>-1.677720</td>\n",
       "      <td>0.287074</td>\n",
       "      <td>-0.143005</td>\n",
       "      <td>-0.318616</td>\n",
       "      <td>-1023.170600</td>\n",
       "      <td>58917.555</td>\n",
       "      <td>-550.418100</td>\n",
       "      <td>1</td>\n",
       "      <td>6.580980e-08</td>\n",
       "    </tr>\n",
       "    <tr>\n",
       "      <th>185056</th>\n",
       "      <td>55735.242</td>\n",
       "      <td>0.696735</td>\n",
       "      <td>53927.145</td>\n",
       "      <td>24582.861</td>\n",
       "      <td>120794.63</td>\n",
       "      <td>137586.330</td>\n",
       "      <td>1.511915</td>\n",
       "      <td>-1.803264</td>\n",
       "      <td>0.644007</td>\n",
       "      <td>1.552978</td>\n",
       "      <td>-623.060300</td>\n",
       "      <td>65502.027</td>\n",
       "      <td>-224.203190</td>\n",
       "      <td>1</td>\n",
       "      <td>6.623756e-08</td>\n",
       "    </tr>\n",
       "  </tbody>\n",
       "</table>\n",
       "<p>128378 rows × 15 columns</p>\n",
       "</div>"
      ],
      "text/plain": [
       "        photon_1lead_pt   met_phi  photon_2lead_pt      met_et     h_mass  \\\n",
       "268590        58372.110  0.600789        48145.110   30176.668  127024.91   \n",
       "249823        76091.230 -0.327938        51134.625   28954.781  129304.70   \n",
       "117105        98038.700  1.261602        41276.086   20532.875  130812.99   \n",
       "260493        36145.746  1.109834        31157.201   20445.281  125915.72   \n",
       "100602        69329.410 -0.884942        66717.430   10639.224  122480.49   \n",
       "...                 ...       ...              ...         ...        ...   \n",
       "245030       114924.770  1.792097        38737.754  131497.720  126005.20   \n",
       "58024        142275.270  2.380657        82808.560   38783.910  125895.39   \n",
       "54183         79976.550  2.483016        56892.867    8442.810  123923.63   \n",
       "266476        98814.510  2.241106        58320.203   70002.210  126997.98   \n",
       "185056        55735.242  0.696735        53927.145   24582.861  120794.63   \n",
       "\n",
       "        photon_1lead_E  photon_2lead_phi  photon_1lead_phi  photon_2lead_eta  \\\n",
       "268590       65280.734         -1.356490          1.889242          1.724146   \n",
       "249823       78903.540         -0.948343          2.498819         -0.885657   \n",
       "117105      270122.900         -3.044603         -3.093076          0.129961   \n",
       "260493       67071.990         -2.424861          0.340449         -1.266889   \n",
       "100602      171774.700          1.492158         -2.875040         -2.292921   \n",
       "...                ...               ...               ...               ...   \n",
       "245030      115701.280          1.301682         -0.950417         -0.663213   \n",
       "58024       152268.330         -1.474372         -0.448284         -0.980974   \n",
       "54183        88336.860         -3.073204          0.882136         -0.492723   \n",
       "266476      103872.700         -1.677720          0.287074         -0.143005   \n",
       "185056      137586.330          1.511915         -1.803264          0.644007   \n",
       "\n",
       "        photon_1lead_eta  photon_2lead_etcone20  photon_2lead_E  \\\n",
       "268590          0.481853            -467.942500      139285.110   \n",
       "249823         -0.271051            -916.186650       72535.000   \n",
       "117105         -1.671973            -325.605040       41625.150   \n",
       "260493          1.229256            -433.397430       59689.400   \n",
       "100602         -1.556997             -31.067635      333747.000   \n",
       "...                  ...                    ...             ...   \n",
       "245030         -0.116181           -1386.085100       47574.062   \n",
       "58024          -0.372640           -1615.108500      125951.720   \n",
       "54183          -0.453348             -91.334460       63939.830   \n",
       "266476         -0.318616           -1023.170600       58917.555   \n",
       "185056          1.552978            -623.060300       65502.027   \n",
       "\n",
       "        photon_1lead_etcone20  label        weight  \n",
       "268590            -956.716400      1  3.958069e-08  \n",
       "249823            -240.938220      1  6.397519e-08  \n",
       "117105             -61.689865      1  1.902657e-08  \n",
       "260493             -46.066826      1  6.466785e-08  \n",
       "100602            -381.454530      0  6.241101e-09  \n",
       "...                       ...    ...           ...  \n",
       "245030            -273.951720      1  6.292844e-08  \n",
       "58024             -200.366040      0  1.106634e-08  \n",
       "54183             -520.475600      0  1.164016e-08  \n",
       "266476            -550.418100      1  6.580980e-08  \n",
       "185056            -224.203190      1  6.623756e-08  \n",
       "\n",
       "[128378 rows x 15 columns]"
      ]
     },
     "execution_count": 30,
     "metadata": {},
     "output_type": "execute_result"
    }
   ],
   "source": [
    "SignificantFeaturePipeline = \\\n",
    "    pipeline_maker(Pipeline, steps=[\n",
    "        ('keep_features', KeepFeatures(subcolumns + [\"label\", \"weight\"])),\n",
    "        ('filna', FillNa(0.)),\n",
    "        ('drop_tt', DropByValues(\"label\", [\"tt\", \"Wp\", \"Z\"])),\n",
    "        ('drop_neg_weight', DropByLevel([\"weight\"], threshold=0)),\n",
    "        ('labels', WithColumns(LabelEncoder(), columns=\"label\"))\n",
    "    ])\n",
    "significant_feature_pipeline = SignificantFeaturePipeline().fit(d_train)\n",
    "significant_features = significant_feature_pipeline.transform(d_train)\n",
    "significant_features"
   ]
  },
  {
   "cell_type": "code",
   "execution_count": 31,
   "metadata": {
    "tags": [
     "hide"
    ]
   },
   "outputs": [
    {
     "data": {
      "text/plain": [
       "True"
      ]
     },
     "execution_count": 31,
     "metadata": {},
     "output_type": "execute_result"
    }
   ],
   "source": [
    "np.all(significant_features[\"weight\"] > 0)"
   ]
  },
  {
   "cell_type": "markdown",
   "metadata": {},
   "source": [
    "Following the reference about usage of [bagging for imbalanced datasets](https://machinelearningmastery.com/bagging-and-random-forest-for-imbalanced-classification/) we focus on the model of Easy Ensemble. It is an ensemble model, where AdaBoost (a variant of BDT) is used as a base estimator. The goal is to downsample major class in order to balance the trainig sample.\n",
    "\n",
    "To avoid throwing out the data we train 6 different AdaBoosts on different samples, where minority class is always entirely included, while events from majority class are downsampled to fit number of events in the minority class.\n",
    "\n",
    "After 6 different base estimators have been trained, the voting procedure decides on the prediction for the specific test event.\n",
    "\n",
    "\n",
    "\\* Note: we had to monkey-patch the AdaBoostClassifier to allow EasyEnsemble implementation to use sample weights. See details in the full version of the notebook in the github repo."
   ]
  },
  {
   "cell_type": "code",
   "execution_count": 32,
   "metadata": {
    "tags": [
     "hide"
    ]
   },
   "outputs": [],
   "source": [
    "class WeightedAdaBoost(AdaBoostClassifier):\n",
    "    def __init__(self,\n",
    "                 base_estimator=None, *,\n",
    "                 n_estimators=50,\n",
    "                 learning_rate=1.,\n",
    "                 algorithm='SAMME.R',\n",
    "                 random_state=None, weights_column=None):\n",
    "\n",
    "        super().__init__(\n",
    "            base_estimator=base_estimator,\n",
    "            n_estimators=n_estimators,\n",
    "            learning_rate=learning_rate,\n",
    "            random_state=random_state)\n",
    "        self.weights_column = weights_column\n",
    "    \n",
    "    def fit(self, X, y):\n",
    "        super().fit(np.delete(X, self.weights_column, 1), y, sample_weight=X[:, self.weights_column])\n",
    "        \n",
    "    def predict(self, X):\n",
    "        return super().predict(np.delete(X, self.weights_column, 1))\n",
    "    \n",
    "    def predict_proba(self, X):\n",
    "        return super().predict_proba(np.delete(X, self.weights_column, 1))"
   ]
  },
  {
   "cell_type": "code",
   "execution_count": 33,
   "metadata": {},
   "outputs": [],
   "source": [
    "sign_imbal_model = EasyEnsembleClassifier( \\\n",
    "                                          n_estimators=6,\n",
    "                                          base_estimator=WeightedAdaBoost(weights_column=list(split_targets(significant_features, \"label\")[0].columns).index(\"weight\")),\n",
    "                                          random_state=RANDOM_STATE,\n",
    "                                          sampling_strategy=\"not minority\",\n",
    "                                          replacement=False\n",
    "                                         ) \\\n",
    "                   .fit(*split_targets(significant_features, \"label\"))"
   ]
  },
  {
   "cell_type": "markdown",
   "metadata": {},
   "source": [
    "We build a report following the same structure as we had for the baseline model.\n",
    "\n",
    "Here we have 2 classes with a simple confusion matrix. It shows that we still didn't manage to fight the imbalance.\n",
    "\n",
    "Since here we have ensemble of BDTs, as feature importance we show median of scores per feature."
   ]
  },
  {
   "cell_type": "code",
   "execution_count": 34,
   "metadata": {
    "scrolled": false
   },
   "outputs": [
    {
     "name": "stdout",
     "output_type": "stream",
     "text": [
      "Sum of weights\n"
     ]
    },
    {
     "data": {
      "text/html": [
       "<div>\n",
       "<style scoped>\n",
       "    .dataframe tbody tr th:only-of-type {\n",
       "        vertical-align: middle;\n",
       "    }\n",
       "\n",
       "    .dataframe tbody tr th {\n",
       "        vertical-align: top;\n",
       "    }\n",
       "\n",
       "    .dataframe thead th {\n",
       "        text-align: right;\n",
       "    }\n",
       "</style>\n",
       "<table border=\"1\" class=\"dataframe\">\n",
       "  <thead>\n",
       "    <tr style=\"text-align: right;\">\n",
       "      <th></th>\n",
       "      <th>weight</th>\n",
       "    </tr>\n",
       "    <tr>\n",
       "      <th>label</th>\n",
       "      <th></th>\n",
       "    </tr>\n",
       "  </thead>\n",
       "  <tbody>\n",
       "    <tr>\n",
       "      <th>0</th>\n",
       "      <td>0.000113</td>\n",
       "    </tr>\n",
       "    <tr>\n",
       "      <th>1</th>\n",
       "      <td>0.001258</td>\n",
       "    </tr>\n",
       "  </tbody>\n",
       "</table>\n",
       "</div>"
      ],
      "text/plain": [
       "         weight\n",
       "label          \n",
       "0      0.000113\n",
       "1      0.001258"
      ]
     },
     "metadata": {},
     "output_type": "display_data"
    },
    {
     "data": {
      "image/png": "[encoded data removed]",
      "text/plain": [
       "<Figure size 864x576 with 2 Axes>"
      ]
     },
     "metadata": {
      "needs_background": "light"
     },
     "output_type": "display_data"
    },
    {
     "data": {
      "image/png": "[encoded data removed]",
      "text/plain": [
       "<Figure size 864x576 with 2 Axes>"
      ]
     },
     "metadata": {
      "needs_background": "light"
     },
     "output_type": "display_data"
    },
    {
     "data": {
      "image/png": "[encoded data removed]",
      "text/plain": [
       "<Figure size 864x576 with 1 Axes>"
      ]
     },
     "metadata": {
      "needs_background": "light"
     },
     "output_type": "display_data"
    }
   ],
   "source": [
    "save_figures(\n",
    "    \"easy-ensemble\",\n",
    "    report(sign_imbal_model, significant_feature_pipeline, significant_feature_pipeline.transform(d_test))\n",
    ")"
   ]
  },
  {
   "cell_type": "markdown",
   "metadata": {},
   "source": [
    "AdaBoost can be treated as a specific representative of the class of the additive models. XGBoost is more generic and allows optimizing any model from the class. XGBoost uses gradient descent approach to optimize parameters of the model, while AdaBoost applies reweighting to the datasample at each step, in order to train on the most outlying data points. The latter effectively leads to exponential loss function.\n",
    "\n",
    "More on AdaBoost vs XGBoost comparison:\n",
    "\n",
    "* https://datascience.stackexchange.com/questions/39193/adaboost-vs-gradient-boosting\n",
    "* https://stats.stackexchange.com/questions/164233/intuitive-explanations-of-differences-between-gradient-boosting-trees-gbm-ad"
   ]
  },
  {
   "cell_type": "code",
   "execution_count": 35,
   "metadata": {},
   "outputs": [],
   "source": [
    "xgboost_cv = GridSearchCV(XGBClassifier(random_state=RANDOM_STATE,\n",
    "                                        objective=\"multi:softmax\",\n",
    "                                        num_class=2),\n",
    "                          param_grid={\n",
    "                            \"learning_rate\": [1E-10, 1E-6],\n",
    "                            \"max_depth\": [10, 20] ,\n",
    "                            \"gamma\": [0.1, 0.5, 1.2],\n",
    "                            \"reg_alpha\": [1E-3, 1E-1],\n",
    "                            \"reg_lambda\": [1E-3, 1E-1]\n",
    "                          }, cv=3)"
   ]
  },
  {
   "cell_type": "code",
   "execution_count": 36,
   "metadata": {},
   "outputs": [
    {
     "data": {
      "text/plain": [
       "GridSearchCV(cv=3, error_score=nan,\n",
       "             estimator=XGBClassifier(base_score=None, booster=None,\n",
       "                                     colsample_bylevel=None,\n",
       "                                     colsample_bynode=None,\n",
       "                                     colsample_bytree=None, gamma=None,\n",
       "                                     gpu_id=None, importance_type='gain',\n",
       "                                     interaction_constraints=None,\n",
       "                                     learning_rate=None, max_delta_step=None,\n",
       "                                     max_depth=None, min_child_weight=None,\n",
       "                                     missing=nan, monotone_constraints=None,\n",
       "                                     n_estim...\n",
       "                                     reg_alpha=None, reg_lambda=None,\n",
       "                                     scale_pos_weight=None, subsample=None,\n",
       "                                     tree_method=None, validate_parameters=None,\n",
       "                                     verbosity=None),\n",
       "             iid='deprecated', n_jobs=None,\n",
       "             param_grid={'gamma': [0.1, 0.5, 1.2],\n",
       "                         'learning_rate': [1e-10, 1e-06], 'max_depth': [10, 20],\n",
       "                         'reg_alpha': [0.001, 0.1],\n",
       "                         'reg_lambda': [0.001, 0.1]},\n",
       "             pre_dispatch='2*n_jobs', refit=True, return_train_score=False,\n",
       "             scoring=None, verbose=0)"
      ]
     },
     "execution_count": 36,
     "metadata": {},
     "output_type": "execute_result"
    }
   ],
   "source": [
    "xgboost_cv.fit(*split_targets(significant_features, \"label\", drop=[\"weight\"]),\n",
    "               sample_weight=significant_features[\"weight\"])"
   ]
  },
  {
   "cell_type": "code",
   "execution_count": 37,
   "metadata": {},
   "outputs": [
    {
     "data": {
      "text/plain": [
       "XGBClassifier(base_score=0.5, booster='gbtree', colsample_bylevel=1,\n",
       "              colsample_bynode=1, colsample_bytree=1, gamma=0.1, gpu_id=-1,\n",
       "              importance_type='gain', interaction_constraints='',\n",
       "              learning_rate=1e-06, max_delta_step=0, max_depth=10,\n",
       "              min_child_weight=1, missing=nan, monotone_constraints='()',\n",
       "              n_estimators=100, n_jobs=0, num_class=2, num_parallel_tree=1,\n",
       "              objective='multi:softmax', random_state=23, reg_alpha=0.001,\n",
       "              reg_lambda=0.001, scale_pos_weight=None, subsample=1,\n",
       "              tree_method='exact', validate_parameters=1, verbosity=None)"
      ]
     },
     "execution_count": 37,
     "metadata": {},
     "output_type": "execute_result"
    }
   ],
   "source": [
    "xgboost_cv.best_estimator_"
   ]
  },
  {
   "cell_type": "code",
   "execution_count": 38,
   "metadata": {
    "scrolled": false
   },
   "outputs": [
    {
     "name": "stderr",
     "output_type": "stream",
     "text": [
      "/afs/cern.ch/user/a/ananiev/projects/venvs/sandbox/lib64/python3.6/site-packages/ipykernel_launcher.py:21: RuntimeWarning: divide by zero encountered in log10\n",
      "/afs/cern.ch/user/a/ananiev/projects/venvs/sandbox/lib64/python3.6/site-packages/xgboost/sklearn.py:691: RuntimeWarning: invalid value encountered in true_divide\n",
      "  return all_features / all_features.sum()\n"
     ]
    },
    {
     "data": {
      "image/png": "[encoded data removed]",
      "text/plain": [
       "<Figure size 864x576 with 2 Axes>"
      ]
     },
     "metadata": {
      "needs_background": "light"
     },
     "output_type": "display_data"
    },
    {
     "data": {
      "image/png": "[encoded data removed]",
      "text/plain": [
       "<Figure size 864x576 with 2 Axes>"
      ]
     },
     "metadata": {
      "needs_background": "light"
     },
     "output_type": "display_data"
    },
    {
     "data": {
      "image/png": "[encoded data removed]",
      "text/plain": [
       "<Figure size 864x576 with 1 Axes>"
      ]
     },
     "metadata": {
      "needs_background": "light"
     },
     "output_type": "display_data"
    }
   ],
   "source": [
    "save_figures(\n",
    "    \"xgboost\",\n",
    "    report(xgboost_cv.best_estimator_, significant_feature_pipeline, significant_feature_pipeline.transform(d_test), drop=[\"weight\"])\n",
    ")"
   ]
  },
  {
   "cell_type": "markdown",
   "metadata": {},
   "source": [
    "## Conclusion\n",
    "\n",
    "Within this toy project we managed to reproduce Higgs mass peak, while discovering that ATLAS Open Data is not enough to reproduce backgrounds taking part in the process. Moreover, we managed to set up the end-to-end pipeline for feature processing and learning. It is implemented in Python but, thanks to NumPy and \"family\", still not less efficient than C++ codes.\n",
    "\n",
    "Feature processing pipeline, now provides basic set of simple features and can easily be extended to producing more sophisticated collections without loss in speed. We learned that jagged data is the essential feature of in HEP analyses, and future attempts to train on particle data should account on this. Having this in mind, we, however, decided to follow the simplest approach for the sake of building a wider picture of the data analysis pipeline in ATLAS.\n",
    "\n",
    "Finally, several models have been tested in order to classify Higgs boson production mechanisms. All of them show results highly biased towards gluon-gluon fusion. This most probably caused by the fact that the data is imbalanced by both parameters: number of events and event weights. Sometimes minority by number of events can consist majority in weights."
   ]
  },
  {
   "cell_type": "code",
   "execution_count": null,
   "metadata": {},
   "outputs": [],
   "source": []
  }
 ],
 "metadata": {
  "celltoolbar": "Tags",
  "kernelspec": {
   "display_name": "Python 3",
   "language": "python",
   "name": "python3"
  },
  "language_info": {
   "codemirror_mode": {
    "name": "ipython",
    "version": 3
   },
   "file_extension": ".py",
   "mimetype": "text/x-python",
   "name": "python",
   "nbconvert_exporter": "python",
   "pygments_lexer": "ipython3",
   "version": "3.6.8"
  }
 },
 "nbformat": 4,
 "nbformat_minor": 4
}
