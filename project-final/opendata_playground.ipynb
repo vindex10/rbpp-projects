{
 "cells": [
  {
   "cell_type": "markdown",
   "metadata": {},
   "source": [
    "# FYS5555 2020\n",
    "\n",
    "## Final Project: ATLAS Open Data\n",
    "\n",
    "## «Classification of Higgs production mechanism based on Hγγ dataset»\n",
    "\n"
   ]
  },
  {
   "cell_type": "markdown",
   "metadata": {},
   "source": [
    "## Data investigation. Higgs di-photon peak\n",
    "\n",
    "Event selection based on https://arxiv.org/abs/1802.04146\n",
    "\n",
    "The goal of this chapter is to practice in extracting data from root files provided by ATLAS OpenData. Fully pythonic approach implemented here could serve as a proof of concept, that flexibility of python zoo of libraries can be exploited fully without loss of the efficiency in data processing."
   ]
  },
  {
   "cell_type": "code",
   "execution_count": 1,
   "metadata": {
    "tags": [
     "hide"
    ]
   },
   "outputs": [],
   "source": [
    "import os\n",
    "import time\n",
    "\n",
    "import numpy as np\n",
    "import scipy as sp\n",
    "from scipy import sparse\n",
    "import pandas as pd\n",
    "import matplotlib.pyplot as plt\n",
    "\n",
    "import uproot"
   ]
  },
  {
   "cell_type": "code",
   "execution_count": 2,
   "metadata": {
    "tags": [
     "hide"
    ]
   },
   "outputs": [],
   "source": [
    "data_path = \"/afs/cern.ch/user/a/ananiev/cernbox/data/\""
   ]
  },
  {
   "cell_type": "markdown",
   "metadata": {},
   "source": [
    "For the analysis we preserve directory structure from OpenData archives. Monte carlo datasets carry a label that will be useful in the next chapters, where we are going to build classifier for differentiating production mechanisms of the Higgs boson at LHC."
   ]
  },
  {
   "cell_type": "code",
   "execution_count": 3,
   "metadata": {},
   "outputs": [],
   "source": [
    "datasets = {\n",
    "    \"GamGam\": {\n",
    "        \"Data\": [\n",
    "            \"data_A.GamGam\",\n",
    "            \"data_B.GamGam\",\n",
    "            \"data_C.GamGam\",\n",
    "            \"data_D.GamGam\"\n",
    "        ],\n",
    "        \"MC\": [\n",
    "            (\"mc_341081.ttH125_gamgam.GamGam\", {\"tag\": \"tt\"}),\n",
    "            (\"mc_343981.ggH125_gamgam.GamGam\", {\"tag\": \"gg\"}),\n",
    "            (\"mc_345041.VBFH125_gamgam.GamGam\", {\"tag\": \"VBF\"}),\n",
    "            (\"mc_345318.WpH125J_Wincl_gamgam.GamGam\", {\"tag\": \"Wp\"}),\n",
    "            (\"mc_345319.ZH125J_Zincl_gamgam.GamGam\", {\"tag\": \"Z\"})\n",
    "\n",
    "        ]\n",
    "    }\n",
    "}"
   ]
  },
  {
   "cell_type": "code",
   "execution_count": 4,
   "metadata": {
    "tags": [
     "hide"
    ]
   },
   "outputs": [],
   "source": [
    "def yield_files_with_meta(datasets, type_filter=None):\n",
    "    if type_filter is None:\n",
    "        type_filter = [\"MC\"]\n",
    "    \n",
    "    for process_name, process in datasets.items():\n",
    "        print(\"Process: \", process_name)\n",
    "        for type_name, thetype in process.items():\n",
    "            print(\"Type: \", type_name)\n",
    "            if type_name not in type_filter:\n",
    "                continue\n",
    "            for filedata in thetype:\n",
    "                try:\n",
    "                    filename, meta = filedata\n",
    "                except ValueError:\n",
    "                    filename = filedata\n",
    "                    meta = {}\n",
    "                print(\"File: \", filename)\n",
    "                fullpath = os.path.join(\"root://\", data_path, process_name, type_name, f\"{filename}.root\")\n",
    "                yield (process_name, type_name, filename), fullpath"
   ]
  },
  {
   "cell_type": "code",
   "execution_count": 5,
   "metadata": {
    "tags": [
     "hide"
    ]
   },
   "outputs": [],
   "source": [
    "def dict_apply_mask(d, mask, fields=None):\n",
    "    if fields is None:\n",
    "        fields = d.keys()\n",
    "    for f in fields:\n",
    "        d[f] = d[f][mask]"
   ]
  },
  {
   "cell_type": "code",
   "execution_count": 6,
   "metadata": {
    "tags": [
     "hide"
    ]
   },
   "outputs": [],
   "source": [
    "def eta2tg_theta(eta):\n",
    "    tg_theta = np.exp(-eta)\n",
    "    tg_theta = 2*tg_theta**2/(1 - tg_theta**2)\n",
    "    return tg_theta"
   ]
  },
  {
   "cell_type": "code",
   "execution_count": 7,
   "metadata": {
    "tags": [
     "hide"
    ]
   },
   "outputs": [],
   "source": [
    "def atlas_two_cosine(events, p1, p2):\n",
    "    tg_theta_1 = eta2tg_theta(events[p1+b\"_eta\"])\n",
    "    tg_theta_2 = eta2tg_theta(events[p2+b\"_eta\"])\n",
    "    cos_delta_phi = np.cos(events[p2+b\"_phi\"] - events[p1+b\"_phi\"])\n",
    "    return (cos_delta_phi + tg_theta_1*tg_theta_2)/np.sqrt((tg_theta_1**2 + 1)*(tg_theta_2**2 + 1))"
   ]
  },
  {
   "cell_type": "markdown",
   "metadata": {},
   "source": [
    "We see the event features to be grouped into the categories:\n",
    "\n",
    "* generic features: MET, triggers. weight...\n",
    "* particle related features: `photon_*`, `lep_*`, `jet_*`, ...\n",
    "\n",
    "Also we separate features in micro and macro features. Macro features are event wide and can be operated in a vectorized manner through the batch of events, while micro features depend on the particle content within the event. For instance, `photon_n` is a macro feature, each event has some number of photons, and `photon_pt` is a micro feature, because each of the `n` photons in the event has its own `pt`. At the same time, `photon_lead1_pt` is a `pt` for the leading photon, so it becomes \"macro\" again.\n",
    "\n",
    "In the function below we apply cuts on event batch based on photon macro and micro features. Notice that there are no explicit loops over events in the batch, that is the power of numpy, that all the loops happen on the backend, powered by c++/fortran precompiled modules."
   ]
  },
  {
   "cell_type": "code",
   "execution_count": 8,
   "metadata": {},
   "outputs": [],
   "source": [
    "def photon_filter(events):\n",
    "    # macro_mask = True\n",
    "    \n",
    "    macro_events = {}\n",
    "    micro_events = {}\n",
    "    \n",
    "    macro_events[b\"photon_n\"] = events[b\"photon_n\"]\n",
    "    n_threshold = macro_events[b\"photon_n\"] >= 2\n",
    "    macro_mask = n_threshold\n",
    "    \n",
    "    micro_events[b\"photon_pt\"] = events[b\"photon_pt\"][n_threshold]\n",
    "    micro_events[b\"photon_eta\"] = events[b\"photon_eta\"][n_threshold]\n",
    "    micro_events[b\"photon_phi\"] = events[b\"photon_phi\"][n_threshold]\n",
    "    micro_events[b\"photon_E\"] = events[b\"photon_E\"][n_threshold]\n",
    "    micro_events[b\"photon_isTightID\"] = events[b\"photon_isTightID\"][n_threshold]\n",
    "    micro_events[b\"photon_trigMatched\"] = events[b\"photon_trigMatched\"][n_threshold]\n",
    "    micro_events[b\"photon_ptcone30\"] = events[b\"photon_ptcone30\"][n_threshold]\n",
    "    micro_events[b\"photon_etcone20\"] = events[b\"photon_etcone20\"][n_threshold]\n",
    "    \n",
    "    \n",
    "    pts = micro_events[b\"photon_pt\"].argsort(ascending=False)\n",
    "    row_indices = np.arange(pts.shape[0])\n",
    "    lead_pts = pts[:, 0]\n",
    "    sublead_pts = pts[:, 1]\n",
    "    \n",
    "    \n",
    "    macro_events[b\"photon_n\"] = macro_events[b\"photon_n\"][n_threshold]\n",
    "    macro_events[b\"photon_lead_pt\"] = micro_events[b\"photon_pt\"][row_indices, lead_pts]\n",
    "    macro_events[b\"photon_lead_eta\"] = micro_events[b\"photon_eta\"][row_indices, lead_pts]\n",
    "    macro_events[b\"photon_lead_phi\"] = micro_events[b\"photon_phi\"][row_indices, lead_pts]\n",
    "    macro_events[b\"photon_lead_E\"] = micro_events[b\"photon_E\"][row_indices, lead_pts]\n",
    "    macro_events[b\"photon_lead_isTightID\"] = micro_events[b\"photon_isTightID\"][row_indices, lead_pts]\n",
    "    macro_events[b\"photon_lead_trigMatched\"] = micro_events[b\"photon_trigMatched\"][row_indices, lead_pts]\n",
    "    macro_events[b\"photon_lead_ptcone30\"] = micro_events[b\"photon_ptcone30\"][row_indices, lead_pts]\n",
    "    macro_events[b\"photon_lead_etcone20\"] = micro_events[b\"photon_etcone20\"][row_indices, lead_pts]\n",
    "    macro_events[b\"photon_sublead_pt\"] = micro_events[b\"photon_pt\"][row_indices, sublead_pts]\n",
    "    macro_events[b\"photon_sublead_eta\"] = micro_events[b\"photon_eta\"][row_indices, sublead_pts]\n",
    "    macro_events[b\"photon_sublead_phi\"] = micro_events[b\"photon_phi\"][row_indices, sublead_pts]\n",
    "    macro_events[b\"photon_sublead_E\"] = micro_events[b\"photon_E\"][row_indices, sublead_pts]\n",
    "    macro_events[b\"photon_sublead_isTightID\"] = micro_events[b\"photon_isTightID\"][row_indices, sublead_pts]\n",
    "    macro_events[b\"photon_sublead_trigMatched\"] = micro_events[b\"photon_trigMatched\"][row_indices, sublead_pts]\n",
    "    macro_events[b\"photon_sublead_ptcone30\"] = micro_events[b\"photon_ptcone30\"][row_indices, sublead_pts]\n",
    "    macro_events[b\"photon_sublead_etcone20\"] = micro_events[b\"photon_etcone20\"][row_indices, sublead_pts]\n",
    "    \n",
    "    macro_filter = (  (macro_events[b\"photon_lead_pt\"] > 25000)\n",
    "                    &\n",
    "                      (macro_events[b\"photon_sublead_pt\"] > 25000)\n",
    "                    &\n",
    "                      (macro_events[b\"photon_lead_isTightID\"])\n",
    "                    &\n",
    "                      (macro_events[b\"photon_sublead_isTightID\"])\n",
    "                    &\n",
    "                      (macro_events[b\"photon_lead_trigMatched\"])\n",
    "                    &\n",
    "                      (macro_events[b\"photon_sublead_trigMatched\"])\n",
    "                    & \n",
    "                      (macro_events[b\"photon_lead_ptcone30\"] < 0.065)\n",
    "                    & \n",
    "                      (macro_events[b\"photon_lead_etcone20\"] < 0.065)\n",
    "                    & \n",
    "                      (macro_events[b\"photon_sublead_ptcone30\"] < 0.065)\n",
    "                    & \n",
    "                      (macro_events[b\"photon_sublead_etcone20\"] < 0.065)\n",
    "                    & \n",
    "                      (  (np.absolute(macro_events[b\"photon_lead_eta\"]) < 1.37) \n",
    "                       | \n",
    "                         (  (np.absolute(macro_events[b\"photon_lead_eta\"]) > 1.52)\n",
    "                          & (np.absolute(macro_events[b\"photon_lead_eta\"]) < 2.37)\n",
    "                         )\n",
    "                      )\n",
    "                    & (  (np.absolute(macro_events[b\"photon_sublead_eta\"]) < 1.37) \n",
    "                       | \n",
    "                         (  (np.absolute(macro_events[b\"photon_sublead_eta\"]) > 1.52)\n",
    "                          & (np.absolute(macro_events[b\"photon_sublead_eta\"]) < 2.37)\n",
    "                         )\n",
    "                      )\n",
    "                   )\n",
    "    \n",
    "    dict_apply_mask(macro_events, macro_filter)\n",
    "    macro_mask[macro_mask] = macro_filter\n",
    "\n",
    "    macro_events[b\"h_mass\"] = np.sqrt(2.*macro_events[b\"photon_lead_E\"]\n",
    "                                        *macro_events[b\"photon_sublead_E\"]\n",
    "                                        *(1. - atlas_two_cosine(macro_events, b\"photon_lead\", b\"photon_sublead\"))\n",
    "                                     )\n",
    "    \n",
    "    mass_cutoff =   (macro_events[b\"photon_lead_E\"]/macro_events[b\"h_mass\"] > 0.35) \\\n",
    "                  & (macro_events[b\"photon_sublead_E\"]/macro_events[b\"h_mass\"] > 0.25) \\\n",
    "                  & (macro_events[b\"h_mass\"] >= 105000.) \\\n",
    "                  & (macro_events[b\"h_mass\"] <= 160000)\n",
    "    \n",
    "    dict_apply_mask(macro_events, mass_cutoff)\n",
    "    macro_mask[macro_mask] = mass_cutoff\n",
    "    \n",
    "    return macro_events, macro_mask\n",
    "#photon_filter(test_events)"
   ]
  },
  {
   "cell_type": "markdown",
   "metadata": {},
   "source": [
    "In addition to photon features, that are relevant for computing the Higgs boson mass, we also compute weights. We normalize weights to luminosity $1~pb^{-1}$, and rescale it later to the proper ATLAS OpenData luminosity."
   ]
  },
  {
   "cell_type": "code",
   "execution_count": 9,
   "metadata": {},
   "outputs": [],
   "source": [
    "def process_event_batch(events, bin_edges, weighted=False):\n",
    "    filtered_photons, photon_macro_mask = photon_filter(events)\n",
    "    h_masses = filtered_photons[b\"h_mass\"]/1000\n",
    "    if weighted:\n",
    "        total_weights = events[b\"SumWeights\"][0]\n",
    "        x_section = events[b\"XSection\"][0]\n",
    "        weights = (  events[b\"mcWeight\"]\n",
    "                   * events[b'scaleFactor_PILEUP'] \n",
    "                   * events[b'scaleFactor_ELE'] \n",
    "                   * events[b'scaleFactor_MUON'] \n",
    "                   * events[b'scaleFactor_PHOTON'] \n",
    "                   * events[b'scaleFactor_TAU'] \n",
    "                   * events[b'scaleFactor_BTAG'] \n",
    "                   * events[b'scaleFactor_LepTRIGGER'] \n",
    "                   * events[b'scaleFactor_PhotonTRIGGER']\n",
    "                  )[photon_macro_mask]/total_weights*x_section\n",
    "    else:\n",
    "        weights = None\n",
    "    hist = np.histogram(h_masses, bin_edges, weights=weights, density=False)[0]\n",
    "    return hist\n",
    "#process_event_batch(test_events, bin_edges)"
   ]
  },
  {
   "cell_type": "markdown",
   "metadata": {},
   "source": [
    "We are going to fill in the histogram between `105 GeV` and `160 GeV` with a binsize `1 GeV`."
   ]
  },
  {
   "cell_type": "code",
   "execution_count": 10,
   "metadata": {},
   "outputs": [],
   "source": [
    "bin_edges = np.linspace(105., 160., 55, dtype=np.float64)"
   ]
  },
  {
   "cell_type": "code",
   "execution_count": 11,
   "metadata": {
    "tags": [
     "hide"
    ]
   },
   "outputs": [],
   "source": [
    "def histogram_per_file(datasets, binedges, type_filter):\n",
    "    entrysteps = 100000\n",
    "    \n",
    "    histograms = {}\n",
    "    for (process, thetype, name), fullpath in yield_files_with_meta(datasets, type_filter):\n",
    "        label = f\"{process}:{thetype}:{name}\"\n",
    "        histograms[label] = np.zeros((bin_edges.shape[0] - 1,), dtype=np.float64)\n",
    "        thehist = histograms[label]\n",
    "        is_mc = (\"mc\" == thetype.lower())\n",
    "        with uproot.open(fullpath) as f:\n",
    "            total_events = f[\"mini\"].numentries\n",
    "            print(\"Total Num Events: \", total_events)\n",
    "            time_start = time.perf_counter()\n",
    "            time_now = time_start\n",
    "            times = []\n",
    "            for i, events in enumerate(f[\"mini\"].iterate([\"*\"], entrysteps=entrysteps)):\n",
    "                thehist += process_event_batch(events, bin_edges, weighted=is_mc)\n",
    "                time_diff = time.perf_counter() - time_now\n",
    "                time_now += time_diff\n",
    "                times.append(time_diff)\n",
    "                print(\"Processed: \", (i+1)*entrysteps, \"; Time per batch: \", time_diff)\n",
    "            print(\"Total time: \", time.perf_counter() - time_start, \"; Median time per batch: \", np.median(times))\n",
    "    return histograms"
   ]
  },
  {
   "cell_type": "code",
   "execution_count": 12,
   "metadata": {},
   "outputs": [
    {
     "name": "stdout",
     "output_type": "stream",
     "text": [
      "Process:  GamGam\n",
      "Type:  Data\n",
      "Type:  MC\n",
      "File:  mc_341081.ttH125_gamgam.GamGam\n",
      "Total Num Events:  576491\n",
      "Processed:  100000 ; Time per batch:  6.293894171016291\n",
      "Processed:  200000 ; Time per batch:  1.9972253229934722\n",
      "Processed:  300000 ; Time per batch:  1.8634532139985822\n",
      "Processed:  400000 ; Time per batch:  2.002714964997722\n",
      "Processed:  500000 ; Time per batch:  1.8058979299967177\n",
      "Processed:  600000 ; Time per batch:  1.2022151520068292\n",
      "Total time:  15.166532902017934 ; Median time per batch:  1.9303392684960272\n",
      "File:  mc_343981.ggH125_gamgam.GamGam\n",
      "Total Num Events:  1054711\n",
      "Processed:  100000 ; Time per batch:  2.6116490270069335\n",
      "Processed:  200000 ; Time per batch:  2.13506270799553\n",
      "Processed:  300000 ; Time per batch:  1.2414860120043159\n",
      "Processed:  400000 ; Time per batch:  1.8643696589861065\n",
      "Processed:  500000 ; Time per batch:  2.124982950015692\n",
      "Processed:  600000 ; Time per batch:  1.2132060430012643\n",
      "Processed:  700000 ; Time per batch:  1.8917310500110034\n",
      "Processed:  800000 ; Time per batch:  2.011606785992626\n",
      "Processed:  900000 ; Time per batch:  1.2413375650066882\n",
      "Processed:  1000000 ; Time per batch:  1.629963688988937\n",
      "Processed:  1100000 ; Time per batch:  0.8041210430092178\n",
      "Total time:  18.770467270020163 ; Median time per batch:  1.8643696589861065\n",
      "File:  mc_345041.VBFH125_gamgam.GamGam\n",
      "Total Num Events:  497468\n",
      "Processed:  100000 ; Time per batch:  2.388530158001231\n",
      "Processed:  200000 ; Time per batch:  1.8943121249903925\n",
      "Processed:  300000 ; Time per batch:  2.0576017910207156\n",
      "Processed:  400000 ; Time per batch:  1.18415454600472\n",
      "Processed:  500000 ; Time per batch:  1.3463899259804748\n",
      "Total time:  8.87166065099882 ; Median time per batch:  1.8943121249903925\n",
      "File:  mc_345318.WpH125J_Wincl_gamgam.GamGam\n",
      "Total Num Events:  113765\n",
      "Processed:  100000 ; Time per batch:  1.706001673010178\n",
      "Processed:  200000 ; Time per batch:  0.36040472498279996\n",
      "Total time:  2.0672933740133885 ; Median time per batch:  1.033203198996489\n",
      "File:  mc_345319.ZH125J_Zincl_gamgam.GamGam\n",
      "Total Num Events:  230900\n",
      "Processed:  100000 ; Time per batch:  2.2857125399750657\n",
      "Processed:  200000 ; Time per batch:  1.6657237780163996\n",
      "Processed:  300000 ; Time per batch:  0.5406773919821717\n",
      "Total time:  4.49256811797386 ; Median time per batch:  1.6657237780163996\n"
     ]
    }
   ],
   "source": [
    "mc_hists = histogram_per_file(datasets, bin_edges, [\"MC\"])"
   ]
  },
  {
   "cell_type": "code",
   "execution_count": 13,
   "metadata": {},
   "outputs": [
    {
     "name": "stdout",
     "output_type": "stream",
     "text": [
      "Process:  GamGam\n",
      "Type:  Data\n",
      "File:  data_A.GamGam\n",
      "Total Num Events:  430344\n",
      "Processed:  100000 ; Time per batch:  2.3173384759866167\n",
      "Processed:  200000 ; Time per batch:  1.788156719005201\n",
      "Processed:  300000 ; Time per batch:  1.668021237011999\n",
      "Processed:  400000 ; Time per batch:  1.1781311229860876\n",
      "Processed:  500000 ; Time per batch:  0.5277208290062845\n",
      "Total time:  7.479961359989829 ; Median time per batch:  1.668021237011999\n",
      "File:  data_B.GamGam\n",
      "Total Num Events:  1528717\n",
      "Processed:  100000 ; Time per batch:  1.9768924489908386\n",
      "Processed:  200000 ; Time per batch:  33.71247603700613\n",
      "Processed:  300000 ; Time per batch:  2.000965654005995\n",
      "Processed:  400000 ; Time per batch:  13.202016113995342\n",
      "Processed:  500000 ; Time per batch:  41.70850273699034\n",
      "Processed:  600000 ; Time per batch:  21.285318457026733\n",
      "Processed:  700000 ; Time per batch:  4.404384337976808\n",
      "Processed:  800000 ; Time per batch:  3.935956977016758\n",
      "Processed:  900000 ; Time per batch:  1.284366231993772\n",
      "Processed:  1000000 ; Time per batch:  23.703528709011152\n",
      "Processed:  1100000 ; Time per batch:  3.470452393987216\n",
      "Processed:  1200000 ; Time per batch:  1.351708005007822\n",
      "Processed:  1300000 ; Time per batch:  2.819359435001388\n",
      "Processed:  1400000 ; Time per batch:  2.6543479200045113\n",
      "Processed:  1500000 ; Time per batch:  1.2575539929966908\n",
      "Processed:  1600000 ; Time per batch:  0.5789988129981793\n",
      "Total time:  159.34822951300885 ; Median time per batch:  3.144905914494302\n",
      "File:  data_C.GamGam\n",
      "Total Num Events:  2237187\n",
      "Processed:  100000 ; Time per batch:  3.528646318009123\n",
      "Processed:  200000 ; Time per batch:  6.019793995976215\n",
      "Processed:  300000 ; Time per batch:  2.2965107840136625\n",
      "Processed:  400000 ; Time per batch:  6.112018518004334\n",
      "Processed:  500000 ; Time per batch:  6.430078031000448\n",
      "Processed:  600000 ; Time per batch:  2.0945493409817573\n",
      "Processed:  700000 ; Time per batch:  3.610655519005377\n",
      "Processed:  800000 ; Time per batch:  2.2181515090051107\n",
      "Processed:  900000 ; Time per batch:  1.2080048889911268\n",
      "Processed:  1000000 ; Time per batch:  2.092220332007855\n",
      "Processed:  1100000 ; Time per batch:  3.1313097210077103\n",
      "Processed:  1200000 ; Time per batch:  1.229269942996325\n",
      "Processed:  1300000 ; Time per batch:  2.0494723370065913\n",
      "Processed:  1400000 ; Time per batch:  2.1642716429778375\n",
      "Processed:  1500000 ; Time per batch:  1.2074573490244802\n",
      "Processed:  1600000 ; Time per batch:  2.522656119981548\n",
      "Processed:  1700000 ; Time per batch:  4.752757062000455\n",
      "Processed:  1800000 ; Time per batch:  1.433222627005307\n",
      "Processed:  1900000 ; Time per batch:  3.1752615360019263\n",
      "Processed:  2000000 ; Time per batch:  2.6617419900139794\n",
      "Processed:  2100000 ; Time per batch:  1.2606759199989028\n",
      "Processed:  2200000 ; Time per batch:  1.3555108459840994\n",
      "Processed:  2300000 ; Time per batch:  0.5550304230127949\n",
      "Total time:  63.11082080498454 ; Median time per batch:  2.2181515090051107\n",
      "File:  data_D.GamGam\n",
      "Total Num Events:  3602176\n",
      "Processed:  100000 ; Time per batch:  9.95270270499168\n",
      "Processed:  200000 ; Time per batch:  9.904994501994224\n",
      "Processed:  300000 ; Time per batch:  18.32155925099505\n",
      "Processed:  400000 ; Time per batch:  1.2280266440066043\n",
      "Processed:  500000 ; Time per batch:  10.84443163400283\n",
      "Processed:  600000 ; Time per batch:  6.47874840098666\n",
      "Processed:  700000 ; Time per batch:  1.222468887019204\n",
      "Processed:  800000 ; Time per batch:  4.694358328997623\n",
      "Processed:  900000 ; Time per batch:  2.185834461997729\n",
      "Processed:  1000000 ; Time per batch:  2.0873303780099377\n",
      "Processed:  1100000 ; Time per batch:  1.185796023986768\n",
      "Processed:  1200000 ; Time per batch:  2.161665488994913\n",
      "Processed:  1300000 ; Time per batch:  2.3255964220152237\n",
      "Processed:  1400000 ; Time per batch:  1.3412310419953428\n",
      "Processed:  1500000 ; Time per batch:  2.01880007199361\n",
      "Processed:  1600000 ; Time per batch:  2.1295145970070735\n",
      "Processed:  1700000 ; Time per batch:  1.274873854010366\n",
      "Processed:  1800000 ; Time per batch:  1.9686409749847371\n",
      "Processed:  1900000 ; Time per batch:  2.086652010999387\n",
      "Processed:  2000000 ; Time per batch:  4.565617317013675\n",
      "Processed:  2100000 ; Time per batch:  1.2328976579883602\n",
      "Processed:  2200000 ; Time per batch:  2.348031000001356\n",
      "Processed:  2300000 ; Time per batch:  2.867561332997866\n",
      "Processed:  2400000 ; Time per batch:  1.2364994559902698\n",
      "Processed:  2500000 ; Time per batch:  1.9841973160218913\n",
      "Processed:  2600000 ; Time per batch:  2.8939668589737266\n",
      "Processed:  2700000 ; Time per batch:  2.0697213410167024\n",
      "Processed:  2800000 ; Time per batch:  3.0624281099881046\n",
      "Processed:  2900000 ; Time per batch:  2.3980214280018117\n",
      "Processed:  3000000 ; Time per batch:  5.380172905017389\n",
      "Processed:  3100000 ; Time per batch:  1.1835654369788244\n",
      "Processed:  3200000 ; Time per batch:  3.029844569013221\n",
      "Processed:  3300000 ; Time per batch:  3.605678268999327\n",
      "Processed:  3400000 ; Time per batch:  1.2621516860090196\n",
      "Processed:  3500000 ; Time per batch:  2.1828310709970538\n",
      "Processed:  3600000 ; Time per batch:  1.399448237993056\n",
      "Processed:  3700000 ; Time per batch:  0.1455443919985555\n",
      "Total time:  126.26440307497978 ; Median time per batch:  2.161665488994913\n",
      "Type:  MC\n"
     ]
    }
   ],
   "source": [
    "data_hists = histogram_per_file(datasets, bin_edges, [\"Data\"])"
   ]
  },
  {
   "cell_type": "markdown",
   "metadata": {},
   "source": [
    "A nice observation, 100 000 events can be processed in 2 seconds. ~4 million events take 2 minutes to process. We could improve by increasing batch size because the major overhead is coming from data transport through xrootd. Moreover multithreading can be applied since analyses of batches are independent.\n",
    "\n",
    "Below we show histograms collected per file with higgs mass at luminosity $1~pb^{-1}$. Then we add up all the data events to plot them later as data points, and we add up mc events to plot them on the same figure. Before plotting we show aggregated histograms rescaled to the proper luminosity."
   ]
  },
  {
   "cell_type": "code",
   "execution_count": 14,
   "metadata": {},
   "outputs": [
    {
     "data": {
      "text/plain": [
       "{'GamGam:MC:mc_341081.ttH125_gamgam.GamGam': array([5.65047672e-10, 5.33132812e-10, 7.42442760e-10, 8.31777341e-10,\n",
       "        1.08503467e-09, 1.26202288e-09, 1.36488520e-09, 1.40314810e-09,\n",
       "        1.44317902e-09, 1.30233380e-09, 1.31511613e-09, 1.45692713e-09,\n",
       "        1.51053814e-09, 1.22571531e-09, 1.56877888e-09, 1.30814759e-09,\n",
       "        1.40515088e-09, 1.51306301e-09, 1.53389723e-09, 1.72799419e-09,\n",
       "        1.60721370e-09, 1.50418034e-09, 1.52605328e-09, 1.37250433e-09,\n",
       "        1.53223789e-09, 1.44953116e-09, 1.46806212e-09, 1.31678179e-09,\n",
       "        1.32800437e-09, 1.27055211e-09, 1.08878773e-09, 1.26702115e-09,\n",
       "        1.42401380e-09, 1.20324373e-09, 1.18552634e-09, 1.29262689e-09,\n",
       "        1.16541488e-09, 1.32101130e-09, 1.12417897e-09, 1.16843069e-09,\n",
       "        1.04343245e-09, 9.66566827e-10, 1.03113340e-09, 8.73426664e-10,\n",
       "        6.99159397e-10, 9.66799529e-10, 9.15727494e-10, 8.73328077e-10,\n",
       "        8.12461209e-10, 9.37107281e-10, 6.63745503e-10, 8.86183571e-10,\n",
       "        9.96506877e-10, 8.02485189e-10]),\n",
       " 'GamGam:MC:mc_343981.ggH125_gamgam.GamGam': array([2.75232504e-05, 2.65565694e-05, 3.42200628e-05, 4.49809284e-05,\n",
       "        5.93220552e-05, 7.57380749e-05, 8.55187818e-05, 8.41525325e-05,\n",
       "        8.96265901e-05, 8.53186921e-05, 7.38690433e-05, 7.08553525e-05,\n",
       "        7.09545675e-05, 6.87028441e-05, 6.87558568e-05, 6.53458264e-05,\n",
       "        6.88706787e-05, 6.98863696e-05, 7.95196465e-05, 9.10734452e-05,\n",
       "        9.22815307e-05, 8.36372274e-05, 8.00723792e-05, 7.05828716e-05,\n",
       "        6.20545034e-05, 5.90406271e-05, 5.34188075e-05, 5.08813609e-05,\n",
       "        4.82483592e-05, 4.50039297e-05, 3.98494958e-05, 3.94866875e-05,\n",
       "        3.48289323e-05, 3.54192307e-05, 3.13902128e-05, 3.09498355e-05,\n",
       "        2.67676223e-05, 2.76318606e-05, 2.39646542e-05, 2.42641108e-05,\n",
       "        2.29760481e-05, 2.34645995e-05, 2.31106824e-05, 2.13076128e-05,\n",
       "        1.97299378e-05, 2.01849325e-05, 2.09815335e-05, 1.79174240e-05,\n",
       "        1.66244135e-05, 1.90027349e-05, 1.82965741e-05, 1.73421140e-05,\n",
       "        1.81813666e-05, 1.61891221e-05]),\n",
       " 'GamGam:MC:mc_345041.VBFH125_gamgam.GamGam': array([2.15013574e-06, 2.58337377e-06, 2.64810626e-06, 3.16884041e-06,\n",
       "        3.48379717e-06, 3.86954389e-06, 4.78068455e-06, 4.78954098e-06,\n",
       "        5.04539730e-06, 4.58468139e-06, 4.82350970e-06, 4.65181984e-06,\n",
       "        5.17931676e-06, 4.65991161e-06, 4.45572095e-06, 5.01843169e-06,\n",
       "        4.40952226e-06, 4.86672434e-06, 4.79361734e-06, 5.64669244e-06,\n",
       "        5.42312227e-06, 5.31328078e-06, 5.17185072e-06, 5.47046329e-06,\n",
       "        4.85525743e-06, 4.39788164e-06, 4.68675353e-06, 4.78890979e-06,\n",
       "        4.35795846e-06, 4.39646828e-06, 4.20197648e-06, 3.86667125e-06,\n",
       "        3.90365130e-06, 4.02299884e-06, 3.84675150e-06, 3.51283052e-06,\n",
       "        3.26829468e-06, 3.64390507e-06, 3.17373633e-06, 3.19484025e-06,\n",
       "        2.99551903e-06, 3.18313687e-06, 2.57114880e-06, 2.74838749e-06,\n",
       "        2.87778312e-06, 2.51393431e-06, 2.34635445e-06, 2.58707223e-06,\n",
       "        2.67540963e-06, 2.26553311e-06, 2.14849933e-06, 2.24731411e-06,\n",
       "        2.42883834e-06, 2.23692041e-06]),\n",
       " 'GamGam:MC:mc_345318.WpH125J_Wincl_gamgam.GamGam': array([4.14076414e-07, 4.64665447e-07, 4.39315528e-07, 5.24191634e-07,\n",
       "        6.20738405e-07, 6.22323654e-07, 8.01728760e-07, 9.30132899e-07,\n",
       "        8.85604948e-07, 9.53670110e-07, 1.02323247e-06, 8.49194066e-07,\n",
       "        8.20101945e-07, 7.40586870e-07, 8.94441996e-07, 8.45133741e-07,\n",
       "        7.83453402e-07, 7.70733095e-07, 9.07704475e-07, 1.00321995e-06,\n",
       "        8.94382538e-07, 9.59129238e-07, 8.96897291e-07, 9.17475745e-07,\n",
       "        9.49641617e-07, 9.71106829e-07, 7.71909754e-07, 7.03427531e-07,\n",
       "        7.89398882e-07, 7.97109578e-07, 7.02951411e-07, 5.73109673e-07,\n",
       "        8.03708645e-07, 7.79793709e-07, 5.76345883e-07, 6.56277962e-07,\n",
       "        5.61828074e-07, 5.71931650e-07, 5.07453251e-07, 5.30086709e-07,\n",
       "        4.83134500e-07, 5.31640353e-07, 4.36952860e-07, 4.52822405e-07,\n",
       "        5.72217687e-07, 4.86608315e-07, 4.80246854e-07, 4.14093392e-07,\n",
       "        4.49108029e-07, 4.36269602e-07, 5.55160568e-07, 2.60940851e-07,\n",
       "        4.12859208e-07, 3.33516709e-07]),\n",
       " 'GamGam:MC:mc_345319.ZH125J_Zincl_gamgam.GamGam': array([4.45329757e-07, 4.40952345e-07, 5.24133817e-07, 4.87747698e-07,\n",
       "        5.80257961e-07, 5.99460918e-07, 7.53131729e-07, 7.55296469e-07,\n",
       "        8.63779348e-07, 8.39179904e-07, 8.44923818e-07, 8.47181241e-07,\n",
       "        8.19725301e-07, 8.61873446e-07, 8.68018560e-07, 7.72287649e-07,\n",
       "        8.18097988e-07, 8.81038090e-07, 9.55236942e-07, 9.56015356e-07,\n",
       "        9.96464451e-07, 9.47625949e-07, 9.32948296e-07, 8.68625875e-07,\n",
       "        9.26722578e-07, 9.11932602e-07, 8.02380100e-07, 7.24998927e-07,\n",
       "        6.75188630e-07, 7.69881581e-07, 7.09675987e-07, 7.10931545e-07,\n",
       "        6.65267180e-07, 6.66492042e-07, 7.23980975e-07, 5.86102487e-07,\n",
       "        5.27924840e-07, 4.90909770e-07, 4.48572791e-07, 5.10016434e-07,\n",
       "        4.91021638e-07, 4.46262220e-07, 4.45155365e-07, 4.78308721e-07,\n",
       "        4.41723387e-07, 4.25426151e-07, 4.34125013e-07, 4.01932084e-07,\n",
       "        4.26385213e-07, 3.87309683e-07, 4.18963282e-07, 3.93739356e-07,\n",
       "        3.91182311e-07, 4.03324066e-07])}"
      ]
     },
     "execution_count": 14,
     "metadata": {},
     "output_type": "execute_result"
    }
   ],
   "source": [
    "mc_hists"
   ]
  },
  {
   "cell_type": "code",
   "execution_count": 15,
   "metadata": {},
   "outputs": [
    {
     "data": {
      "text/plain": [
       "{'GamGam:Data:data_A.GamGam': array([16., 16., 11., 18., 12., 22., 13., 11., 18., 16.,  8., 10., 11.,\n",
       "        10., 20., 13., 10., 11., 11., 14., 13.,  6., 13.,  9., 14.,  8.,\n",
       "        10.,  4., 17.,  6., 10.,  7.,  8.,  8., 10., 12.,  4.,  5.,  9.,\n",
       "         7.,  9., 11.,  8.,  8.,  6.,  7., 11.,  2.,  7.,  4.,  7.,  6.,\n",
       "        11.,  1.]),\n",
       " 'GamGam:Data:data_B.GamGam': array([67., 54., 57., 59., 48., 63., 63., 67., 48., 54., 49., 40., 36.,\n",
       "        36., 48., 46., 44., 32., 50., 33., 53., 36., 35., 40., 32., 42.,\n",
       "        36., 43., 25., 22., 41., 29., 35., 36., 39., 30., 22., 37., 25.,\n",
       "        25., 28., 34., 20., 33., 25., 30., 32., 34., 21., 25., 23., 24.,\n",
       "        23., 16.]),\n",
       " 'GamGam:Data:data_C.GamGam': array([ 77.,  72., 109.,  86.,  82.,  79.,  70.,  68.,  67.,  79.,  78.,\n",
       "         71.,  77.,  73.,  51.,  67.,  57.,  62.,  57.,  63.,  59.,  60.,\n",
       "         46.,  56.,  58.,  34.,  56.,  51.,  45.,  51.,  53.,  46.,  45.,\n",
       "         35.,  37.,  45.,  34.,  42.,  42.,  49.,  40.,  47.,  46.,  41.,\n",
       "         45.,  33.,  33.,  47.,  39.,  36.,  29.,  35.,  39.,  30.]),\n",
       " 'GamGam:Data:data_D.GamGam': array([130., 150., 143., 134., 110., 146., 128., 114., 121., 116., 119.,\n",
       "        117., 104., 116., 119.,  97.,  95., 112., 114., 104.,  98.,  76.,\n",
       "         96.,  92.,  97.,  91., 106.,  82.,  87.,  88.,  79.,  83.,  67.,\n",
       "         87.,  85.,  69.,  68.,  61.,  60.,  58.,  61.,  68.,  58.,  58.,\n",
       "         64.,  54.,  51.,  59.,  49.,  64.,  50.,  54.,  55.,  48.])}"
      ]
     },
     "execution_count": 15,
     "metadata": {},
     "output_type": "execute_result"
    }
   ],
   "source": [
    "data_hists"
   ]
  },
  {
   "cell_type": "code",
   "execution_count": 16,
   "metadata": {
    "tags": [
     "hide_output"
    ]
   },
   "outputs": [],
   "source": [
    "data_hist = sum(data_hists.values())"
   ]
  },
  {
   "cell_type": "code",
   "execution_count": 17,
   "metadata": {
    "tags": [
     "hide_output"
    ]
   },
   "outputs": [],
   "source": [
    "mc_hist = sum(mc_hists.values())"
   ]
  },
  {
   "cell_type": "code",
   "execution_count": 18,
   "metadata": {
    "tags": [
     "hide"
    ]
   },
   "outputs": [
    {
     "data": {
      "text/plain": [
       "0.0028548804640280492"
      ]
     },
     "execution_count": 18,
     "metadata": {},
     "output_type": "execute_result"
    }
   ],
   "source": [
    "mc_hist.sum()"
   ]
  },
  {
   "cell_type": "code",
   "execution_count": 19,
   "metadata": {
    "tags": [
     "hide"
    ]
   },
   "outputs": [
    {
     "data": {
      "text/plain": [
       "10335.0"
      ]
     },
     "execution_count": 19,
     "metadata": {},
     "output_type": "execute_result"
    }
   ],
   "source": [
    "data_hist.sum()"
   ]
  },
  {
   "cell_type": "code",
   "execution_count": 20,
   "metadata": {
    "tags": [
     "hide"
    ]
   },
   "outputs": [],
   "source": [
    "bin_mid = (bin_edges[1:] + bin_edges[:-1])/2\n",
    "bin_size = (bin_edges[1:] - bin_edges[:-1])"
   ]
  },
  {
   "cell_type": "markdown",
   "metadata": {},
   "source": [
    "We also define luminosity as $10.6~fb^{-1}$."
   ]
  },
  {
   "cell_type": "code",
   "execution_count": 21,
   "metadata": {},
   "outputs": [],
   "source": [
    "L = 1000*10.6"
   ]
  },
  {
   "cell_type": "code",
   "execution_count": 22,
   "metadata": {},
   "outputs": [
    {
     "data": {
      "text/plain": [
       "array([3.05333574e-05, 3.00460941e-05, 3.78323609e-05, 4.91625399e-05,\n",
       "       6.40079338e-05, 8.08306654e-05, 9.18556917e-05, 9.06289060e-05,\n",
       "       9.64228149e-05, 9.16975258e-05, 8.05620244e-05, 7.72050046e-05,\n",
       "       7.77752220e-05, 7.49664418e-05, 7.49756071e-05, 7.19829877e-05,\n",
       "       7.48831575e-05, 7.64063782e-05, 8.61777392e-05, 9.86811010e-05,\n",
       "       9.95971071e-05, 9.08587675e-05, 8.70756016e-05, 7.78408090e-05,\n",
       "       6.87876572e-05, 6.53229977e-05, 5.96813190e-05, 5.71000140e-05,\n",
       "       5.40722332e-05, 5.09686597e-05, 4.54651885e-05, 4.46386669e-05,\n",
       "       4.02029834e-05, 4.08897185e-05, 3.65384767e-05, 3.57063391e-05,\n",
       "       3.11268353e-05, 3.23399281e-05, 2.80955408e-05, 2.85002227e-05,\n",
       "       2.69467667e-05, 2.76266055e-05, 2.65649705e-05, 2.49880048e-05,\n",
       "       2.36223611e-05, 2.36118681e-05, 2.42431755e-05, 2.13213950e-05,\n",
       "       2.01761289e-05, 2.20927844e-05, 2.14198611e-05, 2.02449945e-05,\n",
       "       2.14152430e-05, 1.91636858e-05])"
      ]
     },
     "execution_count": 22,
     "metadata": {},
     "output_type": "execute_result"
    }
   ],
   "source": [
    "mc_hist"
   ]
  },
  {
   "cell_type": "code",
   "execution_count": 23,
   "metadata": {},
   "outputs": [
    {
     "data": {
      "text/plain": [
       "array([290., 292., 320., 297., 252., 310., 274., 260., 254., 265., 254.,\n",
       "       238., 228., 235., 238., 223., 206., 217., 232., 214., 223., 178.,\n",
       "       190., 197., 201., 175., 208., 180., 174., 167., 183., 165., 155.,\n",
       "       166., 171., 156., 128., 145., 136., 139., 138., 160., 132., 140.,\n",
       "       140., 124., 127., 142., 116., 129., 109., 119., 128.,  95.])"
      ]
     },
     "execution_count": 23,
     "metadata": {},
     "output_type": "execute_result"
    }
   ],
   "source": [
    "data_hist"
   ]
  },
  {
   "cell_type": "markdown",
   "metadata": {},
   "source": [
    "Finally we arrive to the plot with mass of Higgs boson computed from Higgs di-photon events and also datapoints. It turns out that most of the contribution to the data statistics constitute the background, but in MC data we have only signal datasets. That is why data does not match MC properly. Since the goal of this notebook was not the re-discovery of the Higgs, but acquaintance with data, features and relevant python libraries, we are going to wrap up here and follow to the next chapter. There we are going to make use of the workflow we've learned in this chapter and set up the feature processing pipeline for the production mechanism classification problem."
   ]
  },
  {
   "cell_type": "code",
   "execution_count": 24,
   "metadata": {
    "tags": [
     "hide_input"
    ]
   },
   "outputs": [
    {
     "data": {
      "image/png": "[encoded data removed]",
      "text/plain": [
       "<Figure size 432x288 with 2 Axes>"
      ]
     },
     "metadata": {
      "needs_background": "light"
     },
     "output_type": "display_data"
    }
   ],
   "source": [
    "def plot_dat(ax, data_hist, mc_hist):\n",
    "    ax.bar(bin_mid, mc_hist, width=bin_size, zorder=0)\n",
    "    ax.set_ylabel(\"mc events\")\n",
    "    ax1 = ax.twinx()\n",
    "    ax1.scatter(bin_mid, data_hist, zorder=1, color=\"orange\")\n",
    "    ax1.set_ylabel(\"data events\")\n",
    "    ax.set_xlabel(\"$m_{\\gamma \\gamma}$, GeV\")\n",
    "fig, ax = plt.subplots()\n",
    "plot_dat(ax, data_hist, mc_hist*L)"
   ]
  },
  {
   "cell_type": "code",
   "execution_count": 25,
   "metadata": {
    "tags": [
     "hide"
    ]
   },
   "outputs": [],
   "source": [
    "test_mc = uproot.open(os.path.join(\"root://\", data_path, \"GamGam\", \"MC\", f\"{datasets['GamGam']['MC'][0][0]}.root\"))"
   ]
  },
  {
   "cell_type": "code",
   "execution_count": 26,
   "metadata": {
    "tags": [
     "hide"
    ]
   },
   "outputs": [],
   "source": [
    "test_data = uproot.open(os.path.join(\"root://\", data_path, \"GamGam\", \"Data\", f\"{datasets['GamGam']['Data'][0]}.root\"))"
   ]
  },
  {
   "cell_type": "code",
   "execution_count": 27,
   "metadata": {
    "tags": [
     "hide"
    ]
   },
   "outputs": [
    {
     "data": {
      "text/plain": [
       "[b'runNumber',\n",
       " b'eventNumber',\n",
       " b'channelNumber',\n",
       " b'mcWeight',\n",
       " b'scaleFactor_PILEUP',\n",
       " b'scaleFactor_ELE',\n",
       " b'scaleFactor_MUON',\n",
       " b'scaleFactor_PHOTON',\n",
       " b'scaleFactor_TAU',\n",
       " b'scaleFactor_BTAG',\n",
       " b'scaleFactor_LepTRIGGER',\n",
       " b'scaleFactor_PhotonTRIGGER',\n",
       " b'trigE',\n",
       " b'trigM',\n",
       " b'trigP',\n",
       " b'lep_n',\n",
       " b'lep_truthMatched',\n",
       " b'lep_trigMatched',\n",
       " b'lep_pt',\n",
       " b'lep_eta',\n",
       " b'lep_phi',\n",
       " b'lep_E',\n",
       " b'lep_z0',\n",
       " b'lep_charge',\n",
       " b'lep_type',\n",
       " b'lep_isTightID',\n",
       " b'lep_ptcone30',\n",
       " b'lep_etcone20',\n",
       " b'lep_trackd0pvunbiased',\n",
       " b'lep_tracksigd0pvunbiased',\n",
       " b'met_et',\n",
       " b'met_phi',\n",
       " b'jet_n',\n",
       " b'jet_pt',\n",
       " b'jet_eta',\n",
       " b'jet_phi',\n",
       " b'jet_E',\n",
       " b'jet_jvt',\n",
       " b'jet_trueflav',\n",
       " b'jet_truthMatched',\n",
       " b'jet_MV2c10',\n",
       " b'photon_n',\n",
       " b'photon_truthMatched',\n",
       " b'photon_trigMatched',\n",
       " b'photon_pt',\n",
       " b'photon_eta',\n",
       " b'photon_phi',\n",
       " b'photon_E',\n",
       " b'photon_isTightID',\n",
       " b'photon_ptcone30',\n",
       " b'photon_etcone20',\n",
       " b'photon_convType',\n",
       " b'tau_n',\n",
       " b'tau_pt',\n",
       " b'tau_eta',\n",
       " b'tau_phi',\n",
       " b'tau_E',\n",
       " b'tau_isTightID',\n",
       " b'tau_truthMatched',\n",
       " b'tau_trigMatched',\n",
       " b'tau_nTracks',\n",
       " b'tau_BDTid',\n",
       " b'ditau_m',\n",
       " b'lep_pt_syst',\n",
       " b'met_et_syst',\n",
       " b'jet_pt_syst',\n",
       " b'photon_pt_syst',\n",
       " b'tau_pt_syst',\n",
       " b'XSection',\n",
       " b'SumWeights',\n",
       " b'largeRjet_n',\n",
       " b'largeRjet_pt',\n",
       " b'largeRjet_eta',\n",
       " b'largeRjet_phi',\n",
       " b'largeRjet_E',\n",
       " b'largeRjet_m',\n",
       " b'largeRjet_truthMatched',\n",
       " b'largeRjet_D2',\n",
       " b'largeRjet_tau32',\n",
       " b'largeRjet_pt_syst',\n",
       " b'tau_charge']"
      ]
     },
     "execution_count": 27,
     "metadata": {},
     "output_type": "execute_result"
    }
   ],
   "source": [
    "test_data[\"mini\"].keys()"
   ]
  },
  {
   "cell_type": "code",
   "execution_count": 28,
   "metadata": {
    "tags": [
     "hide"
    ]
   },
   "outputs": [],
   "source": [
    "test_mc_events = next(test_mc[\"mini\"].iterate(entrysteps=10000))"
   ]
  },
  {
   "cell_type": "code",
   "execution_count": 29,
   "metadata": {
    "tags": [
     "hide"
    ]
   },
   "outputs": [
    {
     "data": {
      "text/plain": [
       "array([-4.1094459e-12, -3.5343677e-12, -4.1031982e-12, ...,\n",
       "       -1.8202724e-12, -3.4606558e-12,  2.8924742e-12], dtype=float32)"
      ]
     },
     "execution_count": 29,
     "metadata": {},
     "output_type": "execute_result"
    }
   ],
   "source": [
    "        total_weights = test_mc_events[b\"SumWeights\"][0]\n",
    "        x_section = test_mc_events[b\"XSection\"][0]\n",
    "        weights = (  test_mc_events[b\"mcWeight\"]\n",
    "                   * test_mc_events[b'scaleFactor_PILEUP'] \n",
    "                   * test_mc_events[b'scaleFactor_ELE'] \n",
    "                   * test_mc_events[b'scaleFactor_MUON'] \n",
    "                   * test_mc_events[b'scaleFactor_PHOTON'] \n",
    "                   * test_mc_events[b'scaleFactor_TAU'] \n",
    "                   * test_mc_events[b'scaleFactor_BTAG'] \n",
    "                   * test_mc_events[b'scaleFactor_LepTRIGGER'] \n",
    "                   * test_mc_events[b'scaleFactor_PhotonTRIGGER']\n",
    "                  )/total_weights*x_section\n",
    "        weights"
   ]
  },
  {
   "cell_type": "code",
   "execution_count": 30,
   "metadata": {
    "tags": [
     "hide"
    ]
   },
   "outputs": [
    {
     "data": {
      "text/plain": [
       "2.6433863e-06"
      ]
     },
     "execution_count": 30,
     "metadata": {},
     "output_type": "execute_result"
    }
   ],
   "source": [
    "test_mc_events[b\"XSection\"][0]"
   ]
  },
  {
   "cell_type": "code",
   "execution_count": 31,
   "metadata": {
    "tags": [
     "hide"
    ]
   },
   "outputs": [
    {
     "data": {
      "text/plain": [
       "485440.0"
      ]
     },
     "execution_count": 31,
     "metadata": {},
     "output_type": "execute_result"
    }
   ],
   "source": [
    "test_mc_events[b\"SumWeights\"][0]"
   ]
  },
  {
   "cell_type": "code",
   "execution_count": null,
   "metadata": {
    "tags": [
     "hide"
    ]
   },
   "outputs": [],
   "source": []
  }
 ],
 "metadata": {
  "celltoolbar": "Tags",
  "kernelspec": {
   "display_name": "Python 3",
   "language": "python",
   "name": "python3"
  },
  "language_info": {
   "codemirror_mode": {
    "name": "ipython",
    "version": 3
   },
   "file_extension": ".py",
   "mimetype": "text/x-python",
   "name": "python",
   "nbconvert_exporter": "python",
   "pygments_lexer": "ipython3",
   "version": "3.6.8"
  }
 },
 "nbformat": 4,
 "nbformat_minor": 4
}
