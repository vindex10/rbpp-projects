{
 "cells": [
  {
   "cell_type": "markdown",
   "metadata": {},
   "source": [
    "Higgs search sandbox\n",
    "---------------------------------\n",
    "\n",
    "Event selection based on https://arxiv.org/abs/1802.04146"
   ]
  },
  {
   "cell_type": "code",
   "execution_count": 1,
   "metadata": {},
   "outputs": [],
   "source": [
    "import os\n",
    "\n",
    "import numpy as np\n",
    "import scipy as sp\n",
    "from scipy import sparse\n",
    "import pandas as pd\n",
    "import matplotlib.pyplot as plt\n",
    "\n",
    "import uproot"
   ]
  },
  {
   "cell_type": "code",
   "execution_count": 2,
   "metadata": {},
   "outputs": [],
   "source": [
    "data_path = \"/afs/cern.ch/user/a/ananiev/cernbox/data/\""
   ]
  },
  {
   "cell_type": "code",
   "execution_count": 3,
   "metadata": {},
   "outputs": [],
   "source": [
    "datasets = {\n",
    "    \"GamGam\": {\n",
    "        \"Data\": [\n",
    "            \"data_A.GamGam\",\n",
    "            \"data_B.GamGam\",\n",
    "            \"data_C.GamGam\",\n",
    "            \"data_D.GamGam\"\n",
    "        ],\n",
    "        \"MC\": [\n",
    "            (\"mc_341081.ttH125_gamgam.GamGam\", {\"tag\": \"tt\"}),\n",
    "            (\"mc_343981.ggH125_gamgam.GamGam\", {\"tag\": \"gg\"}),\n",
    "            (\"mc_345041.VBFH125_gamgam.GamGam\", {\"tag\": \"VBF\"}),\n",
    "            (\"mc_345318.WpH125J_Wincl_gamgam.GamGam\", {\"tag\": \"Wp\"}),\n",
    "            (\"mc_345319.ZH125J_Zincl_gamgam.GamGam\", {\"tag\": \"Z\"})\n",
    "\n",
    "        ]\n",
    "    }\n",
    "}"
   ]
  },
  {
   "cell_type": "code",
   "execution_count": 5,
   "metadata": {},
   "outputs": [],
   "source": [
    "def yield_events_with_meta(datasets, type_filter=None):\n",
    "    if type_filter is None:\n",
    "        type_filter = [\"MC\"]\n",
    "    \n",
    "    for process_name, process in datasets.items():\n",
    "        print(\"Process: \", process_name)\n",
    "        for type_name, thetype in process.items():\n",
    "            print(\"Type: \", type_name)\n",
    "            if type_name not in type_filter:\n",
    "                continue\n",
    "            for filedata in thetype:\n",
    "                try:\n",
    "                    filename, meta = filedata\n",
    "                except ValueError:\n",
    "                    filename = filedata\n",
    "                    meta = {}\n",
    "                print(\"File: \", filename)\n",
    "                fullpath = os.path.join(\"root://\", data_path, process_name, type_name, f\"{filename}.root\")\n",
    "                with uproot.open(fullpath) as f:\n",
    "                    print(\"Total Num Events: \", f[\"mini\"].numentries)\n",
    "                    entrysteps = 100000\n",
    "                    for i, events in enumerate(f[\"mini\"].iterate([\"*\"], entrysteps=entrysteps)):\n",
    "                        print(\"Processing: \", (i+1)*entrysteps)\n",
    "                        yield events, meta"
   ]
  },
  {
   "cell_type": "code",
   "execution_count": 6,
   "metadata": {},
   "outputs": [],
   "source": [
    "def dict_apply_mask(d, mask, fields=None):\n",
    "    if fields is None:\n",
    "        fields = d.keys()\n",
    "    for f in fields:\n",
    "        d[f] = d[f][mask]"
   ]
  },
  {
   "cell_type": "code",
   "execution_count": 7,
   "metadata": {},
   "outputs": [],
   "source": [
    "def eta2tg_theta(eta):\n",
    "    tg_theta = np.exp(-eta)\n",
    "    tg_theta = 2*tg_theta**2/(1 - tg_theta**2)\n",
    "    return tg_theta"
   ]
  },
  {
   "cell_type": "code",
   "execution_count": 8,
   "metadata": {},
   "outputs": [],
   "source": [
    "def atlas_two_cosine(events, p1, p2):\n",
    "    tg_theta_1 = eta2tg_theta(events[p1+b\"_eta\"])\n",
    "    tg_theta_2 = eta2tg_theta(events[p2+b\"_eta\"])\n",
    "    cos_delta_phi = np.cos(events[p2+b\"_phi\"] - events[p1+b\"_phi\"])\n",
    "    return (cos_delta_phi + tg_theta_1*tg_theta_2)/np.sqrt((tg_theta_1**2 + 1)*(tg_theta_2**2 + 1))"
   ]
  },
  {
   "cell_type": "code",
   "execution_count": 9,
   "metadata": {},
   "outputs": [],
   "source": [
    "def photon_filter(events):\n",
    "    # macro_mask = True\n",
    "    \n",
    "    macro_events = {}\n",
    "    micro_events = {}\n",
    "    \n",
    "    macro_events[b\"photon_n\"] = events[b\"photon_n\"]\n",
    "    n_threshold = macro_events[b\"photon_n\"] >= 2\n",
    "    macro_mask = n_threshold\n",
    "    \n",
    "    micro_events[b\"photon_pt\"] = events[b\"photon_pt\"][n_threshold]\n",
    "    micro_events[b\"photon_eta\"] = events[b\"photon_eta\"][n_threshold]\n",
    "    micro_events[b\"photon_phi\"] = events[b\"photon_phi\"][n_threshold]\n",
    "    micro_events[b\"photon_E\"] = events[b\"photon_E\"][n_threshold]\n",
    "    micro_events[b\"photon_isTightID\"] = events[b\"photon_isTightID\"][n_threshold]\n",
    "    micro_events[b\"photon_trigMatched\"] = events[b\"photon_trigMatched\"][n_threshold]\n",
    "    micro_events[b\"photon_ptcone30\"] = events[b\"photon_ptcone30\"][n_threshold]\n",
    "    micro_events[b\"photon_etcone20\"] = events[b\"photon_etcone20\"][n_threshold]\n",
    "    \n",
    "    \n",
    "    pts = micro_events[b\"photon_pt\"].argsort(ascending=False)\n",
    "    row_indices = np.arange(pts.shape[0])\n",
    "    lead_pts = pts[:, 0]\n",
    "    sublead_pts = pts[:, 1]\n",
    "    \n",
    "    \n",
    "    macro_events[b\"photon_n\"] = macro_events[b\"photon_n\"][n_threshold]\n",
    "    macro_events[b\"photon_lead_pt\"] = micro_events[b\"photon_pt\"][row_indices, lead_pts]\n",
    "    macro_events[b\"photon_lead_eta\"] = micro_events[b\"photon_eta\"][row_indices, lead_pts]\n",
    "    macro_events[b\"photon_lead_phi\"] = micro_events[b\"photon_phi\"][row_indices, lead_pts]\n",
    "    macro_events[b\"photon_lead_E\"] = micro_events[b\"photon_E\"][row_indices, lead_pts]\n",
    "    macro_events[b\"photon_lead_isTightID\"] = micro_events[b\"photon_isTightID\"][row_indices, lead_pts]\n",
    "    macro_events[b\"photon_lead_trigMatched\"] = micro_events[b\"photon_trigMatched\"][row_indices, lead_pts]\n",
    "    macro_events[b\"photon_lead_ptcone30\"] = micro_events[b\"photon_ptcone30\"][row_indices, lead_pts]\n",
    "    macro_events[b\"photon_lead_etcone20\"] = micro_events[b\"photon_etcone20\"][row_indices, lead_pts]\n",
    "    macro_events[b\"photon_sublead_pt\"] = micro_events[b\"photon_pt\"][row_indices, sublead_pts]\n",
    "    macro_events[b\"photon_sublead_eta\"] = micro_events[b\"photon_eta\"][row_indices, sublead_pts]\n",
    "    macro_events[b\"photon_sublead_phi\"] = micro_events[b\"photon_phi\"][row_indices, sublead_pts]\n",
    "    macro_events[b\"photon_sublead_E\"] = micro_events[b\"photon_E\"][row_indices, sublead_pts]\n",
    "    macro_events[b\"photon_sublead_isTightID\"] = micro_events[b\"photon_isTightID\"][row_indices, sublead_pts]\n",
    "    macro_events[b\"photon_sublead_trigMatched\"] = micro_events[b\"photon_trigMatched\"][row_indices, sublead_pts]\n",
    "    macro_events[b\"photon_sublead_ptcone30\"] = micro_events[b\"photon_ptcone30\"][row_indices, sublead_pts]\n",
    "    macro_events[b\"photon_sublead_etcone20\"] = micro_events[b\"photon_etcone20\"][row_indices, sublead_pts]\n",
    "    \n",
    "    macro_filter = (  (macro_events[b\"photon_lead_pt\"] > 25000)\n",
    "                    &\n",
    "                      (macro_events[b\"photon_sublead_pt\"] > 25000)\n",
    "                    &\n",
    "                      (macro_events[b\"photon_lead_isTightID\"])\n",
    "                    &\n",
    "                      (macro_events[b\"photon_sublead_isTightID\"])\n",
    "                    &\n",
    "                      (macro_events[b\"photon_lead_trigMatched\"])\n",
    "                    &\n",
    "                      (macro_events[b\"photon_sublead_trigMatched\"])\n",
    "                    & \n",
    "                      (macro_events[b\"photon_lead_ptcone30\"] < 0.065)\n",
    "                    & \n",
    "                      (macro_events[b\"photon_lead_etcone20\"] < 0.065)\n",
    "                    & \n",
    "                      (macro_events[b\"photon_sublead_ptcone30\"] < 0.065)\n",
    "                    & \n",
    "                      (macro_events[b\"photon_sublead_etcone20\"] < 0.065)\n",
    "                    & \n",
    "                      (  (np.absolute(macro_events[b\"photon_lead_eta\"]) < 1.37) \n",
    "                       | \n",
    "                         (  (np.absolute(macro_events[b\"photon_lead_eta\"]) > 1.52)\n",
    "                          & (np.absolute(macro_events[b\"photon_lead_eta\"]) < 2.37)\n",
    "                         )\n",
    "                      )\n",
    "                    & (  (np.absolute(macro_events[b\"photon_sublead_eta\"]) < 1.37) \n",
    "                       | \n",
    "                         (  (np.absolute(macro_events[b\"photon_sublead_eta\"]) > 1.52)\n",
    "                          & (np.absolute(macro_events[b\"photon_sublead_eta\"]) < 2.37)\n",
    "                         )\n",
    "                      )\n",
    "                   )\n",
    "    \n",
    "    dict_apply_mask(macro_events, macro_filter)\n",
    "    macro_mask[macro_mask] = macro_filter\n",
    "\n",
    "    macro_events[b\"h_mass\"] = np.sqrt(2.*macro_events[b\"photon_lead_E\"]\n",
    "                                        *macro_events[b\"photon_sublead_E\"]\n",
    "                                        *(1. - atlas_two_cosine(macro_events, b\"photon_lead\", b\"photon_sublead\"))\n",
    "                                     )\n",
    "    \n",
    "    mass_cutoff =   (macro_events[b\"photon_lead_E\"]/macro_events[b\"h_mass\"] > 0.35) \\\n",
    "                  & (macro_events[b\"photon_sublead_E\"]/macro_events[b\"h_mass\"] > 0.25) \\\n",
    "                  & (macro_events[b\"h_mass\"] >= 105000.) \\\n",
    "                  & (macro_events[b\"h_mass\"] <= 160000)\n",
    "    \n",
    "    dict_apply_mask(macro_events, mass_cutoff)\n",
    "    macro_mask[macro_mask] = mass_cutoff\n",
    "    \n",
    "    return macro_events, macro_mask\n",
    "#photon_filter(test_events)"
   ]
  },
  {
   "cell_type": "code",
   "execution_count": 10,
   "metadata": {},
   "outputs": [],
   "source": [
    "def process_event_batch(events, bin_edges, weighted=False):\n",
    "    filtered_photons, photon_macro_mask = photon_filter(events)\n",
    "    h_masses = filtered_photons[b\"h_mass\"]/1000\n",
    "    if weighted:\n",
    "        weights = (  events[b\"mcWeight\"]\n",
    "                   * events[b'scaleFactor_PILEUP'] \n",
    "                   * events[b'scaleFactor_ELE'] \n",
    "                   * events[b'scaleFactor_MUON'] \n",
    "                   * events[b'scaleFactor_PHOTON'] \n",
    "                   * events[b'scaleFactor_TAU'] \n",
    "                   * events[b'scaleFactor_BTAG'] \n",
    "                   * events[b'scaleFactor_LepTRIGGER'] \n",
    "                   * events[b'scaleFactor_PhotonTRIGGER']\n",
    "                  )[photon_macro_mask]\n",
    "    else:\n",
    "        weights = None\n",
    "    hist = np.histogram(h_masses, bin_edges, weights=weights, density=False)[0]\n",
    "    return hist\n",
    "#process_event_batch(test_events, bin_edges)"
   ]
  },
  {
   "cell_type": "code",
   "execution_count": 11,
   "metadata": {},
   "outputs": [],
   "source": [
    "bin_edges = np.linspace(105., 160., 55, dtype=np.float64)"
   ]
  },
  {
   "cell_type": "code",
   "execution_count": 12,
   "metadata": {},
   "outputs": [
    {
     "name": "stdout",
     "output_type": "stream",
     "text": [
      "Process:  GamGam\n",
      "Type:  Data\n",
      "Type:  MC\n",
      "File:  mc_341081.ttH125_gamgam.GamGam\n",
      "Total Num Events:  576491\n",
      "Processing:  100000\n",
      "Processing:  200000\n",
      "Processing:  300000\n",
      "Processing:  400000\n",
      "Processing:  500000\n",
      "Processing:  600000\n",
      "File:  mc_343981.ggH125_gamgam.GamGam\n",
      "Total Num Events:  1054711\n",
      "Processing:  100000\n",
      "Processing:  200000\n",
      "Processing:  300000\n",
      "Processing:  400000\n",
      "Processing:  500000\n",
      "Processing:  600000\n",
      "Processing:  700000\n",
      "Processing:  800000\n",
      "Processing:  900000\n",
      "Processing:  1000000\n",
      "Processing:  1100000\n",
      "File:  mc_345041.VBFH125_gamgam.GamGam\n",
      "Total Num Events:  497468\n",
      "Processing:  100000\n",
      "Processing:  200000\n",
      "Processing:  300000\n",
      "Processing:  400000\n",
      "Processing:  500000\n",
      "File:  mc_345318.WpH125J_Wincl_gamgam.GamGam\n",
      "Total Num Events:  113765\n",
      "Processing:  100000\n",
      "Processing:  200000\n",
      "File:  mc_345319.ZH125J_Zincl_gamgam.GamGam\n",
      "Total Num Events:  230900\n",
      "Processing:  100000\n",
      "Processing:  200000\n",
      "Processing:  300000\n"
     ]
    }
   ],
   "source": [
    "mc_hist = np.zeros((bin_edges.shape[0] - 1,), dtype=np.float64)\n",
    "for events, meta in yield_events_with_meta(datasets, type_filter=[\"MC\"]):\n",
    "    mc_hist += process_event_batch(events, bin_edges, weighted=True)"
   ]
  },
  {
   "cell_type": "code",
   "execution_count": 13,
   "metadata": {},
   "outputs": [
    {
     "name": "stdout",
     "output_type": "stream",
     "text": [
      "Process:  GamGam\n",
      "Type:  Data\n",
      "File:  data_A.GamGam\n",
      "Total Num Events:  430344\n",
      "Processing:  100000\n",
      "Processing:  200000\n",
      "Processing:  300000\n",
      "Processing:  400000\n",
      "Processing:  500000\n",
      "File:  data_B.GamGam\n",
      "Total Num Events:  1528717\n",
      "Processing:  100000\n",
      "Processing:  200000\n",
      "Processing:  300000\n",
      "Processing:  400000\n",
      "Processing:  500000\n",
      "Processing:  600000\n",
      "Processing:  700000\n",
      "Processing:  800000\n",
      "Processing:  900000\n",
      "Processing:  1000000\n",
      "Processing:  1100000\n",
      "Processing:  1200000\n",
      "Processing:  1300000\n",
      "Processing:  1400000\n",
      "Processing:  1500000\n",
      "Processing:  1600000\n",
      "File:  data_C.GamGam\n",
      "Total Num Events:  2237187\n",
      "Processing:  100000\n",
      "Processing:  200000\n",
      "Processing:  300000\n",
      "Processing:  400000\n",
      "Processing:  500000\n",
      "Processing:  600000\n",
      "Processing:  700000\n",
      "Processing:  800000\n",
      "Processing:  900000\n",
      "Processing:  1000000\n",
      "Processing:  1100000\n",
      "Processing:  1200000\n",
      "Processing:  1300000\n",
      "Processing:  1400000\n",
      "Processing:  1500000\n",
      "Processing:  1600000\n",
      "Processing:  1700000\n",
      "Processing:  1800000\n",
      "Processing:  1900000\n",
      "Processing:  2000000\n",
      "Processing:  2100000\n",
      "Processing:  2200000\n",
      "Processing:  2300000\n",
      "File:  data_D.GamGam\n",
      "Total Num Events:  3602176\n",
      "Processing:  100000\n",
      "Processing:  200000\n",
      "Processing:  300000\n",
      "Processing:  400000\n",
      "Processing:  500000\n",
      "Processing:  600000\n",
      "Processing:  700000\n",
      "Processing:  800000\n",
      "Processing:  900000\n",
      "Processing:  1000000\n",
      "Processing:  1100000\n",
      "Processing:  1200000\n",
      "Processing:  1300000\n",
      "Processing:  1400000\n",
      "Processing:  1500000\n",
      "Processing:  1600000\n",
      "Processing:  1700000\n",
      "Processing:  1800000\n",
      "Processing:  1900000\n",
      "Processing:  2000000\n",
      "Processing:  2100000\n",
      "Processing:  2200000\n",
      "Processing:  2300000\n",
      "Processing:  2400000\n",
      "Processing:  2500000\n",
      "Processing:  2600000\n",
      "Processing:  2700000\n",
      "Processing:  2800000\n",
      "Processing:  2900000\n",
      "Processing:  3000000\n",
      "Processing:  3100000\n",
      "Processing:  3200000\n",
      "Processing:  3300000\n",
      "Processing:  3400000\n",
      "Processing:  3500000\n",
      "Processing:  3600000\n",
      "Processing:  3700000\n",
      "Type:  MC\n"
     ]
    }
   ],
   "source": [
    "data_hist = np.zeros((bin_edges.shape[0] - 1,), dtype=np.float64)\n",
    "for events, meta in yield_events_with_meta(datasets, type_filter=[\"Data\"]):\n",
    "    data_hist += process_event_batch(events, bin_edges)"
   ]
  },
  {
   "cell_type": "code",
   "execution_count": 14,
   "metadata": {},
   "outputs": [
    {
     "data": {
      "text/plain": [
       "array([290., 292., 320., 297., 252., 310., 274., 260., 254., 265., 254.,\n",
       "       238., 228., 235., 238., 223., 206., 217., 232., 214., 223., 178.,\n",
       "       190., 197., 201., 175., 208., 180., 174., 167., 183., 165., 155.,\n",
       "       166., 171., 156., 128., 145., 136., 139., 138., 160., 132., 140.,\n",
       "       140., 124., 127., 142., 116., 129., 109., 119., 128.,  95.])"
      ]
     },
     "execution_count": 14,
     "metadata": {},
     "output_type": "execute_result"
    }
   ],
   "source": [
    "data_hist"
   ]
  },
  {
   "cell_type": "code",
   "execution_count": 15,
   "metadata": {},
   "outputs": [
    {
     "data": {
      "text/plain": [
       "array([16199.35243678, 15843.12203121, 20123.72954369, 26251.97677612,\n",
       "       34318.02109337, 43510.74938583, 49311.36810303, 48587.30461502,\n",
       "       51716.84046173, 49145.23864746, 42975.56729889, 41261.50500488,\n",
       "       41529.93376923, 40033.38075256, 40060.93556213, 38345.75634766,\n",
       "       40052.8021698 , 40825.79386902, 46111.89175415, 52837.22071838,\n",
       "       53383.87867737, 48578.11976624, 46560.45587158, 41439.16662598,\n",
       "       36559.70527649, 34706.63928223, 31700.06460571, 30298.89645386,\n",
       "       28682.70358276, 26929.16644287, 23968.64880371, 23652.92263794,\n",
       "       21158.70916748, 21487.70593262, 19194.02902222, 18817.56185913,\n",
       "       16380.18908691, 17027.76208496, 14775.45571899, 14971.23471069,\n",
       "       14152.49533081, 14478.2026062 , 14038.38345337, 13100.74862671,\n",
       "       12261.56478882, 12400.58944702, 12761.36987305, 11157.20053101,\n",
       "       10481.4548645 , 11633.087677  , 11168.10284424, 10688.35845947,\n",
       "       11258.00668335, 10046.38296509])"
      ]
     },
     "execution_count": 15,
     "metadata": {},
     "output_type": "execute_result"
    }
   ],
   "source": [
    "mc_hist"
   ]
  },
  {
   "cell_type": "code",
   "execution_count": 16,
   "metadata": {},
   "outputs": [],
   "source": [
    "bin_mid = (bin_edges[1:] + bin_edges[:-1])/2\n",
    "bin_size = (bin_edges[1:] - bin_edges[:-1])"
   ]
  },
  {
   "cell_type": "code",
   "execution_count": 17,
   "metadata": {},
   "outputs": [
    {
     "data": {
      "text/plain": [
       "<matplotlib.collections.PathCollection at 0x7f6f67b2bd30>"
      ]
     },
     "execution_count": 17,
     "metadata": {},
     "output_type": "execute_result"
    },
    {
     "data": {
      "image/png": "[encoded data removed]",
      "text/plain": [
       "<Figure size 432x288 with 1 Axes>"
      ]
     },
     "metadata": {
      "needs_background": "light"
     },
     "output_type": "display_data"
    }
   ],
   "source": [
    "plt.bar(bin_mid, mc_hist, width=bin_size)\n",
    "plt.scatter(bin_mid, data_hist/data_hist.sum()*mc_hist.sum())"
   ]
  },
  {
   "cell_type": "code",
   "execution_count": 18,
   "metadata": {},
   "outputs": [],
   "source": [
    "test = uproot.open(os.path.join(\"root://\", data_path, \"GamGam\", \"MC\", f\"{datasets['GamGam']['MC'][0][0]}.root\"))"
   ]
  },
  {
   "cell_type": "code",
   "execution_count": 19,
   "metadata": {},
   "outputs": [
    {
     "data": {
      "text/plain": [
       "[b'runNumber',\n",
       " b'eventNumber',\n",
       " b'channelNumber',\n",
       " b'mcWeight',\n",
       " b'scaleFactor_PILEUP',\n",
       " b'scaleFactor_ELE',\n",
       " b'scaleFactor_MUON',\n",
       " b'scaleFactor_PHOTON',\n",
       " b'scaleFactor_TAU',\n",
       " b'scaleFactor_BTAG',\n",
       " b'scaleFactor_LepTRIGGER',\n",
       " b'scaleFactor_PhotonTRIGGER',\n",
       " b'trigE',\n",
       " b'trigM',\n",
       " b'trigP',\n",
       " b'lep_n',\n",
       " b'lep_truthMatched',\n",
       " b'lep_trigMatched',\n",
       " b'lep_pt',\n",
       " b'lep_eta',\n",
       " b'lep_phi',\n",
       " b'lep_E',\n",
       " b'lep_z0',\n",
       " b'lep_charge',\n",
       " b'lep_type',\n",
       " b'lep_isTightID',\n",
       " b'lep_ptcone30',\n",
       " b'lep_etcone20',\n",
       " b'lep_trackd0pvunbiased',\n",
       " b'lep_tracksigd0pvunbiased',\n",
       " b'met_et',\n",
       " b'met_phi',\n",
       " b'jet_n',\n",
       " b'jet_pt',\n",
       " b'jet_eta',\n",
       " b'jet_phi',\n",
       " b'jet_E',\n",
       " b'jet_jvt',\n",
       " b'jet_trueflav',\n",
       " b'jet_truthMatched',\n",
       " b'jet_MV2c10',\n",
       " b'photon_n',\n",
       " b'photon_truthMatched',\n",
       " b'photon_trigMatched',\n",
       " b'photon_pt',\n",
       " b'photon_eta',\n",
       " b'photon_phi',\n",
       " b'photon_E',\n",
       " b'photon_isTightID',\n",
       " b'photon_ptcone30',\n",
       " b'photon_etcone20',\n",
       " b'photon_convType',\n",
       " b'tau_n',\n",
       " b'tau_pt',\n",
       " b'tau_eta',\n",
       " b'tau_phi',\n",
       " b'tau_E',\n",
       " b'tau_isTightID',\n",
       " b'tau_truthMatched',\n",
       " b'tau_trigMatched',\n",
       " b'tau_nTracks',\n",
       " b'tau_BDTid',\n",
       " b'ditau_m',\n",
       " b'lep_pt_syst',\n",
       " b'met_et_syst',\n",
       " b'jet_pt_syst',\n",
       " b'photon_pt_syst',\n",
       " b'tau_pt_syst',\n",
       " b'XSection',\n",
       " b'SumWeights',\n",
       " b'largeRjet_n',\n",
       " b'largeRjet_pt',\n",
       " b'largeRjet_eta',\n",
       " b'largeRjet_phi',\n",
       " b'largeRjet_E',\n",
       " b'largeRjet_m',\n",
       " b'largeRjet_truthMatched',\n",
       " b'largeRjet_D2',\n",
       " b'largeRjet_tau32',\n",
       " b'largeRjet_pt_syst',\n",
       " b'tau_charge']"
      ]
     },
     "execution_count": 19,
     "metadata": {},
     "output_type": "execute_result"
    }
   ],
   "source": [
    "test[\"mini\"].keys()"
   ]
  },
  {
   "cell_type": "code",
   "execution_count": 20,
   "metadata": {},
   "outputs": [],
   "source": [
    "test_events = next(test[\"mini\"].iterate([\"mcWeight\", \"SumWeights\", \"scale*\", \"photon_*\"], entrystop=10))"
   ]
  },
  {
   "cell_type": "code",
   "execution_count": 22,
   "metadata": {},
   "outputs": [
    {
     "data": {
      "text/plain": [
       "576491"
      ]
     },
     "execution_count": 22,
     "metadata": {},
     "output_type": "execute_result"
    }
   ],
   "source": [
    "test[\"mini\"].numentries"
   ]
  }
 ],
 "metadata": {
  "kernelspec": {
   "display_name": "Python 3",
   "language": "python",
   "name": "python3"
  },
  "language_info": {
   "codemirror_mode": {
    "name": "ipython",
    "version": 3
   },
   "file_extension": ".py",
   "mimetype": "text/x-python",
   "name": "python",
   "nbconvert_exporter": "python",
   "pygments_lexer": "ipython3",
   "version": "3.6.8"
  }
 },
 "nbformat": 4,
 "nbformat_minor": 4
}
