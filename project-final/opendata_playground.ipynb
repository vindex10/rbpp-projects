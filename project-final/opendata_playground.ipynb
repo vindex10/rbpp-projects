{
 "cells": [
  {
   "cell_type": "markdown",
   "metadata": {},
   "source": [
    "Higgs search sandbox\n",
    "---------------------------------\n",
    "\n",
    "Event selection based on https://arxiv.org/abs/1802.04146"
   ]
  },
  {
   "cell_type": "code",
   "execution_count": 6,
   "metadata": {},
   "outputs": [],
   "source": [
    "import os\n",
    "\n",
    "import numpy as np\n",
    "import scipy as sp\n",
    "from scipy import sparse\n",
    "import pandas as pd\n",
    "import matplotlib.pyplot as plt\n",
    "\n",
    "import uproot"
   ]
  },
  {
   "cell_type": "code",
   "execution_count": 7,
   "metadata": {},
   "outputs": [],
   "source": [
    "data_path = \"/afs/cern.ch/user/a/ananiev/cernbox/data/\""
   ]
  },
  {
   "cell_type": "code",
   "execution_count": 8,
   "metadata": {},
   "outputs": [],
   "source": [
    "datasets = {\n",
    "    \"GamGam\": {\n",
    "        \"Data\": [\n",
    "            \"data_A.GamGam\",\n",
    "            \"data_B.GamGam\",\n",
    "            \"data_C.GamGam\",\n",
    "            \"data_D.GamGam\"\n",
    "        ],\n",
    "        \"MC\": [\n",
    "            (\"mc_341081.ttH125_gamgam.GamGam\", {\"tag\": \"tt\"}),\n",
    "            (\"mc_343981.ggH125_gamgam.GamGam\", {\"tag\": \"gg\"}),\n",
    "            (\"mc_345041.VBFH125_gamgam.GamGam\", {\"tag\": \"VBF\"}),\n",
    "            (\"mc_345318.WpH125J_Wincl_gamgam.GamGam\", {\"tag\": \"Wp\"}),\n",
    "            (\"mc_345319.ZH125J_Zincl_gamgam.GamGam\", {\"tag\": \"Z\"})\n",
    "\n",
    "        ]\n",
    "    }\n",
    "}"
   ]
  },
  {
   "cell_type": "code",
   "execution_count": 44,
   "metadata": {},
   "outputs": [],
   "source": [
    "def yield_files_with_meta(datasets, type_filter=None):\n",
    "    if type_filter is None:\n",
    "        type_filter = [\"MC\"]\n",
    "    \n",
    "    for process_name, process in datasets.items():\n",
    "        print(\"Process: \", process_name)\n",
    "        for type_name, thetype in process.items():\n",
    "            print(\"Type: \", type_name)\n",
    "            if type_name not in type_filter:\n",
    "                continue\n",
    "            for filedata in thetype:\n",
    "                try:\n",
    "                    filename, meta = filedata\n",
    "                except ValueError:\n",
    "                    filename = filedata\n",
    "                    meta = {}\n",
    "                print(\"File: \", filename)\n",
    "                fullpath = os.path.join(\"root://\", data_path, process_name, type_name, f\"{filename}.root\")\n",
    "                yield (process_name, type_name, filename), fullpath"
   ]
  },
  {
   "cell_type": "code",
   "execution_count": 10,
   "metadata": {},
   "outputs": [],
   "source": [
    "def dict_apply_mask(d, mask, fields=None):\n",
    "    if fields is None:\n",
    "        fields = d.keys()\n",
    "    for f in fields:\n",
    "        d[f] = d[f][mask]"
   ]
  },
  {
   "cell_type": "code",
   "execution_count": 11,
   "metadata": {},
   "outputs": [],
   "source": [
    "def eta2tg_theta(eta):\n",
    "    tg_theta = np.exp(-eta)\n",
    "    tg_theta = 2*tg_theta**2/(1 - tg_theta**2)\n",
    "    return tg_theta"
   ]
  },
  {
   "cell_type": "code",
   "execution_count": 12,
   "metadata": {},
   "outputs": [],
   "source": [
    "def atlas_two_cosine(events, p1, p2):\n",
    "    tg_theta_1 = eta2tg_theta(events[p1+b\"_eta\"])\n",
    "    tg_theta_2 = eta2tg_theta(events[p2+b\"_eta\"])\n",
    "    cos_delta_phi = np.cos(events[p2+b\"_phi\"] - events[p1+b\"_phi\"])\n",
    "    return (cos_delta_phi + tg_theta_1*tg_theta_2)/np.sqrt((tg_theta_1**2 + 1)*(tg_theta_2**2 + 1))"
   ]
  },
  {
   "cell_type": "code",
   "execution_count": 13,
   "metadata": {},
   "outputs": [],
   "source": [
    "def photon_filter(events):\n",
    "    # macro_mask = True\n",
    "    \n",
    "    macro_events = {}\n",
    "    micro_events = {}\n",
    "    \n",
    "    macro_events[b\"photon_n\"] = events[b\"photon_n\"]\n",
    "    n_threshold = macro_events[b\"photon_n\"] >= 2\n",
    "    macro_mask = n_threshold\n",
    "    \n",
    "    micro_events[b\"photon_pt\"] = events[b\"photon_pt\"][n_threshold]\n",
    "    micro_events[b\"photon_eta\"] = events[b\"photon_eta\"][n_threshold]\n",
    "    micro_events[b\"photon_phi\"] = events[b\"photon_phi\"][n_threshold]\n",
    "    micro_events[b\"photon_E\"] = events[b\"photon_E\"][n_threshold]\n",
    "    micro_events[b\"photon_isTightID\"] = events[b\"photon_isTightID\"][n_threshold]\n",
    "    micro_events[b\"photon_trigMatched\"] = events[b\"photon_trigMatched\"][n_threshold]\n",
    "    micro_events[b\"photon_ptcone30\"] = events[b\"photon_ptcone30\"][n_threshold]\n",
    "    micro_events[b\"photon_etcone20\"] = events[b\"photon_etcone20\"][n_threshold]\n",
    "    \n",
    "    \n",
    "    pts = micro_events[b\"photon_pt\"].argsort(ascending=False)\n",
    "    row_indices = np.arange(pts.shape[0])\n",
    "    lead_pts = pts[:, 0]\n",
    "    sublead_pts = pts[:, 1]\n",
    "    \n",
    "    \n",
    "    macro_events[b\"photon_n\"] = macro_events[b\"photon_n\"][n_threshold]\n",
    "    macro_events[b\"photon_lead_pt\"] = micro_events[b\"photon_pt\"][row_indices, lead_pts]\n",
    "    macro_events[b\"photon_lead_eta\"] = micro_events[b\"photon_eta\"][row_indices, lead_pts]\n",
    "    macro_events[b\"photon_lead_phi\"] = micro_events[b\"photon_phi\"][row_indices, lead_pts]\n",
    "    macro_events[b\"photon_lead_E\"] = micro_events[b\"photon_E\"][row_indices, lead_pts]\n",
    "    macro_events[b\"photon_lead_isTightID\"] = micro_events[b\"photon_isTightID\"][row_indices, lead_pts]\n",
    "    macro_events[b\"photon_lead_trigMatched\"] = micro_events[b\"photon_trigMatched\"][row_indices, lead_pts]\n",
    "    macro_events[b\"photon_lead_ptcone30\"] = micro_events[b\"photon_ptcone30\"][row_indices, lead_pts]\n",
    "    macro_events[b\"photon_lead_etcone20\"] = micro_events[b\"photon_etcone20\"][row_indices, lead_pts]\n",
    "    macro_events[b\"photon_sublead_pt\"] = micro_events[b\"photon_pt\"][row_indices, sublead_pts]\n",
    "    macro_events[b\"photon_sublead_eta\"] = micro_events[b\"photon_eta\"][row_indices, sublead_pts]\n",
    "    macro_events[b\"photon_sublead_phi\"] = micro_events[b\"photon_phi\"][row_indices, sublead_pts]\n",
    "    macro_events[b\"photon_sublead_E\"] = micro_events[b\"photon_E\"][row_indices, sublead_pts]\n",
    "    macro_events[b\"photon_sublead_isTightID\"] = micro_events[b\"photon_isTightID\"][row_indices, sublead_pts]\n",
    "    macro_events[b\"photon_sublead_trigMatched\"] = micro_events[b\"photon_trigMatched\"][row_indices, sublead_pts]\n",
    "    macro_events[b\"photon_sublead_ptcone30\"] = micro_events[b\"photon_ptcone30\"][row_indices, sublead_pts]\n",
    "    macro_events[b\"photon_sublead_etcone20\"] = micro_events[b\"photon_etcone20\"][row_indices, sublead_pts]\n",
    "    \n",
    "    macro_filter = (  (macro_events[b\"photon_lead_pt\"] > 25000)\n",
    "                    &\n",
    "                      (macro_events[b\"photon_sublead_pt\"] > 25000)\n",
    "                    &\n",
    "                      (macro_events[b\"photon_lead_isTightID\"])\n",
    "                    &\n",
    "                      (macro_events[b\"photon_sublead_isTightID\"])\n",
    "                    &\n",
    "                      (macro_events[b\"photon_lead_trigMatched\"])\n",
    "                    &\n",
    "                      (macro_events[b\"photon_sublead_trigMatched\"])\n",
    "                    & \n",
    "                      (macro_events[b\"photon_lead_ptcone30\"] < 0.065)\n",
    "                    & \n",
    "                      (macro_events[b\"photon_lead_etcone20\"] < 0.065)\n",
    "                    & \n",
    "                      (macro_events[b\"photon_sublead_ptcone30\"] < 0.065)\n",
    "                    & \n",
    "                      (macro_events[b\"photon_sublead_etcone20\"] < 0.065)\n",
    "                    & \n",
    "                      (  (np.absolute(macro_events[b\"photon_lead_eta\"]) < 1.37) \n",
    "                       | \n",
    "                         (  (np.absolute(macro_events[b\"photon_lead_eta\"]) > 1.52)\n",
    "                          & (np.absolute(macro_events[b\"photon_lead_eta\"]) < 2.37)\n",
    "                         )\n",
    "                      )\n",
    "                    & (  (np.absolute(macro_events[b\"photon_sublead_eta\"]) < 1.37) \n",
    "                       | \n",
    "                         (  (np.absolute(macro_events[b\"photon_sublead_eta\"]) > 1.52)\n",
    "                          & (np.absolute(macro_events[b\"photon_sublead_eta\"]) < 2.37)\n",
    "                         )\n",
    "                      )\n",
    "                   )\n",
    "    \n",
    "    dict_apply_mask(macro_events, macro_filter)\n",
    "    macro_mask[macro_mask] = macro_filter\n",
    "\n",
    "    macro_events[b\"h_mass\"] = np.sqrt(2.*macro_events[b\"photon_lead_E\"]\n",
    "                                        *macro_events[b\"photon_sublead_E\"]\n",
    "                                        *(1. - atlas_two_cosine(macro_events, b\"photon_lead\", b\"photon_sublead\"))\n",
    "                                     )\n",
    "    \n",
    "    mass_cutoff =   (macro_events[b\"photon_lead_E\"]/macro_events[b\"h_mass\"] > 0.35) \\\n",
    "                  & (macro_events[b\"photon_sublead_E\"]/macro_events[b\"h_mass\"] > 0.25) \\\n",
    "                  & (macro_events[b\"h_mass\"] >= 105000.) \\\n",
    "                  & (macro_events[b\"h_mass\"] <= 160000)\n",
    "    \n",
    "    dict_apply_mask(macro_events, mass_cutoff)\n",
    "    macro_mask[macro_mask] = mass_cutoff\n",
    "    \n",
    "    return macro_events, macro_mask\n",
    "#photon_filter(test_events)"
   ]
  },
  {
   "cell_type": "code",
   "execution_count": 36,
   "metadata": {},
   "outputs": [],
   "source": [
    "def process_event_batch(events, bin_edges, weighted=False):\n",
    "    filtered_photons, photon_macro_mask = photon_filter(events)\n",
    "    h_masses = filtered_photons[b\"h_mass\"]/1000\n",
    "    if weighted:\n",
    "        total_weights = events[b\"SumWeights\"][0]\n",
    "        x_section = events[b\"XSection\"][0]\n",
    "        weights = (  events[b\"mcWeight\"]\n",
    "                   * events[b'scaleFactor_PILEUP'] \n",
    "                   * events[b'scaleFactor_ELE'] \n",
    "                   * events[b'scaleFactor_MUON'] \n",
    "                   * events[b'scaleFactor_PHOTON'] \n",
    "                   * events[b'scaleFactor_TAU'] \n",
    "                   * events[b'scaleFactor_BTAG'] \n",
    "                   * events[b'scaleFactor_LepTRIGGER'] \n",
    "                   * events[b'scaleFactor_PhotonTRIGGER']\n",
    "                  )[photon_macro_mask]/total_weights*x_section\n",
    "    else:\n",
    "        weights = None\n",
    "    hist = np.histogram(h_masses, bin_edges, weights=weights, density=False)[0]\n",
    "    return hist\n",
    "#process_event_batch(test_events, bin_edges)"
   ]
  },
  {
   "cell_type": "code",
   "execution_count": 37,
   "metadata": {},
   "outputs": [],
   "source": [
    "bin_edges = np.linspace(105., 160., 55, dtype=np.float64)"
   ]
  },
  {
   "cell_type": "code",
   "execution_count": 61,
   "metadata": {},
   "outputs": [],
   "source": [
    "def histogram_per_file(datasets, binedges, type_filter):\n",
    "    entrysteps = 100000\n",
    "    \n",
    "    histograms = {}\n",
    "    for (process, thetype, name), fullpath in yield_files_with_meta(datasets, type_filter):\n",
    "        label = f\"{process}:{thetype}:{name}\"\n",
    "        histograms[label] = np.zeros((bin_edges.shape[0] - 1,), dtype=np.float64)\n",
    "        thehist = histograms[label]\n",
    "        is_mc = (\"mc\" == thetype.lower())\n",
    "        with uproot.open(fullpath) as f:\n",
    "            total_events = f[\"mini\"].numentries\n",
    "            print(\"Total Num Events: \", total_events)\n",
    "            for i, events in enumerate(f[\"mini\"].iterate([\"*\"], entrysteps=entrysteps)):\n",
    "                print(\"Processing: \", (i+1)*entrysteps)\n",
    "                thehist += process_event_batch(events, bin_edges, weighted=is_mc)\n",
    "    return histograms"
   ]
  },
  {
   "cell_type": "code",
   "execution_count": 63,
   "metadata": {},
   "outputs": [
    {
     "name": "stdout",
     "output_type": "stream",
     "text": [
      "Process:  GamGam\n",
      "Type:  Data\n",
      "Type:  MC\n",
      "File:  mc_341081.ttH125_gamgam.GamGam\n",
      "Total Num Events:  576491\n",
      "Processing:  100000\n",
      "Processing:  200000\n",
      "Processing:  300000\n",
      "Processing:  400000\n",
      "Processing:  500000\n",
      "Processing:  600000\n",
      "File:  mc_343981.ggH125_gamgam.GamGam\n",
      "Total Num Events:  1054711\n",
      "Processing:  100000\n",
      "Processing:  200000\n",
      "Processing:  300000\n",
      "Processing:  400000\n",
      "Processing:  500000\n",
      "Processing:  600000\n",
      "Processing:  700000\n",
      "Processing:  800000\n",
      "Processing:  900000\n",
      "Processing:  1000000\n",
      "Processing:  1100000\n",
      "File:  mc_345041.VBFH125_gamgam.GamGam\n",
      "Total Num Events:  497468\n",
      "Processing:  100000\n",
      "Processing:  200000\n",
      "Processing:  300000\n",
      "Processing:  400000\n",
      "Processing:  500000\n",
      "File:  mc_345318.WpH125J_Wincl_gamgam.GamGam\n",
      "Total Num Events:  113765\n",
      "Processing:  100000\n",
      "Processing:  200000\n",
      "File:  mc_345319.ZH125J_Zincl_gamgam.GamGam\n",
      "Total Num Events:  230900\n",
      "Processing:  100000\n",
      "Processing:  200000\n",
      "Processing:  300000\n"
     ]
    }
   ],
   "source": [
    "mc_hists = histogram_per_file(datasets, bin_edges, [\"MC\"])"
   ]
  },
  {
   "cell_type": "code",
   "execution_count": 64,
   "metadata": {},
   "outputs": [
    {
     "name": "stdout",
     "output_type": "stream",
     "text": [
      "Process:  GamGam\n",
      "Type:  Data\n",
      "File:  data_A.GamGam\n",
      "Total Num Events:  430344\n",
      "Processing:  100000\n",
      "Processing:  200000\n",
      "Processing:  300000\n",
      "Processing:  400000\n",
      "Processing:  500000\n",
      "File:  data_B.GamGam\n",
      "Total Num Events:  1528717\n",
      "Processing:  100000\n",
      "Processing:  200000\n",
      "Processing:  300000\n",
      "Processing:  400000\n",
      "Processing:  500000\n",
      "Processing:  600000\n",
      "Processing:  700000\n",
      "Processing:  800000\n",
      "Processing:  900000\n",
      "Processing:  1000000\n",
      "Processing:  1100000\n",
      "Processing:  1200000\n",
      "Processing:  1300000\n",
      "Processing:  1400000\n",
      "Processing:  1500000\n",
      "Processing:  1600000\n",
      "File:  data_C.GamGam\n",
      "Total Num Events:  2237187\n",
      "Processing:  100000\n",
      "Processing:  200000\n",
      "Processing:  300000\n",
      "Processing:  400000\n",
      "Processing:  500000\n",
      "Processing:  600000\n",
      "Processing:  700000\n",
      "Processing:  800000\n",
      "Processing:  900000\n",
      "Processing:  1000000\n",
      "Processing:  1100000\n",
      "Processing:  1200000\n",
      "Processing:  1300000\n",
      "Processing:  1400000\n",
      "Processing:  1500000\n",
      "Processing:  1600000\n",
      "Processing:  1700000\n",
      "Processing:  1800000\n",
      "Processing:  1900000\n",
      "Processing:  2000000\n",
      "Processing:  2100000\n",
      "Processing:  2200000\n",
      "Processing:  2300000\n",
      "File:  data_D.GamGam\n",
      "Total Num Events:  3602176\n",
      "Processing:  100000\n",
      "Processing:  200000\n",
      "Processing:  300000\n",
      "Processing:  400000\n",
      "Processing:  500000\n",
      "Processing:  600000\n",
      "Processing:  700000\n",
      "Processing:  800000\n",
      "Processing:  900000\n",
      "Processing:  1000000\n",
      "Processing:  1100000\n",
      "Processing:  1200000\n",
      "Processing:  1300000\n",
      "Processing:  1400000\n",
      "Processing:  1500000\n",
      "Processing:  1600000\n",
      "Processing:  1700000\n",
      "Processing:  1800000\n",
      "Processing:  1900000\n",
      "Processing:  2000000\n",
      "Processing:  2100000\n",
      "Processing:  2200000\n",
      "Processing:  2300000\n",
      "Processing:  2400000\n",
      "Processing:  2500000\n",
      "Processing:  2600000\n",
      "Processing:  2700000\n",
      "Processing:  2800000\n",
      "Processing:  2900000\n",
      "Processing:  3000000\n",
      "Processing:  3100000\n",
      "Processing:  3200000\n",
      "Processing:  3300000\n",
      "Processing:  3400000\n",
      "Processing:  3500000\n",
      "Processing:  3600000\n",
      "Processing:  3700000\n",
      "Type:  MC\n"
     ]
    }
   ],
   "source": [
    "data_hists = histogram_per_file(datasets, bin_edges, [\"Data\"])"
   ]
  },
  {
   "cell_type": "code",
   "execution_count": 66,
   "metadata": {},
   "outputs": [
    {
     "data": {
      "text/plain": [
       "{'GamGam:MC:mc_341081.ttH125_gamgam.GamGam': array([0.00021376, 0.00020169, 0.00028087, 0.00031466, 0.00041047,\n",
       "        0.00047743, 0.00051634, 0.00053082, 0.00054596, 0.00049268,\n",
       "        0.00049751, 0.00055116, 0.00057144, 0.00046369, 0.00059347,\n",
       "        0.00049488, 0.00053157, 0.0005724 , 0.00058028, 0.00065371,\n",
       "        0.00060802, 0.00056904, 0.00057731, 0.00051922, 0.00057965,\n",
       "        0.00054836, 0.00055537, 0.00049814, 0.00050239, 0.00048066,\n",
       "        0.00041189, 0.00047932, 0.00053871, 0.00045519, 0.00044849,\n",
       "        0.000489  , 0.00044088, 0.00049974, 0.00042528, 0.00044202,\n",
       "        0.00039473, 0.00036565, 0.00039008, 0.00033042, 0.0002645 ,\n",
       "        0.00036574, 0.00034642, 0.00033039, 0.00030735, 0.00035451,\n",
       "        0.0002511 , 0.00033525, 0.00037698, 0.00030359]),\n",
       " 'GamGam:MC:mc_343981.ggH125_gamgam.GamGam': array([0.00026984, 0.00026036, 0.00033549, 0.00044099, 0.00058159,\n",
       "        0.00074253, 0.00083842, 0.00082502, 0.00087869, 0.00083646,\n",
       "        0.00072421, 0.00069466, 0.00069563, 0.00067356, 0.00067408,\n",
       "        0.00064065, 0.0006752 , 0.00068516, 0.00077961, 0.00089288,\n",
       "        0.00090472, 0.00081998, 0.00078503, 0.00069199, 0.00060838,\n",
       "        0.00057883, 0.00052372, 0.00049883, 0.00047302, 0.00044122,\n",
       "        0.00039068, 0.00038712, 0.00034146, 0.00034725, 0.00030775,\n",
       "        0.00030343, 0.00026242, 0.0002709 , 0.00023495, 0.00023788,\n",
       "        0.00022526, 0.00023005, 0.00022658, 0.0002089 , 0.00019343,\n",
       "        0.00019789, 0.0002057 , 0.00017566, 0.00016298, 0.0001863 ,\n",
       "        0.00017938, 0.00017002, 0.00017825, 0.00015872]),\n",
       " 'GamGam:MC:mc_345041.VBFH125_gamgam.GamGam': array([0.0002524 , 0.00030326, 0.00031086, 0.00037198, 0.00040896,\n",
       "        0.00045424, 0.0005612 , 0.00056223, 0.00059227, 0.00053819,\n",
       "        0.00056622, 0.00054607, 0.00060799, 0.00054702, 0.00052305,\n",
       "        0.0005891 , 0.00051763, 0.00057129, 0.00056271, 0.00066285,\n",
       "        0.00063661, 0.00062372, 0.00060711, 0.00064217, 0.00056995,\n",
       "        0.00051626, 0.00055017, 0.00056216, 0.00051157, 0.00051609,\n",
       "        0.00049326, 0.0004539 , 0.00045824, 0.00047225, 0.00045156,\n",
       "        0.00041236, 0.00038366, 0.00042775, 0.00037256, 0.00037504,\n",
       "        0.00035164, 0.00037366, 0.00030182, 0.00032263, 0.00033782,\n",
       "        0.0002951 , 0.00027543, 0.00030369, 0.00031406, 0.00026595,\n",
       "        0.00025221, 0.0002638 , 0.00028511, 0.00026259]),\n",
       " 'GamGam:MC:mc_345318.WpH125J_Wincl_gamgam.GamGam': array([0.00021068, 0.00023642, 0.00022352, 0.0002667 , 0.00031583,\n",
       "        0.00031663, 0.00040791, 0.00047324, 0.00045058, 0.00048522,\n",
       "        0.00052061, 0.00043206, 0.00041726, 0.0003768 , 0.00045509,\n",
       "        0.00042999, 0.00039861, 0.00039214, 0.00046183, 0.00051043,\n",
       "        0.00045505, 0.000488  , 0.00045633, 0.0004668 , 0.00048317,\n",
       "        0.00049409, 0.00039274, 0.0003579 , 0.00040163, 0.00040556,\n",
       "        0.00035766, 0.00029159, 0.00040891, 0.00039675, 0.00029324,\n",
       "        0.00033391, 0.00028585, 0.00029099, 0.00025819, 0.0002697 ,\n",
       "        0.00024581, 0.00027049, 0.00022232, 0.00023039, 0.00029114,\n",
       "        0.00024758, 0.00024434, 0.00021069, 0.0002285 , 0.00022197,\n",
       "        0.00028246, 0.00013276, 0.00021005, 0.00016969]),\n",
       " 'GamGam:MC:mc_345319.ZH125J_Zincl_gamgam.GamGam': array([0.00025671, 0.00025418, 0.00030213, 0.00028116, 0.00033448,\n",
       "        0.00034555, 0.00043414, 0.00043538, 0.00049792, 0.00048374,\n",
       "        0.00048705, 0.00048835, 0.00047252, 0.00049682, 0.00050036,\n",
       "        0.00044518, 0.00047159, 0.00050787, 0.00055064, 0.00055109,\n",
       "        0.0005744 , 0.00054625, 0.00053779, 0.00050071, 0.0005342 ,\n",
       "        0.00052568, 0.00046253, 0.00041792, 0.00038921, 0.00044379,\n",
       "        0.00040909, 0.00040981, 0.00038349, 0.00038419, 0.00041733,\n",
       "        0.00033785, 0.00030432, 0.00028298, 0.00025858, 0.00029399,\n",
       "        0.00028305, 0.00025725, 0.00025661, 0.00027572, 0.00025463,\n",
       "        0.00024524, 0.00025025, 0.00023169, 0.00024578, 0.00022326,\n",
       "        0.0002415 , 0.00022697, 0.00022549, 0.00023249])}"
      ]
     },
     "execution_count": 66,
     "metadata": {},
     "output_type": "execute_result"
    }
   ],
   "source": [
    "mc_hists"
   ]
  },
  {
   "cell_type": "code",
   "execution_count": 67,
   "metadata": {},
   "outputs": [
    {
     "data": {
      "text/plain": [
       "{'GamGam:Data:data_A.GamGam': array([16., 16., 11., 18., 12., 22., 13., 11., 18., 16.,  8., 10., 11.,\n",
       "        10., 20., 13., 10., 11., 11., 14., 13.,  6., 13.,  9., 14.,  8.,\n",
       "        10.,  4., 17.,  6., 10.,  7.,  8.,  8., 10., 12.,  4.,  5.,  9.,\n",
       "         7.,  9., 11.,  8.,  8.,  6.,  7., 11.,  2.,  7.,  4.,  7.,  6.,\n",
       "        11.,  1.]),\n",
       " 'GamGam:Data:data_B.GamGam': array([67., 54., 57., 59., 48., 63., 63., 67., 48., 54., 49., 40., 36.,\n",
       "        36., 48., 46., 44., 32., 50., 33., 53., 36., 35., 40., 32., 42.,\n",
       "        36., 43., 25., 22., 41., 29., 35., 36., 39., 30., 22., 37., 25.,\n",
       "        25., 28., 34., 20., 33., 25., 30., 32., 34., 21., 25., 23., 24.,\n",
       "        23., 16.]),\n",
       " 'GamGam:Data:data_C.GamGam': array([ 77.,  72., 109.,  86.,  82.,  79.,  70.,  68.,  67.,  79.,  78.,\n",
       "         71.,  77.,  73.,  51.,  67.,  57.,  62.,  57.,  63.,  59.,  60.,\n",
       "         46.,  56.,  58.,  34.,  56.,  51.,  45.,  51.,  53.,  46.,  45.,\n",
       "         35.,  37.,  45.,  34.,  42.,  42.,  49.,  40.,  47.,  46.,  41.,\n",
       "         45.,  33.,  33.,  47.,  39.,  36.,  29.,  35.,  39.,  30.]),\n",
       " 'GamGam:Data:data_D.GamGam': array([130., 150., 143., 134., 110., 146., 128., 114., 121., 116., 119.,\n",
       "        117., 104., 116., 119.,  97.,  95., 112., 114., 104.,  98.,  76.,\n",
       "         96.,  92.,  97.,  91., 106.,  82.,  87.,  88.,  79.,  83.,  67.,\n",
       "         87.,  85.,  69.,  68.,  61.,  60.,  58.,  61.,  68.,  58.,  58.,\n",
       "         64.,  54.,  51.,  59.,  49.,  64.,  50.,  54.,  55.,  48.])}"
      ]
     },
     "execution_count": 67,
     "metadata": {},
     "output_type": "execute_result"
    }
   ],
   "source": [
    "data_hists"
   ]
  },
  {
   "cell_type": "code",
   "execution_count": 92,
   "metadata": {},
   "outputs": [],
   "source": [
    "data_hist = sum(data_hists.values())"
   ]
  },
  {
   "cell_type": "code",
   "execution_count": 96,
   "metadata": {},
   "outputs": [],
   "source": [
    "mc_hist = sum(mc_hists.values())"
   ]
  },
  {
   "cell_type": "code",
   "execution_count": 98,
   "metadata": {},
   "outputs": [
    {
     "data": {
      "text/plain": [
       "0.11286390700661286"
      ]
     },
     "execution_count": 98,
     "metadata": {},
     "output_type": "execute_result"
    }
   ],
   "source": [
    "mc_hist.sum()"
   ]
  },
  {
   "cell_type": "code",
   "execution_count": 99,
   "metadata": {},
   "outputs": [
    {
     "data": {
      "text/plain": [
       "10335.0"
      ]
     },
     "execution_count": 99,
     "metadata": {},
     "output_type": "execute_result"
    }
   ],
   "source": [
    "data_hist.sum()"
   ]
  },
  {
   "cell_type": "code",
   "execution_count": 100,
   "metadata": {},
   "outputs": [],
   "source": [
    "bin_mid = (bin_edges[1:] + bin_edges[:-1])/2\n",
    "bin_size = (bin_edges[1:] - bin_edges[:-1])"
   ]
  },
  {
   "cell_type": "code",
   "execution_count": 71,
   "metadata": {},
   "outputs": [],
   "source": [
    "L = 1000"
   ]
  },
  {
   "cell_type": "code",
   "execution_count": 101,
   "metadata": {},
   "outputs": [
    {
     "data": {
      "text/plain": [
       "array([0.00120338, 0.0012559 , 0.00145287, 0.0016755 , 0.00205133,\n",
       "       0.00233638, 0.002758  , 0.0028267 , 0.00296542, 0.00283627,\n",
       "       0.0027956 , 0.0027123 , 0.00276485, 0.00255789, 0.00274605,\n",
       "       0.0025998 , 0.0025946 , 0.00272886, 0.00293506, 0.00327095,\n",
       "       0.0031788 , 0.00304698, 0.00296356, 0.0028209 , 0.00277534,\n",
       "       0.00266323, 0.00248453, 0.00233496, 0.00227782, 0.00228732,\n",
       "       0.00206258, 0.00202175, 0.0021308 , 0.00205563, 0.00191837,\n",
       "       0.00187655, 0.00167713, 0.00177236, 0.00154955, 0.00161863,\n",
       "       0.00150048, 0.0014971 , 0.00139741, 0.00136805, 0.00134152,\n",
       "       0.00135155, 0.00132215, 0.00125212, 0.00125868, 0.00125199,\n",
       "       0.00120665, 0.0011288 , 0.00127587, 0.00112707])"
      ]
     },
     "execution_count": 101,
     "metadata": {},
     "output_type": "execute_result"
    }
   ],
   "source": [
    "mc_hist"
   ]
  },
  {
   "cell_type": "code",
   "execution_count": 102,
   "metadata": {},
   "outputs": [
    {
     "data": {
      "text/plain": [
       "array([290., 292., 320., 297., 252., 310., 274., 260., 254., 265., 254.,\n",
       "       238., 228., 235., 238., 223., 206., 217., 232., 214., 223., 178.,\n",
       "       190., 197., 201., 175., 208., 180., 174., 167., 183., 165., 155.,\n",
       "       166., 171., 156., 128., 145., 136., 139., 138., 160., 132., 140.,\n",
       "       140., 124., 127., 142., 116., 129., 109., 119., 128.,  95.])"
      ]
     },
     "execution_count": 102,
     "metadata": {},
     "output_type": "execute_result"
    }
   ],
   "source": [
    "data_hist"
   ]
  },
  {
   "cell_type": "code",
   "execution_count": 103,
   "metadata": {},
   "outputs": [
    {
     "data": {
      "text/plain": [
       "<matplotlib.collections.PathCollection at 0x7fa64e53c940>"
      ]
     },
     "execution_count": 103,
     "metadata": {},
     "output_type": "execute_result"
    },
    {
     "data": {
      "image/png": "[encoded data removed]",
      "text/plain": [
       "<Figure size 432x288 with 1 Axes>"
      ]
     },
     "metadata": {
      "needs_background": "light"
     },
     "output_type": "display_data"
    }
   ],
   "source": [
    "plt.bar(bin_mid, mc_hist*1000*10.6, width=bin_size, zorder=0)\n",
    "plt.scatter(bin_mid, data_hist, zorder=1)"
   ]
  },
  {
   "cell_type": "code",
   "execution_count": 25,
   "metadata": {},
   "outputs": [],
   "source": [
    "test_mc = uproot.open(os.path.join(\"root://\", data_path, \"GamGam\", \"MC\", f\"{datasets['GamGam']['MC'][0][0]}.root\"))"
   ]
  },
  {
   "cell_type": "code",
   "execution_count": 27,
   "metadata": {},
   "outputs": [],
   "source": [
    "test_data = uproot.open(os.path.join(\"root://\", data_path, \"GamGam\", \"Data\", f\"{datasets['GamGam']['Data'][0]}.root\"))"
   ]
  },
  {
   "cell_type": "code",
   "execution_count": 28,
   "metadata": {},
   "outputs": [
    {
     "data": {
      "text/plain": [
       "[b'runNumber',\n",
       " b'eventNumber',\n",
       " b'channelNumber',\n",
       " b'mcWeight',\n",
       " b'scaleFactor_PILEUP',\n",
       " b'scaleFactor_ELE',\n",
       " b'scaleFactor_MUON',\n",
       " b'scaleFactor_PHOTON',\n",
       " b'scaleFactor_TAU',\n",
       " b'scaleFactor_BTAG',\n",
       " b'scaleFactor_LepTRIGGER',\n",
       " b'scaleFactor_PhotonTRIGGER',\n",
       " b'trigE',\n",
       " b'trigM',\n",
       " b'trigP',\n",
       " b'lep_n',\n",
       " b'lep_truthMatched',\n",
       " b'lep_trigMatched',\n",
       " b'lep_pt',\n",
       " b'lep_eta',\n",
       " b'lep_phi',\n",
       " b'lep_E',\n",
       " b'lep_z0',\n",
       " b'lep_charge',\n",
       " b'lep_type',\n",
       " b'lep_isTightID',\n",
       " b'lep_ptcone30',\n",
       " b'lep_etcone20',\n",
       " b'lep_trackd0pvunbiased',\n",
       " b'lep_tracksigd0pvunbiased',\n",
       " b'met_et',\n",
       " b'met_phi',\n",
       " b'jet_n',\n",
       " b'jet_pt',\n",
       " b'jet_eta',\n",
       " b'jet_phi',\n",
       " b'jet_E',\n",
       " b'jet_jvt',\n",
       " b'jet_trueflav',\n",
       " b'jet_truthMatched',\n",
       " b'jet_MV2c10',\n",
       " b'photon_n',\n",
       " b'photon_truthMatched',\n",
       " b'photon_trigMatched',\n",
       " b'photon_pt',\n",
       " b'photon_eta',\n",
       " b'photon_phi',\n",
       " b'photon_E',\n",
       " b'photon_isTightID',\n",
       " b'photon_ptcone30',\n",
       " b'photon_etcone20',\n",
       " b'photon_convType',\n",
       " b'tau_n',\n",
       " b'tau_pt',\n",
       " b'tau_eta',\n",
       " b'tau_phi',\n",
       " b'tau_E',\n",
       " b'tau_isTightID',\n",
       " b'tau_truthMatched',\n",
       " b'tau_trigMatched',\n",
       " b'tau_nTracks',\n",
       " b'tau_BDTid',\n",
       " b'ditau_m',\n",
       " b'lep_pt_syst',\n",
       " b'met_et_syst',\n",
       " b'jet_pt_syst',\n",
       " b'photon_pt_syst',\n",
       " b'tau_pt_syst',\n",
       " b'XSection',\n",
       " b'SumWeights',\n",
       " b'largeRjet_n',\n",
       " b'largeRjet_pt',\n",
       " b'largeRjet_eta',\n",
       " b'largeRjet_phi',\n",
       " b'largeRjet_E',\n",
       " b'largeRjet_m',\n",
       " b'largeRjet_truthMatched',\n",
       " b'largeRjet_D2',\n",
       " b'largeRjet_tau32',\n",
       " b'largeRjet_pt_syst',\n",
       " b'tau_charge']"
      ]
     },
     "execution_count": 28,
     "metadata": {},
     "output_type": "execute_result"
    }
   ],
   "source": [
    "test_data[\"mini\"].keys()"
   ]
  },
  {
   "cell_type": "code",
   "execution_count": 53,
   "metadata": {},
   "outputs": [],
   "source": [
    "test_mc_events = next(test_mc[\"mini\"].iterate([\"mcWeight\", \"SumWeights\", \"scale*\", \"photon_*\", \"XSection\"], entrystop=10))"
   ]
  },
  {
   "cell_type": "code",
   "execution_count": 54,
   "metadata": {},
   "outputs": [],
   "source": [
    "test_data_events = next(test_data[\"mini\"].iterate([\"mcWeight\", \"SumWeights\", \"scale*\", \"photon_*\", \"XSection\"], entrystop=10))"
   ]
  },
  {
   "cell_type": "code",
   "execution_count": 55,
   "metadata": {},
   "outputs": [
    {
     "data": {
      "text/plain": [
       "576491"
      ]
     },
     "execution_count": 55,
     "metadata": {},
     "output_type": "execute_result"
    }
   ],
   "source": [
    "test[\"mini\"].numentries"
   ]
  },
  {
   "cell_type": "code",
   "execution_count": 56,
   "metadata": {},
   "outputs": [
    {
     "data": {
      "text/plain": [
       "dict_keys([b'mcWeight', b'SumWeights', b'scaleFactor_PILEUP', b'scaleFactor_ELE', b'scaleFactor_MUON', b'scaleFactor_PHOTON', b'scaleFactor_TAU', b'scaleFactor_BTAG', b'scaleFactor_LepTRIGGER', b'scaleFactor_PhotonTRIGGER', b'photon_n', b'photon_truthMatched', b'photon_trigMatched', b'photon_pt', b'photon_eta', b'photon_phi', b'photon_E', b'photon_isTightID', b'photon_ptcone30', b'photon_etcone20', b'photon_convType', b'photon_pt_syst', b'XSection'])"
      ]
     },
     "execution_count": 56,
     "metadata": {},
     "output_type": "execute_result"
    }
   ],
   "source": [
    "test_mc_events.keys()"
   ]
  },
  {
   "cell_type": "code",
   "execution_count": 57,
   "metadata": {},
   "outputs": [
    {
     "data": {
      "text/plain": [
       "array([2.6433863e-06, 2.6433863e-06, 2.6433863e-06, 2.6433863e-06,\n",
       "       2.6433863e-06, 2.6433863e-06, 2.6433863e-06, 2.6433863e-06,\n",
       "       2.6433863e-06, 2.6433863e-06], dtype=float32)"
      ]
     },
     "execution_count": 57,
     "metadata": {},
     "output_type": "execute_result"
    }
   ],
   "source": [
    "test_mc_events[b\"XSection\"]"
   ]
  },
  {
   "cell_type": "code",
   "execution_count": 84,
   "metadata": {},
   "outputs": [],
   "source": [
    "total_weights = test_mc_events[b\"SumWeights\"][0]\n",
    "x_section = test_mc_events[b\"XSection\"][0]\n",
    "weights = (  test_mc_events[b\"mcWeight\"]\n",
    "           * test_mc_events[b'scaleFactor_PILEUP'] \n",
    "           * test_mc_events[b'scaleFactor_ELE'] \n",
    "           * test_mc_events[b'scaleFactor_MUON'] \n",
    "           * test_mc_events[b'scaleFactor_PHOTON'] \n",
    "           * test_mc_events[b'scaleFactor_TAU'] \n",
    "           * test_mc_events[b'scaleFactor_BTAG'] \n",
    "           * test_mc_events[b'scaleFactor_LepTRIGGER'] \n",
    "           * test_mc_events[b'scaleFactor_PhotonTRIGGER']\n",
    "          )/total_weights*x_section"
   ]
  },
  {
   "cell_type": "code",
   "execution_count": 91,
   "metadata": {},
   "outputs": [
    {
     "data": {
      "text/plain": [
       "array([-4.1094459e-12, -3.5343677e-12, -4.1031982e-12,  3.7236720e-12,\n",
       "        4.2147254e-12, -4.3056995e-12,  3.4625393e-12, -4.5628865e-12,\n",
       "        6.1836135e-12, -5.2693930e-12], dtype=float32)"
      ]
     },
     "execution_count": 91,
     "metadata": {},
     "output_type": "execute_result"
    }
   ],
   "source": [
    "weights"
   ]
  },
  {
   "cell_type": "code",
   "execution_count": 86,
   "metadata": {},
   "outputs": [
    {
     "data": {
      "text/plain": [
       "485440.0"
      ]
     },
     "execution_count": 86,
     "metadata": {},
     "output_type": "execute_result"
    }
   ],
   "source": [
    "total_weights"
   ]
  },
  {
   "cell_type": "code",
   "execution_count": 87,
   "metadata": {},
   "outputs": [
    {
     "data": {
      "text/plain": [
       "2.6433863e-06"
      ]
     },
     "execution_count": 87,
     "metadata": {},
     "output_type": "execute_result"
    }
   ],
   "source": [
    "x_section"
   ]
  },
  {
   "cell_type": "code",
   "execution_count": null,
   "metadata": {},
   "outputs": [],
   "source": []
  }
 ],
 "metadata": {
  "kernelspec": {
   "display_name": "Python 3",
   "language": "python",
   "name": "python3"
  },
  "language_info": {
   "codemirror_mode": {
    "name": "ipython",
    "version": 3
   },
   "file_extension": ".py",
   "mimetype": "text/x-python",
   "name": "python",
   "nbconvert_exporter": "python",
   "pygments_lexer": "ipython3",
   "version": "3.6.8"
  }
 },
 "nbformat": 4,
 "nbformat_minor": 4
}
