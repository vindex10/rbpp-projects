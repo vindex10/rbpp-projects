{
 "cells": [
  {
   "cell_type": "code",
   "execution_count": 7,
   "metadata": {},
   "outputs": [],
   "source": [
    "import os\n",
    "import time\n",
    "\n",
    "import numpy as np\n",
    "import scipy as sp\n",
    "from scipy import sparse\n",
    "import seaborn as sns\n",
    "import pandas as pd\n",
    "import matplotlib.pyplot as plt\n",
    "plt.rcParams[\"figure.figsize\"] = (12, 8)\n",
    "plt.rcParams[\"font.size\"] = 18\n",
    "\n",
    "import uproot"
   ]
  },
  {
   "cell_type": "code",
   "execution_count": 8,
   "metadata": {},
   "outputs": [],
   "source": [
    "datasets = {\n",
    "    \"GamGam\": {\n",
    "        \"Data\": [\n",
    "            \"data_A.GamGam\",\n",
    "            \"data_B.GamGam\",\n",
    "            \"data_C.GamGam\",\n",
    "            \"data_D.GamGam\"\n",
    "        ],\n",
    "        \"MC\": [\n",
    "            (\"mc_341081.ttH125_gamgam.GamGam\", {\"tag\": \"tt\"}),\n",
    "            (\"mc_343981.ggH125_gamgam.GamGam\", {\"tag\": \"gg\"}),\n",
    "            (\"mc_345041.VBFH125_gamgam.GamGam\", {\"tag\": \"VBF\"}),\n",
    "            (\"mc_345318.WpH125J_Wincl_gamgam.GamGam\", {\"tag\": \"Wp\"}),\n",
    "            (\"mc_345319.ZH125J_Zincl_gamgam.GamGam\", {\"tag\": \"Z\"})\n",
    "\n",
    "        ]\n",
    "    }\n",
    "}"
   ]
  },
  {
   "cell_type": "code",
   "execution_count": 9,
   "metadata": {},
   "outputs": [],
   "source": [
    "data_path = \"root://eosuser.cern.ch//eos/user/a/ananiev/data/\"\n",
    "output_path = \"/afs/cern.ch/user/a/ananiev/cernbox/output/\""
   ]
  },
  {
   "cell_type": "code",
   "execution_count": 10,
   "metadata": {},
   "outputs": [
    {
     "data": {
      "text/html": [
       "<div>\n",
       "<style scoped>\n",
       "    .dataframe tbody tr th:only-of-type {\n",
       "        vertical-align: middle;\n",
       "    }\n",
       "\n",
       "    .dataframe tbody tr th {\n",
       "        vertical-align: top;\n",
       "    }\n",
       "\n",
       "    .dataframe thead th {\n",
       "        text-align: right;\n",
       "    }\n",
       "</style>\n",
       "<table border=\"1\" class=\"dataframe\">\n",
       "  <thead>\n",
       "    <tr style=\"text-align: right;\">\n",
       "      <th></th>\n",
       "      <th>photon_n</th>\n",
       "      <th>photon_1lead_pt</th>\n",
       "      <th>photon_1lead_eta</th>\n",
       "      <th>photon_1lead_phi</th>\n",
       "      <th>photon_1lead_E</th>\n",
       "      <th>photon_1lead_etcone20</th>\n",
       "      <th>photon_2lead_pt</th>\n",
       "      <th>photon_2lead_eta</th>\n",
       "      <th>photon_2lead_phi</th>\n",
       "      <th>photon_2lead_E</th>\n",
       "      <th>...</th>\n",
       "      <th>lep_ptcone30_std</th>\n",
       "      <th>lep_etcone20_min</th>\n",
       "      <th>lep_etcone20_max</th>\n",
       "      <th>lep_etcone20_mean</th>\n",
       "      <th>lep_etcone20_sum</th>\n",
       "      <th>lep_etcone20_std</th>\n",
       "      <th>weight</th>\n",
       "      <th>met_et</th>\n",
       "      <th>met_phi</th>\n",
       "      <th>label</th>\n",
       "    </tr>\n",
       "  </thead>\n",
       "  <tbody>\n",
       "    <tr>\n",
       "      <th>0</th>\n",
       "      <td>2</td>\n",
       "      <td>108118.750</td>\n",
       "      <td>1.054053</td>\n",
       "      <td>1.932582</td>\n",
       "      <td>173951.20</td>\n",
       "      <td>-464.99518</td>\n",
       "      <td>68904.586</td>\n",
       "      <td>0.885877</td>\n",
       "      <td>-2.737826</td>\n",
       "      <td>97757.080</td>\n",
       "      <td>...</td>\n",
       "      <td>NaN</td>\n",
       "      <td>inf</td>\n",
       "      <td>-inf</td>\n",
       "      <td>NaN</td>\n",
       "      <td>0.0</td>\n",
       "      <td>NaN</td>\n",
       "      <td>4.848383e-09</td>\n",
       "      <td>32510.855</td>\n",
       "      <td>-0.724335</td>\n",
       "      <td>Wp</td>\n",
       "    </tr>\n",
       "    <tr>\n",
       "      <th>1</th>\n",
       "      <td>2</td>\n",
       "      <td>70211.480</td>\n",
       "      <td>-0.197367</td>\n",
       "      <td>0.104515</td>\n",
       "      <td>71583.42</td>\n",
       "      <td>-231.95108</td>\n",
       "      <td>66904.695</td>\n",
       "      <td>0.508796</td>\n",
       "      <td>-1.859310</td>\n",
       "      <td>75753.060</td>\n",
       "      <td>...</td>\n",
       "      <td>NaN</td>\n",
       "      <td>inf</td>\n",
       "      <td>-inf</td>\n",
       "      <td>NaN</td>\n",
       "      <td>0.0</td>\n",
       "      <td>NaN</td>\n",
       "      <td>9.902610e-09</td>\n",
       "      <td>15634.184</td>\n",
       "      <td>1.559383</td>\n",
       "      <td>Wp</td>\n",
       "    </tr>\n",
       "    <tr>\n",
       "      <th>2</th>\n",
       "      <td>2</td>\n",
       "      <td>76359.230</td>\n",
       "      <td>-0.221558</td>\n",
       "      <td>1.503668</td>\n",
       "      <td>78241.07</td>\n",
       "      <td>-344.44138</td>\n",
       "      <td>29710.664</td>\n",
       "      <td>-1.773660</td>\n",
       "      <td>-1.037330</td>\n",
       "      <td>90054.370</td>\n",
       "      <td>...</td>\n",
       "      <td>NaN</td>\n",
       "      <td>inf</td>\n",
       "      <td>-inf</td>\n",
       "      <td>NaN</td>\n",
       "      <td>0.0</td>\n",
       "      <td>NaN</td>\n",
       "      <td>2.729051e-09</td>\n",
       "      <td>40178.410</td>\n",
       "      <td>-1.659941</td>\n",
       "      <td>Wp</td>\n",
       "    </tr>\n",
       "    <tr>\n",
       "      <th>3</th>\n",
       "      <td>2</td>\n",
       "      <td>96153.880</td>\n",
       "      <td>-1.658281</td>\n",
       "      <td>1.243575</td>\n",
       "      <td>261574.27</td>\n",
       "      <td>-86.92144</td>\n",
       "      <td>39025.430</td>\n",
       "      <td>-0.772355</td>\n",
       "      <td>-2.543020</td>\n",
       "      <td>51255.656</td>\n",
       "      <td>...</td>\n",
       "      <td>NaN</td>\n",
       "      <td>inf</td>\n",
       "      <td>-inf</td>\n",
       "      <td>NaN</td>\n",
       "      <td>0.0</td>\n",
       "      <td>NaN</td>\n",
       "      <td>0.000000e+00</td>\n",
       "      <td>86179.500</td>\n",
       "      <td>-2.024302</td>\n",
       "      <td>Wp</td>\n",
       "    </tr>\n",
       "    <tr>\n",
       "      <th>4</th>\n",
       "      <td>2</td>\n",
       "      <td>118062.484</td>\n",
       "      <td>-1.306239</td>\n",
       "      <td>3.044942</td>\n",
       "      <td>233946.62</td>\n",
       "      <td>-208.06148</td>\n",
       "      <td>32457.004</td>\n",
       "      <td>0.272842</td>\n",
       "      <td>-2.156659</td>\n",
       "      <td>33672.617</td>\n",
       "      <td>...</td>\n",
       "      <td>NaN</td>\n",
       "      <td>inf</td>\n",
       "      <td>-inf</td>\n",
       "      <td>NaN</td>\n",
       "      <td>0.0</td>\n",
       "      <td>NaN</td>\n",
       "      <td>4.493264e-09</td>\n",
       "      <td>23402.252</td>\n",
       "      <td>-2.056279</td>\n",
       "      <td>Wp</td>\n",
       "    </tr>\n",
       "  </tbody>\n",
       "</table>\n",
       "<p>5 rows × 57 columns</p>\n",
       "</div>"
      ],
      "text/plain": [
       "   photon_n  photon_1lead_pt  photon_1lead_eta  photon_1lead_phi  \\\n",
       "0         2       108118.750          1.054053          1.932582   \n",
       "1         2        70211.480         -0.197367          0.104515   \n",
       "2         2        76359.230         -0.221558          1.503668   \n",
       "3         2        96153.880         -1.658281          1.243575   \n",
       "4         2       118062.484         -1.306239          3.044942   \n",
       "\n",
       "   photon_1lead_E  photon_1lead_etcone20  photon_2lead_pt  photon_2lead_eta  \\\n",
       "0       173951.20             -464.99518        68904.586          0.885877   \n",
       "1        71583.42             -231.95108        66904.695          0.508796   \n",
       "2        78241.07             -344.44138        29710.664         -1.773660   \n",
       "3       261574.27              -86.92144        39025.430         -0.772355   \n",
       "4       233946.62             -208.06148        32457.004          0.272842   \n",
       "\n",
       "   photon_2lead_phi  photon_2lead_E  ...  lep_ptcone30_std  lep_etcone20_min  \\\n",
       "0         -2.737826       97757.080  ...               NaN               inf   \n",
       "1         -1.859310       75753.060  ...               NaN               inf   \n",
       "2         -1.037330       90054.370  ...               NaN               inf   \n",
       "3         -2.543020       51255.656  ...               NaN               inf   \n",
       "4         -2.156659       33672.617  ...               NaN               inf   \n",
       "\n",
       "   lep_etcone20_max  lep_etcone20_mean  lep_etcone20_sum  lep_etcone20_std  \\\n",
       "0              -inf                NaN               0.0               NaN   \n",
       "1              -inf                NaN               0.0               NaN   \n",
       "2              -inf                NaN               0.0               NaN   \n",
       "3              -inf                NaN               0.0               NaN   \n",
       "4              -inf                NaN               0.0               NaN   \n",
       "\n",
       "         weight     met_et   met_phi  label  \n",
       "0  4.848383e-09  32510.855 -0.724335     Wp  \n",
       "1  9.902610e-09  15634.184  1.559383     Wp  \n",
       "2  2.729051e-09  40178.410 -1.659941     Wp  \n",
       "3  0.000000e+00  86179.500 -2.024302     Wp  \n",
       "4  4.493264e-09  23402.252 -2.056279     Wp  \n",
       "\n",
       "[5 rows x 57 columns]"
      ]
     },
     "execution_count": 10,
     "metadata": {},
     "output_type": "execute_result"
    }
   ],
   "source": [
    "features = pd.read_csv(os.path.join(output_path, \"hgg_features.tsv\"), sep=\"\\t\")\n",
    "features.head()"
   ]
  },
  {
   "cell_type": "code",
   "execution_count": 11,
   "metadata": {},
   "outputs": [],
   "source": [
    "def total_nums(datasets, features):\n",
    "    nums = {}\n",
    "    \n",
    "    counts = features[\"label\"].value_counts()\n",
    "    nums[\"after\"] = dict(zip(counts.index.values, counts.values))\n",
    "    \n",
    "    nums[\"before\"] = {}\n",
    "    prefix = os.path.join(data_path, \"GamGam/MC\")\n",
    "    for fname, meta in datasets[\"GamGam\"][\"MC\"]:\n",
    "        with uproot.open(os.path.join(prefix, f\"{fname}.root\")) as f:\n",
    "            nums[\"before\"][meta[\"tag\"]] = f[\"mini\"].numentries\n",
    "    \n",
    "    return pd.DataFrame(nums)\n",
    "hgg_total_nums = total_nums(datasets, features)"
   ]
  },
  {
   "cell_type": "code",
   "execution_count": 12,
   "metadata": {},
   "outputs": [
    {
     "data": {
      "text/plain": [
       "None"
      ]
     },
     "metadata": {},
     "output_type": "display_data"
    },
    {
     "data": {
      "image/png": "[encoded data removed]",
      "text/plain": [
       "<Figure size 864x576 with 2 Axes>"
      ]
     },
     "metadata": {
      "needs_background": "light"
     },
     "output_type": "display_data"
    }
   ],
   "source": [
    "fig, ax = plt.subplots()\n",
    "def plot_nums(ax, nums):\n",
    "    befores = nums[\"before\"].sort_values(ascending=False)\n",
    "    afters = nums[\"after\"].sort_values(ascending=False)\n",
    "    lines = {}\n",
    "    lines[\"before\"] = ax.bar(befores.index.values, befores.values)\n",
    "    ax.set_ylabel(\"before\")\n",
    "    ax1 = ax.twinx()\n",
    "    lines[\"after\"] = ax1.bar(afters.index.values, afters.values, color=\"orange\")\n",
    "    ax1.set_ylabel(\"after\")\n",
    "    ax.legend(lines.values(), lines.keys())\n",
    "display(plot_nums(ax, hgg_total_nums))\n",
    "fig.savefig(\"output/total_nums.png\");"
   ]
  },
  {
   "cell_type": "code",
   "execution_count": 14,
   "metadata": {
    "tags": [
     "hide"
    ]
   },
   "outputs": [
    {
     "data": {
      "text/plain": [
       "after      280617\n",
       "before    2473335\n",
       "dtype: int64"
      ]
     },
     "execution_count": 14,
     "metadata": {},
     "output_type": "execute_result"
    }
   ],
   "source": [
    "hgg_total_nums.sum()"
   ]
  }
 ],
 "metadata": {
  "celltoolbar": "Tags",
  "kernelspec": {
   "display_name": "Python 3",
   "language": "python",
   "name": "python3"
  },
  "language_info": {
   "codemirror_mode": {
    "name": "ipython",
    "version": 3
   },
   "file_extension": ".py",
   "mimetype": "text/x-python",
   "name": "python",
   "nbconvert_exporter": "python",
   "pygments_lexer": "ipython3",
   "version": "3.6.8"
  }
 },
 "nbformat": 4,
 "nbformat_minor": 4
}
